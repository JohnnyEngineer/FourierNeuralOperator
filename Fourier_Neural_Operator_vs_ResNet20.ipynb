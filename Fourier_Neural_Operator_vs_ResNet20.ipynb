{
  "nbformat": 4,
  "nbformat_minor": 0,
  "metadata": {
    "colab": {
      "name": "Fourier Neural Operator vs ResNet20.ipynb",
      "provenance": [],
      "collapsed_sections": [],
      "toc_visible": true,
      "machine_shape": "hm"
    },
    "kernelspec": {
      "name": "python3",
      "display_name": "Python 3"
    },
    "accelerator": "GPU"
  },
  "cells": [
    {
      "cell_type": "markdown",
      "metadata": {
        "id": "vlaOXR7oJ2D4"
      },
      "source": [
        "## Copyrights https://raw.githubusercontent.com/zongyi-li"
      ]
    },
    {
      "cell_type": "code",
      "metadata": {
        "colab": {
          "base_uri": "https://localhost:8080/"
        },
        "id": "SdPshCYCDioB",
        "outputId": "c7173a3b-1cd0-4b78-9056-cd70574fe787"
      },
      "source": [
        "!wget https://raw.githubusercontent.com/zongyi-li/fourier_neural_operator/master/utilities3.py"
      ],
      "execution_count": 4,
      "outputs": [
        {
          "output_type": "stream",
          "text": [
            "--2021-07-11 19:39:52--  https://raw.githubusercontent.com/zongyi-li/fourier_neural_operator/master/utilities3.py\n",
            "Resolving raw.githubusercontent.com (raw.githubusercontent.com)... 185.199.108.133, 185.199.109.133, 185.199.110.133, ...\n",
            "Connecting to raw.githubusercontent.com (raw.githubusercontent.com)|185.199.108.133|:443... connected.\n",
            "HTTP request sent, awaiting response... 200 OK\n",
            "Length: 8877 (8.7K) [text/plain]\n",
            "Saving to: ‘utilities3.py’\n",
            "\n",
            "\rutilities3.py         0%[                    ]       0  --.-KB/s               \rutilities3.py       100%[===================>]   8.67K  --.-KB/s    in 0s      \n",
            "\n",
            "2021-07-11 19:39:52 (84.4 MB/s) - ‘utilities3.py’ saved [8877/8877]\n",
            "\n"
          ],
          "name": "stdout"
        }
      ]
    },
    {
      "cell_type": "markdown",
      "metadata": {
        "id": "GIoK7-xU8MJN"
      },
      "source": [
        "# ResNet"
      ]
    },
    {
      "cell_type": "markdown",
      "metadata": {
        "id": "4DtBKi6FJwpz"
      },
      "source": [
        "## Copyrights https://github.com/akamaster/pytorch_resnet_cifar10/blob/master/resnet.py"
      ]
    },
    {
      "cell_type": "code",
      "metadata": {
        "id": "bczdoHoXAvo7"
      },
      "source": [
        "import torch\n",
        "import torch.nn as nn\n",
        "import torch.nn.functional as F\n",
        "import torch.nn.init as init\n",
        "\n",
        "from torch.autograd import Variable\n",
        "\n",
        "__all__ = ['ResNet', 'resnet20', 'resnet32', 'resnet44', 'resnet56', 'resnet110', 'resnet1202']\n",
        "\n",
        "def _weights_init(m):\n",
        "    classname = m.__class__.__name__\n",
        "    #print(classname)\n",
        "    if isinstance(m, nn.Linear) or isinstance(m, nn.Conv2d):\n",
        "        init.kaiming_normal_(m.weight)\n",
        "\n",
        "class LambdaLayer(nn.Module):\n",
        "    def __init__(self, lambd):\n",
        "        super(LambdaLayer, self).__init__()\n",
        "        self.lambd = lambd\n",
        "\n",
        "    def forward(self, x):\n",
        "        return self.lambd(x)\n",
        "\n",
        "\n",
        "class BasicBlock(nn.Module):\n",
        "    expansion = 1\n",
        "\n",
        "    def __init__(self, in_planes, planes, stride=1, option='A'):\n",
        "        super(BasicBlock, self).__init__()\n",
        "        self.conv1 = nn.Conv2d(in_planes, planes, kernel_size=3, stride=stride, padding=1, bias=False)\n",
        "        self.bn1 = nn.BatchNorm2d(planes)\n",
        "        self.conv2 = nn.Conv2d(planes, planes, kernel_size=3, stride=1, padding=1, bias=False)\n",
        "        self.bn2 = nn.BatchNorm2d(planes)\n",
        "\n",
        "        self.shortcut = nn.Sequential()\n",
        "        if stride != 1 or in_planes != planes:\n",
        "            if option == 'A':\n",
        "                \"\"\"\n",
        "                For CIFAR10 ResNet paper uses option A.\n",
        "                \"\"\"\n",
        "                self.shortcut = LambdaLayer(lambda x:\n",
        "                                            F.pad(x[:, :, ::2, ::2], (0, 0, 0, 0, planes//4, planes//4), \"constant\", 0))\n",
        "            elif option == 'B':\n",
        "                self.shortcut = nn.Sequential(\n",
        "                     nn.Conv2d(in_planes, self.expansion * planes, kernel_size=1, stride=stride, bias=False),\n",
        "                     nn.BatchNorm2d(self.expansion * planes)\n",
        "                )\n",
        "\n",
        "    def forward(self, x):\n",
        "        out = F.relu(self.bn1(self.conv1(x)))\n",
        "        out = self.bn2(self.conv2(out))\n",
        "        out += self.shortcut(x)\n",
        "        out = F.relu(out)\n",
        "        return out\n",
        "\n",
        "\n",
        "class ResNet(nn.Module):\n",
        "    def __init__(self, block, num_blocks, num_classes=10):\n",
        "        super(ResNet, self).__init__()\n",
        "        self.in_planes = 16\n",
        "\n",
        "        self.conv1 = nn.Conv2d(3, 16, kernel_size=3, stride=1, padding=1, bias=False)\n",
        "        self.bn1 = nn.BatchNorm2d(16)\n",
        "        self.layer1 = self._make_layer(block, 16, num_blocks[0], stride=1)\n",
        "        self.layer2 = self._make_layer(block, 32, num_blocks[1], stride=2)\n",
        "        self.layer3 = self._make_layer(block, 64, num_blocks[2], stride=2)\n",
        "        self.linear = nn.Linear(64, num_classes)\n",
        "\n",
        "        self.apply(_weights_init)\n",
        "\n",
        "    def _make_layer(self, block, planes, num_blocks, stride):\n",
        "        strides = [stride] + [1]*(num_blocks-1)\n",
        "        layers = []\n",
        "        for stride in strides:\n",
        "            layers.append(block(self.in_planes, planes, stride))\n",
        "            self.in_planes = planes * block.expansion\n",
        "\n",
        "        return nn.Sequential(*layers)\n",
        "\n",
        "    def forward(self, x):\n",
        "        out = F.relu(self.bn1(self.conv1(x)))\n",
        "        out = self.layer1(out)\n",
        "        out = self.layer2(out)\n",
        "        out = self.layer3(out)\n",
        "        out = F.avg_pool2d(out, out.size()[3])\n",
        "        out = out.view(out.size(0), -1)\n",
        "        out = self.linear(out)\n",
        "        return out\n",
        "\n",
        "\n",
        "def resnet20():\n",
        "    return ResNet(BasicBlock, [3, 3, 3])\n",
        "\n",
        "\n",
        "def resnet32():\n",
        "    return ResNet(BasicBlock, [5, 5, 5])\n",
        "\n",
        "\n",
        "def resnet44():\n",
        "    return ResNet(BasicBlock, [7, 7, 7])\n",
        "\n",
        "\n",
        "def resnet56():\n",
        "    return ResNet(BasicBlock, [9, 9, 9])\n",
        "\n",
        "\n",
        "def resnet110():\n",
        "    return ResNet(BasicBlock, [18, 18, 18])\n",
        "\n",
        "\n",
        "def resnet1202():\n",
        "    return ResNet(BasicBlock, [200, 200, 200])\n",
        "\n",
        "model=resnet20().cuda()"
      ],
      "execution_count": 5,
      "outputs": []
    },
    {
      "cell_type": "markdown",
      "metadata": {
        "id": "XywjsY5pJ7Sz"
      },
      "source": [
        "# Model Architecture"
      ]
    },
    {
      "cell_type": "code",
      "metadata": {
        "colab": {
          "base_uri": "https://localhost:8080/"
        },
        "id": "K8UdHLSyDnRH",
        "outputId": "48f83023-67df-41d5-b0db-3d4dc505ce1c"
      },
      "source": [
        "from torchsummary import summary\n",
        "summary(model, (3,32,32))"
      ],
      "execution_count": null,
      "outputs": [
        {
          "output_type": "stream",
          "text": [
            "----------------------------------------------------------------\n",
            "        Layer (type)               Output Shape         Param #\n",
            "================================================================\n",
            "            Conv2d-1           [-1, 16, 32, 32]             432\n",
            "       BatchNorm2d-2           [-1, 16, 32, 32]              32\n",
            "            Conv2d-3           [-1, 16, 32, 32]           2,304\n",
            "       BatchNorm2d-4           [-1, 16, 32, 32]              32\n",
            "            Conv2d-5           [-1, 16, 32, 32]           2,304\n",
            "       BatchNorm2d-6           [-1, 16, 32, 32]              32\n",
            "        BasicBlock-7           [-1, 16, 32, 32]               0\n",
            "            Conv2d-8           [-1, 16, 32, 32]           2,304\n",
            "       BatchNorm2d-9           [-1, 16, 32, 32]              32\n",
            "           Conv2d-10           [-1, 16, 32, 32]           2,304\n",
            "      BatchNorm2d-11           [-1, 16, 32, 32]              32\n",
            "       BasicBlock-12           [-1, 16, 32, 32]               0\n",
            "           Conv2d-13           [-1, 16, 32, 32]           2,304\n",
            "      BatchNorm2d-14           [-1, 16, 32, 32]              32\n",
            "           Conv2d-15           [-1, 16, 32, 32]           2,304\n",
            "      BatchNorm2d-16           [-1, 16, 32, 32]              32\n",
            "       BasicBlock-17           [-1, 16, 32, 32]               0\n",
            "           Conv2d-18           [-1, 32, 16, 16]           4,608\n",
            "      BatchNorm2d-19           [-1, 32, 16, 16]              64\n",
            "           Conv2d-20           [-1, 32, 16, 16]           9,216\n",
            "      BatchNorm2d-21           [-1, 32, 16, 16]              64\n",
            "      LambdaLayer-22           [-1, 32, 16, 16]               0\n",
            "       BasicBlock-23           [-1, 32, 16, 16]               0\n",
            "           Conv2d-24           [-1, 32, 16, 16]           9,216\n",
            "      BatchNorm2d-25           [-1, 32, 16, 16]              64\n",
            "           Conv2d-26           [-1, 32, 16, 16]           9,216\n",
            "      BatchNorm2d-27           [-1, 32, 16, 16]              64\n",
            "       BasicBlock-28           [-1, 32, 16, 16]               0\n",
            "           Conv2d-29           [-1, 32, 16, 16]           9,216\n",
            "      BatchNorm2d-30           [-1, 32, 16, 16]              64\n",
            "           Conv2d-31           [-1, 32, 16, 16]           9,216\n",
            "      BatchNorm2d-32           [-1, 32, 16, 16]              64\n",
            "       BasicBlock-33           [-1, 32, 16, 16]               0\n",
            "           Conv2d-34             [-1, 64, 8, 8]          18,432\n",
            "      BatchNorm2d-35             [-1, 64, 8, 8]             128\n",
            "           Conv2d-36             [-1, 64, 8, 8]          36,864\n",
            "      BatchNorm2d-37             [-1, 64, 8, 8]             128\n",
            "      LambdaLayer-38             [-1, 64, 8, 8]               0\n",
            "       BasicBlock-39             [-1, 64, 8, 8]               0\n",
            "           Conv2d-40             [-1, 64, 8, 8]          36,864\n",
            "      BatchNorm2d-41             [-1, 64, 8, 8]             128\n",
            "           Conv2d-42             [-1, 64, 8, 8]          36,864\n",
            "      BatchNorm2d-43             [-1, 64, 8, 8]             128\n",
            "       BasicBlock-44             [-1, 64, 8, 8]               0\n",
            "           Conv2d-45             [-1, 64, 8, 8]          36,864\n",
            "      BatchNorm2d-46             [-1, 64, 8, 8]             128\n",
            "           Conv2d-47             [-1, 64, 8, 8]          36,864\n",
            "      BatchNorm2d-48             [-1, 64, 8, 8]             128\n",
            "       BasicBlock-49             [-1, 64, 8, 8]               0\n",
            "           Linear-50                   [-1, 10]             650\n",
            "================================================================\n",
            "Total params: 269,722\n",
            "Trainable params: 269,722\n",
            "Non-trainable params: 0\n",
            "----------------------------------------------------------------\n",
            "Input size (MB): 0.01\n",
            "Forward/backward pass size (MB): 3.63\n",
            "Params size (MB): 1.03\n",
            "Estimated Total Size (MB): 4.67\n",
            "----------------------------------------------------------------\n"
          ],
          "name": "stdout"
        }
      ]
    },
    {
      "cell_type": "code",
      "metadata": {
        "colab": {
          "base_uri": "https://localhost:8080/"
        },
        "id": "NSh7mCzoTArv",
        "outputId": "2b9dc556-a987-4b2c-b9f6-21ad0774ace7"
      },
      "source": [
        "# see the structure of the model\n",
        "model.eval()"
      ],
      "execution_count": null,
      "outputs": [
        {
          "output_type": "execute_result",
          "data": {
            "text/plain": [
              "ResNet(\n",
              "  (conv1): Conv2d(3, 16, kernel_size=(3, 3), stride=(1, 1), padding=(1, 1), bias=False)\n",
              "  (bn1): BatchNorm2d(16, eps=1e-05, momentum=0.1, affine=True, track_running_stats=True)\n",
              "  (layer1): Sequential(\n",
              "    (0): BasicBlock(\n",
              "      (conv1): Conv2d(16, 16, kernel_size=(3, 3), stride=(1, 1), padding=(1, 1), bias=False)\n",
              "      (bn1): BatchNorm2d(16, eps=1e-05, momentum=0.1, affine=True, track_running_stats=True)\n",
              "      (conv2): Conv2d(16, 16, kernel_size=(3, 3), stride=(1, 1), padding=(1, 1), bias=False)\n",
              "      (bn2): BatchNorm2d(16, eps=1e-05, momentum=0.1, affine=True, track_running_stats=True)\n",
              "      (shortcut): Sequential()\n",
              "    )\n",
              "    (1): BasicBlock(\n",
              "      (conv1): Conv2d(16, 16, kernel_size=(3, 3), stride=(1, 1), padding=(1, 1), bias=False)\n",
              "      (bn1): BatchNorm2d(16, eps=1e-05, momentum=0.1, affine=True, track_running_stats=True)\n",
              "      (conv2): Conv2d(16, 16, kernel_size=(3, 3), stride=(1, 1), padding=(1, 1), bias=False)\n",
              "      (bn2): BatchNorm2d(16, eps=1e-05, momentum=0.1, affine=True, track_running_stats=True)\n",
              "      (shortcut): Sequential()\n",
              "    )\n",
              "    (2): BasicBlock(\n",
              "      (conv1): Conv2d(16, 16, kernel_size=(3, 3), stride=(1, 1), padding=(1, 1), bias=False)\n",
              "      (bn1): BatchNorm2d(16, eps=1e-05, momentum=0.1, affine=True, track_running_stats=True)\n",
              "      (conv2): Conv2d(16, 16, kernel_size=(3, 3), stride=(1, 1), padding=(1, 1), bias=False)\n",
              "      (bn2): BatchNorm2d(16, eps=1e-05, momentum=0.1, affine=True, track_running_stats=True)\n",
              "      (shortcut): Sequential()\n",
              "    )\n",
              "  )\n",
              "  (layer2): Sequential(\n",
              "    (0): BasicBlock(\n",
              "      (conv1): Conv2d(16, 32, kernel_size=(3, 3), stride=(2, 2), padding=(1, 1), bias=False)\n",
              "      (bn1): BatchNorm2d(32, eps=1e-05, momentum=0.1, affine=True, track_running_stats=True)\n",
              "      (conv2): Conv2d(32, 32, kernel_size=(3, 3), stride=(1, 1), padding=(1, 1), bias=False)\n",
              "      (bn2): BatchNorm2d(32, eps=1e-05, momentum=0.1, affine=True, track_running_stats=True)\n",
              "      (shortcut): LambdaLayer()\n",
              "    )\n",
              "    (1): BasicBlock(\n",
              "      (conv1): Conv2d(32, 32, kernel_size=(3, 3), stride=(1, 1), padding=(1, 1), bias=False)\n",
              "      (bn1): BatchNorm2d(32, eps=1e-05, momentum=0.1, affine=True, track_running_stats=True)\n",
              "      (conv2): Conv2d(32, 32, kernel_size=(3, 3), stride=(1, 1), padding=(1, 1), bias=False)\n",
              "      (bn2): BatchNorm2d(32, eps=1e-05, momentum=0.1, affine=True, track_running_stats=True)\n",
              "      (shortcut): Sequential()\n",
              "    )\n",
              "    (2): BasicBlock(\n",
              "      (conv1): Conv2d(32, 32, kernel_size=(3, 3), stride=(1, 1), padding=(1, 1), bias=False)\n",
              "      (bn1): BatchNorm2d(32, eps=1e-05, momentum=0.1, affine=True, track_running_stats=True)\n",
              "      (conv2): Conv2d(32, 32, kernel_size=(3, 3), stride=(1, 1), padding=(1, 1), bias=False)\n",
              "      (bn2): BatchNorm2d(32, eps=1e-05, momentum=0.1, affine=True, track_running_stats=True)\n",
              "      (shortcut): Sequential()\n",
              "    )\n",
              "  )\n",
              "  (layer3): Sequential(\n",
              "    (0): BasicBlock(\n",
              "      (conv1): Conv2d(32, 64, kernel_size=(3, 3), stride=(2, 2), padding=(1, 1), bias=False)\n",
              "      (bn1): BatchNorm2d(64, eps=1e-05, momentum=0.1, affine=True, track_running_stats=True)\n",
              "      (conv2): Conv2d(64, 64, kernel_size=(3, 3), stride=(1, 1), padding=(1, 1), bias=False)\n",
              "      (bn2): BatchNorm2d(64, eps=1e-05, momentum=0.1, affine=True, track_running_stats=True)\n",
              "      (shortcut): LambdaLayer()\n",
              "    )\n",
              "    (1): BasicBlock(\n",
              "      (conv1): Conv2d(64, 64, kernel_size=(3, 3), stride=(1, 1), padding=(1, 1), bias=False)\n",
              "      (bn1): BatchNorm2d(64, eps=1e-05, momentum=0.1, affine=True, track_running_stats=True)\n",
              "      (conv2): Conv2d(64, 64, kernel_size=(3, 3), stride=(1, 1), padding=(1, 1), bias=False)\n",
              "      (bn2): BatchNorm2d(64, eps=1e-05, momentum=0.1, affine=True, track_running_stats=True)\n",
              "      (shortcut): Sequential()\n",
              "    )\n",
              "    (2): BasicBlock(\n",
              "      (conv1): Conv2d(64, 64, kernel_size=(3, 3), stride=(1, 1), padding=(1, 1), bias=False)\n",
              "      (bn1): BatchNorm2d(64, eps=1e-05, momentum=0.1, affine=True, track_running_stats=True)\n",
              "      (conv2): Conv2d(64, 64, kernel_size=(3, 3), stride=(1, 1), padding=(1, 1), bias=False)\n",
              "      (bn2): BatchNorm2d(64, eps=1e-05, momentum=0.1, affine=True, track_running_stats=True)\n",
              "      (shortcut): Sequential()\n",
              "    )\n",
              "  )\n",
              "  (linear): Linear(in_features=64, out_features=10, bias=True)\n",
              ")"
            ]
          },
          "metadata": {
            "tags": []
          },
          "execution_count": 3
        }
      ]
    },
    {
      "cell_type": "markdown",
      "metadata": {
        "id": "jSqe9fsoKQB_"
      },
      "source": [
        "# Verifying if the CUDA is present"
      ]
    },
    {
      "cell_type": "code",
      "metadata": {
        "colab": {
          "base_uri": "https://localhost:8080/"
        },
        "id": "badbcSKTi9UN",
        "outputId": "eea53c53-5154-4791-c02e-d01e73887828"
      },
      "source": [
        "torch.cuda.is_available()"
      ],
      "execution_count": null,
      "outputs": [
        {
          "output_type": "execute_result",
          "data": {
            "text/plain": [
              "True"
            ]
          },
          "metadata": {
            "tags": []
          },
          "execution_count": 4
        }
      ]
    },
    {
      "cell_type": "markdown",
      "metadata": {
        "id": "idSL5_iQKdu5"
      },
      "source": [
        "# Function to measure the accuracy"
      ]
    },
    {
      "cell_type": "code",
      "metadata": {
        "id": "lmpgzQNIBNof"
      },
      "source": [
        "from __future__ import print_function, absolute_import\n",
        "\n",
        "__all__ = ['accuracy']\n",
        "\n",
        "def accuracy(output, target, topk=(1,)):\n",
        "  \"\"\"Computes the precision@k for the specified values of k\"\"\"\n",
        "  maxk = max(topk)\n",
        "  batch_size = target.size(0)\n",
        "\n",
        "  _, pred = output.topk(maxk, 1, True, True)\n",
        "  pred = pred.t()\n",
        "  correct = pred.eq(target.view(1, -1).expand_as(pred))\n",
        "  res = []\n",
        "  for k in topk:\n",
        "    correct_k = correct[:k].view(-1).float().sum(0)\n",
        "    res.append(correct_k.mul_(100.0 / batch_size))\n",
        "  return res"
      ],
      "execution_count": null,
      "outputs": []
    },
    {
      "cell_type": "code",
      "metadata": {
        "colab": {
          "base_uri": "https://localhost:8080/"
        },
        "id": "T3Tt64ICBNNH",
        "outputId": "b3d76ed5-6f5c-4559-f7fb-af84f9d9c709"
      },
      "source": [
        "import torchvision.transforms as transforms\n",
        "import numpy as np\n",
        "import pandas as pd\n",
        "import torch\n",
        "import torch.nn as nn\n",
        "import torch.nn.functional as F\n",
        "from torch.nn.parameter import Parameter\n",
        "\n",
        "import matplotlib.pyplot as plt\n",
        "\n",
        "import operator\n",
        "from functools import reduce\n",
        "from functools import partial\n",
        "\n",
        "from timeit import default_timer\n",
        "from utilities3 import *\n",
        "\n",
        "import torchvision\n",
        "import torchvision.transforms as transforms\n",
        "import os\n",
        "\n",
        "# Download the dataset using GPU and Batch size of 100\n",
        "torch.manual_seed(0)\n",
        "np.random.seed(0)\n",
        "transform = transforms.Compose(\n",
        "    [transforms.ToTensor(),\n",
        "     transforms.Normalize((0.5, 0.5, 0.5), (0.5, 0.5, 0.5))])\n",
        "\n",
        "trainset = torchvision.datasets.CIFAR10(root='./data', train=True,\n",
        "                                        download=True, transform=transform)\n",
        "trainloader = torch.utils.data.DataLoader(trainset, batch_size=100,\n",
        "                                          shuffle=True, num_workers=4)\n",
        "\n",
        "testset = torchvision.datasets.CIFAR10(root='./data', train=False,\n",
        "                                       download=True, transform=transform)\n",
        "testloader = torch.utils.data.DataLoader(testset, batch_size=100,\n",
        "                                         shuffle=False, num_workers=4)\n",
        "\n",
        "classes = ('plane', 'car', 'bird', 'cat',\n",
        "           'deer', 'dog', 'frog', 'horse', 'ship', 'truck')\n",
        "\n",
        "# Defining the criteria for loss functions\n",
        "criterion = nn.CrossEntropyLoss()\n",
        "# defining the optimizer\n",
        "optimizer = torch.optim.Adam(model.parameters(), lr=0.0001, weight_decay=1e-4)\n",
        "\n",
        "losslist=[]\n",
        "correct = 0\n",
        "total = 0\n",
        "beggining_time=datetime.datetime.now()\n",
        "print(beggining_time)\n",
        "for epoch in range(100):  # loop over the dataset multiple times\n",
        "    running_loss = 0.0\n",
        "    for i, data in enumerate(trainloader, 0):\n",
        "        # get the inputs; data is a list of [inputs, labels]\n",
        "        #inputs, labels = data[0].cuda(), data[1].cuda()\n",
        "        inputs, labels = data[0].cuda(), data[1].cuda()\n",
        "        # zero the parameter gradients\n",
        "        optimizer.zero_grad()\n",
        "\n",
        "        # forward + backward + optimize\n",
        "        outputs = model(inputs)\n",
        "        #print(outputs[:,-1,-1,:].shape)\n",
        "        outputs=outputs\n",
        "        loss = criterion(outputs, labels)\n",
        "        loss.backward()\n",
        "        optimizer.step()\n",
        "        running_loss += loss.item()\n",
        "        if i % 100 == 99:    # print every 2000 mini-batches\n",
        "            print('[%d, %5d] loss: %.3f' %\n",
        "                  (epoch + 1, i + 1, running_loss / 100))\n",
        "            #######################\n",
        "            _, predicted = torch.max(outputs.data, 1)\n",
        "            total += labels.size(0)\n",
        "            correct += (predicted == labels).sum().item()\n",
        "            print('Accuracy of the network on the 10000 test images: %f %%' % (100 * correct / total))\n",
        "            losslist.append([(epoch+1), (i + 1),(running_loss / 100),(100 * correct / total)])\n",
        "            #######################\n",
        "            running_loss = 0.0\n",
        "    colunas=[\"Epoch\",\"Sample\", \"Loss\", \"Accuracy\"]\n",
        "    resultado=pd.DataFrame(losslist,columns=colunas)\n",
        "    resultado.to_pickle(\"resnet\"+str(epoch)+\".pickle\")\n",
        "    torch.save(model.state_dict(),\"model_resnet.pth\")\n",
        "end_time=datetime.datetime.now()\n",
        "print(end_time-beggining_time)"
      ],
      "execution_count": null,
      "outputs": [
        {
          "output_type": "stream",
          "text": [
            "Files already downloaded and verified\n",
            "Files already downloaded and verified\n",
            "2021-06-09 17:50:51.118620\n",
            "[1,   100] loss: 2.385\n",
            "Accuracy of the network on the 10000 test images: 33.000000 %\n",
            "[1,   200] loss: 1.810\n",
            "Accuracy of the network on the 10000 test images: 32.500000 %\n",
            "[1,   300] loss: 1.656\n",
            "Accuracy of the network on the 10000 test images: 38.333333 %\n",
            "[1,   400] loss: 1.585\n",
            "Accuracy of the network on the 10000 test images: 40.500000 %\n",
            "[1,   500] loss: 1.535\n",
            "Accuracy of the network on the 10000 test images: 43.200000 %\n",
            "[2,   100] loss: 1.473\n",
            "Accuracy of the network on the 10000 test images: 42.833333 %\n",
            "[2,   200] loss: 1.448\n",
            "Accuracy of the network on the 10000 test images: 43.285714 %\n",
            "[2,   300] loss: 1.425\n",
            "Accuracy of the network on the 10000 test images: 44.375000 %\n",
            "[2,   400] loss: 1.409\n",
            "Accuracy of the network on the 10000 test images: 45.333333 %\n",
            "[2,   500] loss: 1.368\n",
            "Accuracy of the network on the 10000 test images: 46.600000 %\n",
            "[3,   100] loss: 1.343\n",
            "Accuracy of the network on the 10000 test images: 47.909091 %\n",
            "[3,   200] loss: 1.302\n",
            "Accuracy of the network on the 10000 test images: 48.250000 %\n",
            "[3,   300] loss: 1.288\n",
            "Accuracy of the network on the 10000 test images: 48.538462 %\n",
            "[3,   400] loss: 1.253\n",
            "Accuracy of the network on the 10000 test images: 48.642857 %\n",
            "[3,   500] loss: 1.262\n",
            "Accuracy of the network on the 10000 test images: 49.333333 %\n",
            "[4,   100] loss: 1.218\n",
            "Accuracy of the network on the 10000 test images: 49.500000 %\n",
            "[4,   200] loss: 1.193\n",
            "Accuracy of the network on the 10000 test images: 49.941176 %\n",
            "[4,   300] loss: 1.197\n",
            "Accuracy of the network on the 10000 test images: 50.388889 %\n",
            "[4,   400] loss: 1.177\n",
            "Accuracy of the network on the 10000 test images: 51.000000 %\n",
            "[4,   500] loss: 1.151\n",
            "Accuracy of the network on the 10000 test images: 51.650000 %\n",
            "[5,   100] loss: 1.117\n",
            "Accuracy of the network on the 10000 test images: 51.857143 %\n",
            "[5,   200] loss: 1.120\n",
            "Accuracy of the network on the 10000 test images: 51.681818 %\n",
            "[5,   300] loss: 1.102\n",
            "Accuracy of the network on the 10000 test images: 51.782609 %\n",
            "[5,   400] loss: 1.101\n",
            "Accuracy of the network on the 10000 test images: 52.166667 %\n",
            "[5,   500] loss: 1.088\n",
            "Accuracy of the network on the 10000 test images: 52.800000 %\n",
            "[6,   100] loss: 1.048\n",
            "Accuracy of the network on the 10000 test images: 53.307692 %\n",
            "[6,   200] loss: 1.042\n",
            "Accuracy of the network on the 10000 test images: 53.666667 %\n",
            "[6,   300] loss: 1.045\n",
            "Accuracy of the network on the 10000 test images: 53.964286 %\n",
            "[6,   400] loss: 1.050\n",
            "Accuracy of the network on the 10000 test images: 54.344828 %\n",
            "[6,   500] loss: 1.016\n",
            "Accuracy of the network on the 10000 test images: 54.466667 %\n",
            "[7,   100] loss: 0.973\n",
            "Accuracy of the network on the 10000 test images: 54.677419 %\n",
            "[7,   200] loss: 0.990\n",
            "Accuracy of the network on the 10000 test images: 55.062500 %\n",
            "[7,   300] loss: 1.005\n",
            "Accuracy of the network on the 10000 test images: 55.424242 %\n",
            "[7,   400] loss: 0.970\n",
            "Accuracy of the network on the 10000 test images: 55.558824 %\n",
            "[7,   500] loss: 0.972\n",
            "Accuracy of the network on the 10000 test images: 55.800000 %\n",
            "[8,   100] loss: 0.917\n",
            "Accuracy of the network on the 10000 test images: 56.361111 %\n",
            "[8,   200] loss: 0.946\n",
            "Accuracy of the network on the 10000 test images: 56.486486 %\n",
            "[8,   300] loss: 0.932\n",
            "Accuracy of the network on the 10000 test images: 56.552632 %\n",
            "[8,   400] loss: 0.928\n",
            "Accuracy of the network on the 10000 test images: 57.051282 %\n",
            "[8,   500] loss: 0.925\n",
            "Accuracy of the network on the 10000 test images: 57.250000 %\n",
            "[9,   100] loss: 0.879\n",
            "Accuracy of the network on the 10000 test images: 57.341463 %\n",
            "[9,   200] loss: 0.868\n",
            "Accuracy of the network on the 10000 test images: 57.738095 %\n",
            "[9,   300] loss: 0.878\n",
            "Accuracy of the network on the 10000 test images: 58.116279 %\n",
            "[9,   400] loss: 0.891\n",
            "Accuracy of the network on the 10000 test images: 58.454545 %\n",
            "[9,   500] loss: 0.888\n",
            "Accuracy of the network on the 10000 test images: 58.644444 %\n",
            "[10,   100] loss: 0.839\n",
            "Accuracy of the network on the 10000 test images: 58.913043 %\n",
            "[10,   200] loss: 0.837\n",
            "Accuracy of the network on the 10000 test images: 59.170213 %\n",
            "[10,   300] loss: 0.838\n",
            "Accuracy of the network on the 10000 test images: 59.395833 %\n",
            "[10,   400] loss: 0.828\n",
            "Accuracy of the network on the 10000 test images: 59.489796 %\n",
            "[10,   500] loss: 0.848\n",
            "Accuracy of the network on the 10000 test images: 59.640000 %\n",
            "[11,   100] loss: 0.805\n",
            "Accuracy of the network on the 10000 test images: 59.941176 %\n",
            "[11,   200] loss: 0.801\n",
            "Accuracy of the network on the 10000 test images: 59.903846 %\n",
            "[11,   300] loss: 0.790\n",
            "Accuracy of the network on the 10000 test images: 60.245283 %\n",
            "[11,   400] loss: 0.800\n",
            "Accuracy of the network on the 10000 test images: 60.296296 %\n",
            "[11,   500] loss: 0.805\n",
            "Accuracy of the network on the 10000 test images: 60.581818 %\n",
            "[12,   100] loss: 0.740\n",
            "Accuracy of the network on the 10000 test images: 60.696429 %\n",
            "[12,   200] loss: 0.765\n",
            "Accuracy of the network on the 10000 test images: 60.964912 %\n",
            "[12,   300] loss: 0.759\n",
            "Accuracy of the network on the 10000 test images: 61.327586 %\n",
            "[12,   400] loss: 0.777\n",
            "Accuracy of the network on the 10000 test images: 61.457627 %\n",
            "[12,   500] loss: 0.755\n",
            "Accuracy of the network on the 10000 test images: 61.716667 %\n",
            "[13,   100] loss: 0.730\n",
            "Accuracy of the network on the 10000 test images: 61.868852 %\n",
            "[13,   200] loss: 0.712\n",
            "Accuracy of the network on the 10000 test images: 62.048387 %\n",
            "[13,   300] loss: 0.725\n",
            "Accuracy of the network on the 10000 test images: 62.174603 %\n",
            "[13,   400] loss: 0.727\n",
            "Accuracy of the network on the 10000 test images: 62.296875 %\n",
            "[13,   500] loss: 0.730\n",
            "Accuracy of the network on the 10000 test images: 62.553846 %\n",
            "[14,   100] loss: 0.682\n",
            "Accuracy of the network on the 10000 test images: 62.818182 %\n",
            "[14,   200] loss: 0.688\n",
            "Accuracy of the network on the 10000 test images: 63.014925 %\n",
            "[14,   300] loss: 0.684\n",
            "Accuracy of the network on the 10000 test images: 63.147059 %\n",
            "[14,   400] loss: 0.696\n",
            "Accuracy of the network on the 10000 test images: 63.231884 %\n",
            "[14,   500] loss: 0.697\n",
            "Accuracy of the network on the 10000 test images: 63.514286 %\n",
            "[15,   100] loss: 0.657\n",
            "Accuracy of the network on the 10000 test images: 63.690141 %\n",
            "[15,   200] loss: 0.649\n",
            "Accuracy of the network on the 10000 test images: 63.875000 %\n",
            "[15,   300] loss: 0.650\n",
            "Accuracy of the network on the 10000 test images: 64.109589 %\n",
            "[15,   400] loss: 0.665\n",
            "Accuracy of the network on the 10000 test images: 64.351351 %\n",
            "[15,   500] loss: 0.654\n",
            "Accuracy of the network on the 10000 test images: 64.546667 %\n",
            "[16,   100] loss: 0.627\n",
            "Accuracy of the network on the 10000 test images: 64.736842 %\n",
            "[16,   200] loss: 0.607\n",
            "Accuracy of the network on the 10000 test images: 64.896104 %\n",
            "[16,   300] loss: 0.617\n",
            "Accuracy of the network on the 10000 test images: 64.935897 %\n",
            "[16,   400] loss: 0.641\n",
            "Accuracy of the network on the 10000 test images: 65.063291 %\n",
            "[16,   500] loss: 0.625\n",
            "Accuracy of the network on the 10000 test images: 65.250000 %\n",
            "[17,   100] loss: 0.583\n",
            "Accuracy of the network on the 10000 test images: 65.333333 %\n",
            "[17,   200] loss: 0.579\n",
            "Accuracy of the network on the 10000 test images: 65.536585 %\n",
            "[17,   300] loss: 0.589\n",
            "Accuracy of the network on the 10000 test images: 65.674699 %\n",
            "[17,   400] loss: 0.601\n",
            "Accuracy of the network on the 10000 test images: 65.857143 %\n",
            "[17,   500] loss: 0.599\n",
            "Accuracy of the network on the 10000 test images: 65.988235 %\n",
            "[18,   100] loss: 0.557\n",
            "Accuracy of the network on the 10000 test images: 66.162791 %\n",
            "[18,   200] loss: 0.554\n",
            "Accuracy of the network on the 10000 test images: 66.379310 %\n",
            "[18,   300] loss: 0.553\n",
            "Accuracy of the network on the 10000 test images: 66.579545 %\n",
            "[18,   400] loss: 0.568\n",
            "Accuracy of the network on the 10000 test images: 66.730337 %\n",
            "[18,   500] loss: 0.566\n",
            "Accuracy of the network on the 10000 test images: 66.866667 %\n",
            "[19,   100] loss: 0.523\n",
            "Accuracy of the network on the 10000 test images: 67.043956 %\n",
            "[19,   200] loss: 0.524\n",
            "Accuracy of the network on the 10000 test images: 67.217391 %\n",
            "[19,   300] loss: 0.522\n",
            "Accuracy of the network on the 10000 test images: 67.387097 %\n",
            "[19,   400] loss: 0.536\n",
            "Accuracy of the network on the 10000 test images: 67.585106 %\n",
            "[19,   500] loss: 0.530\n",
            "Accuracy of the network on the 10000 test images: 67.715789 %\n",
            "[20,   100] loss: 0.472\n",
            "Accuracy of the network on the 10000 test images: 67.843750 %\n",
            "[20,   200] loss: 0.487\n",
            "Accuracy of the network on the 10000 test images: 68.000000 %\n",
            "[20,   300] loss: 0.509\n",
            "Accuracy of the network on the 10000 test images: 68.214286 %\n",
            "[20,   400] loss: 0.509\n",
            "Accuracy of the network on the 10000 test images: 68.404040 %\n",
            "[20,   500] loss: 0.521\n",
            "Accuracy of the network on the 10000 test images: 68.580000 %\n",
            "[21,   100] loss: 0.453\n",
            "Accuracy of the network on the 10000 test images: 68.772277 %\n",
            "[21,   200] loss: 0.465\n",
            "Accuracy of the network on the 10000 test images: 68.921569 %\n",
            "[21,   300] loss: 0.483\n",
            "Accuracy of the network on the 10000 test images: 69.067961 %\n",
            "[21,   400] loss: 0.469\n",
            "Accuracy of the network on the 10000 test images: 69.230769 %\n",
            "[21,   500] loss: 0.467\n",
            "Accuracy of the network on the 10000 test images: 69.342857 %\n",
            "[22,   100] loss: 0.432\n",
            "Accuracy of the network on the 10000 test images: 69.547170 %\n",
            "[22,   200] loss: 0.432\n",
            "Accuracy of the network on the 10000 test images: 69.728972 %\n",
            "[22,   300] loss: 0.440\n",
            "Accuracy of the network on the 10000 test images: 69.851852 %\n",
            "[22,   400] loss: 0.451\n",
            "Accuracy of the network on the 10000 test images: 69.926606 %\n",
            "[22,   500] loss: 0.454\n",
            "Accuracy of the network on the 10000 test images: 70.009091 %\n",
            "[23,   100] loss: 0.400\n",
            "Accuracy of the network on the 10000 test images: 70.207207 %\n",
            "[23,   200] loss: 0.413\n",
            "Accuracy of the network on the 10000 test images: 70.348214 %\n",
            "[23,   300] loss: 0.415\n",
            "Accuracy of the network on the 10000 test images: 70.522124 %\n",
            "[23,   400] loss: 0.423\n",
            "Accuracy of the network on the 10000 test images: 70.649123 %\n",
            "[23,   500] loss: 0.413\n",
            "Accuracy of the network on the 10000 test images: 70.791304 %\n",
            "[24,   100] loss: 0.371\n",
            "Accuracy of the network on the 10000 test images: 70.939655 %\n",
            "[24,   200] loss: 0.378\n",
            "Accuracy of the network on the 10000 test images: 71.111111 %\n",
            "[24,   300] loss: 0.385\n",
            "Accuracy of the network on the 10000 test images: 71.254237 %\n",
            "[24,   400] loss: 0.397\n",
            "Accuracy of the network on the 10000 test images: 71.336134 %\n",
            "[24,   500] loss: 0.398\n",
            "Accuracy of the network on the 10000 test images: 71.450000 %\n",
            "[25,   100] loss: 0.344\n",
            "Accuracy of the network on the 10000 test images: 71.628099 %\n",
            "[25,   200] loss: 0.350\n",
            "Accuracy of the network on the 10000 test images: 71.770492 %\n",
            "[25,   300] loss: 0.362\n",
            "Accuracy of the network on the 10000 test images: 71.918699 %\n",
            "[25,   400] loss: 0.376\n",
            "Accuracy of the network on the 10000 test images: 72.048387 %\n",
            "[25,   500] loss: 0.374\n",
            "Accuracy of the network on the 10000 test images: 72.192000 %\n",
            "[26,   100] loss: 0.313\n",
            "Accuracy of the network on the 10000 test images: 72.333333 %\n",
            "[26,   200] loss: 0.325\n",
            "Accuracy of the network on the 10000 test images: 72.440945 %\n",
            "[26,   300] loss: 0.334\n",
            "Accuracy of the network on the 10000 test images: 72.585938 %\n",
            "[26,   400] loss: 0.347\n",
            "Accuracy of the network on the 10000 test images: 72.705426 %\n",
            "[26,   500] loss: 0.350\n",
            "Accuracy of the network on the 10000 test images: 72.846154 %\n",
            "[27,   100] loss: 0.303\n",
            "Accuracy of the network on the 10000 test images: 73.007634 %\n",
            "[27,   200] loss: 0.299\n",
            "Accuracy of the network on the 10000 test images: 73.181818 %\n",
            "[27,   300] loss: 0.310\n",
            "Accuracy of the network on the 10000 test images: 73.255639 %\n",
            "[27,   400] loss: 0.322\n",
            "Accuracy of the network on the 10000 test images: 73.350746 %\n",
            "[27,   500] loss: 0.325\n",
            "Accuracy of the network on the 10000 test images: 73.474074 %\n",
            "[28,   100] loss: 0.280\n",
            "Accuracy of the network on the 10000 test images: 73.617647 %\n",
            "[28,   200] loss: 0.283\n",
            "Accuracy of the network on the 10000 test images: 73.759124 %\n",
            "[28,   300] loss: 0.284\n",
            "Accuracy of the network on the 10000 test images: 73.898551 %\n",
            "[28,   400] loss: 0.283\n",
            "Accuracy of the network on the 10000 test images: 74.007194 %\n",
            "[28,   500] loss: 0.302\n",
            "Accuracy of the network on the 10000 test images: 74.142857 %\n",
            "[29,   100] loss: 0.250\n",
            "Accuracy of the network on the 10000 test images: 74.262411 %\n",
            "[29,   200] loss: 0.251\n",
            "Accuracy of the network on the 10000 test images: 74.401408 %\n",
            "[29,   300] loss: 0.269\n",
            "Accuracy of the network on the 10000 test images: 74.524476 %\n",
            "[29,   400] loss: 0.269\n",
            "Accuracy of the network on the 10000 test images: 74.659722 %\n",
            "[29,   500] loss: 0.277\n",
            "Accuracy of the network on the 10000 test images: 74.779310 %\n",
            "[30,   100] loss: 0.232\n",
            "Accuracy of the network on the 10000 test images: 74.938356 %\n",
            "[30,   200] loss: 0.250\n",
            "Accuracy of the network on the 10000 test images: 75.081633 %\n",
            "[30,   300] loss: 0.252\n",
            "Accuracy of the network on the 10000 test images: 75.182432 %\n",
            "[30,   400] loss: 0.255\n",
            "Accuracy of the network on the 10000 test images: 75.275168 %\n",
            "[30,   500] loss: 0.261\n",
            "Accuracy of the network on the 10000 test images: 75.393333 %\n",
            "[31,   100] loss: 0.216\n",
            "Accuracy of the network on the 10000 test images: 75.529801 %\n",
            "[31,   200] loss: 0.215\n",
            "Accuracy of the network on the 10000 test images: 75.657895 %\n",
            "[31,   300] loss: 0.223\n",
            "Accuracy of the network on the 10000 test images: 75.758170 %\n",
            "[31,   400] loss: 0.236\n",
            "Accuracy of the network on the 10000 test images: 75.824675 %\n",
            "[31,   500] loss: 0.245\n",
            "Accuracy of the network on the 10000 test images: 75.935484 %\n",
            "[32,   100] loss: 0.196\n",
            "Accuracy of the network on the 10000 test images: 76.064103 %\n",
            "[32,   200] loss: 0.199\n",
            "Accuracy of the network on the 10000 test images: 76.184713 %\n",
            "[32,   300] loss: 0.215\n",
            "Accuracy of the network on the 10000 test images: 76.310127 %\n",
            "[32,   400] loss: 0.211\n",
            "Accuracy of the network on the 10000 test images: 76.427673 %\n",
            "[32,   500] loss: 0.222\n",
            "Accuracy of the network on the 10000 test images: 76.518750 %\n",
            "[33,   100] loss: 0.167\n",
            "Accuracy of the network on the 10000 test images: 76.645963 %\n",
            "[33,   200] loss: 0.186\n",
            "Accuracy of the network on the 10000 test images: 76.771605 %\n",
            "[33,   300] loss: 0.186\n",
            "Accuracy of the network on the 10000 test images: 76.877301 %\n",
            "[33,   400] loss: 0.196\n",
            "Accuracy of the network on the 10000 test images: 76.987805 %\n",
            "[33,   500] loss: 0.211\n",
            "Accuracy of the network on the 10000 test images: 77.103030 %\n",
            "[34,   100] loss: 0.158\n",
            "Accuracy of the network on the 10000 test images: 77.216867 %\n",
            "[34,   200] loss: 0.166\n",
            "Accuracy of the network on the 10000 test images: 77.341317 %\n",
            "[34,   300] loss: 0.178\n",
            "Accuracy of the network on the 10000 test images: 77.470238 %\n",
            "[34,   400] loss: 0.181\n",
            "Accuracy of the network on the 10000 test images: 77.585799 %\n",
            "[34,   500] loss: 0.200\n",
            "Accuracy of the network on the 10000 test images: 77.688235 %\n",
            "[35,   100] loss: 0.153\n",
            "Accuracy of the network on the 10000 test images: 77.801170 %\n",
            "[35,   200] loss: 0.152\n",
            "Accuracy of the network on the 10000 test images: 77.906977 %\n",
            "[35,   300] loss: 0.153\n",
            "Accuracy of the network on the 10000 test images: 78.017341 %\n",
            "[35,   400] loss: 0.170\n",
            "Accuracy of the network on the 10000 test images: 78.114943 %\n",
            "[35,   500] loss: 0.181\n",
            "Accuracy of the network on the 10000 test images: 78.211429 %\n",
            "[36,   100] loss: 0.133\n",
            "Accuracy of the network on the 10000 test images: 78.329545 %\n",
            "[36,   200] loss: 0.143\n",
            "Accuracy of the network on the 10000 test images: 78.440678 %\n",
            "[36,   300] loss: 0.153\n",
            "Accuracy of the network on the 10000 test images: 78.539326 %\n",
            "[36,   400] loss: 0.150\n",
            "Accuracy of the network on the 10000 test images: 78.642458 %\n",
            "[36,   500] loss: 0.165\n",
            "Accuracy of the network on the 10000 test images: 78.755556 %\n",
            "[37,   100] loss: 0.130\n",
            "Accuracy of the network on the 10000 test images: 78.872928 %\n",
            "[37,   200] loss: 0.133\n",
            "Accuracy of the network on the 10000 test images: 78.983516 %\n",
            "[37,   300] loss: 0.135\n",
            "Accuracy of the network on the 10000 test images: 79.081967 %\n",
            "[37,   400] loss: 0.144\n",
            "Accuracy of the network on the 10000 test images: 79.173913 %\n",
            "[37,   500] loss: 0.143\n",
            "Accuracy of the network on the 10000 test images: 79.270270 %\n",
            "[38,   100] loss: 0.114\n",
            "Accuracy of the network on the 10000 test images: 79.349462 %\n",
            "[38,   200] loss: 0.122\n",
            "Accuracy of the network on the 10000 test images: 79.433155 %\n",
            "[38,   300] loss: 0.133\n",
            "Accuracy of the network on the 10000 test images: 79.537234 %\n",
            "[38,   400] loss: 0.130\n",
            "Accuracy of the network on the 10000 test images: 79.629630 %\n",
            "[38,   500] loss: 0.145\n",
            "Accuracy of the network on the 10000 test images: 79.721053 %\n",
            "[39,   100] loss: 0.111\n",
            "Accuracy of the network on the 10000 test images: 79.821990 %\n",
            "[39,   200] loss: 0.110\n",
            "Accuracy of the network on the 10000 test images: 79.906250 %\n",
            "[39,   300] loss: 0.118\n",
            "Accuracy of the network on the 10000 test images: 80.005181 %\n",
            "[39,   400] loss: 0.120\n",
            "Accuracy of the network on the 10000 test images: 80.097938 %\n",
            "[39,   500] loss: 0.127\n",
            "Accuracy of the network on the 10000 test images: 80.184615 %\n",
            "[40,   100] loss: 0.104\n",
            "Accuracy of the network on the 10000 test images: 80.280612 %\n",
            "[40,   200] loss: 0.102\n",
            "Accuracy of the network on the 10000 test images: 80.360406 %\n",
            "[40,   300] loss: 0.111\n",
            "Accuracy of the network on the 10000 test images: 80.454545 %\n",
            "[40,   400] loss: 0.113\n",
            "Accuracy of the network on the 10000 test images: 80.542714 %\n",
            "[40,   500] loss: 0.106\n",
            "Accuracy of the network on the 10000 test images: 80.610000 %\n",
            "[41,   100] loss: 0.094\n",
            "Accuracy of the network on the 10000 test images: 80.696517 %\n",
            "[41,   200] loss: 0.099\n",
            "Accuracy of the network on the 10000 test images: 80.782178 %\n",
            "[41,   300] loss: 0.100\n",
            "Accuracy of the network on the 10000 test images: 80.862069 %\n",
            "[41,   400] loss: 0.094\n",
            "Accuracy of the network on the 10000 test images: 80.950980 %\n",
            "[41,   500] loss: 0.107\n",
            "Accuracy of the network on the 10000 test images: 81.029268 %\n",
            "[42,   100] loss: 0.088\n",
            "Accuracy of the network on the 10000 test images: 81.106796 %\n",
            "[42,   200] loss: 0.087\n",
            "Accuracy of the network on the 10000 test images: 81.193237 %\n",
            "[42,   300] loss: 0.095\n",
            "Accuracy of the network on the 10000 test images: 81.274038 %\n",
            "[42,   400] loss: 0.103\n",
            "Accuracy of the network on the 10000 test images: 81.354067 %\n",
            "[42,   500] loss: 0.109\n",
            "Accuracy of the network on the 10000 test images: 81.438095 %\n",
            "[43,   100] loss: 0.079\n",
            "Accuracy of the network on the 10000 test images: 81.526066 %\n",
            "[43,   200] loss: 0.088\n",
            "Accuracy of the network on the 10000 test images: 81.613208 %\n",
            "[43,   300] loss: 0.083\n",
            "Accuracy of the network on the 10000 test images: 81.694836 %\n",
            "[43,   400] loss: 0.086\n",
            "Accuracy of the network on the 10000 test images: 81.766355 %\n",
            "[43,   500] loss: 0.092\n",
            "Accuracy of the network on the 10000 test images: 81.818605 %\n",
            "[44,   100] loss: 0.072\n",
            "Accuracy of the network on the 10000 test images: 81.902778 %\n",
            "[44,   200] loss: 0.078\n",
            "Accuracy of the network on the 10000 test images: 81.986175 %\n",
            "[44,   300] loss: 0.081\n",
            "Accuracy of the network on the 10000 test images: 82.064220 %\n",
            "[44,   400] loss: 0.090\n",
            "Accuracy of the network on the 10000 test images: 82.132420 %\n",
            "[44,   500] loss: 0.088\n",
            "Accuracy of the network on the 10000 test images: 82.190909 %\n",
            "[45,   100] loss: 0.070\n",
            "Accuracy of the network on the 10000 test images: 82.262443 %\n",
            "[45,   200] loss: 0.074\n",
            "Accuracy of the network on the 10000 test images: 82.342342 %\n",
            "[45,   300] loss: 0.076\n",
            "Accuracy of the network on the 10000 test images: 82.417040 %\n",
            "[45,   400] loss: 0.080\n",
            "Accuracy of the network on the 10000 test images: 82.473214 %\n",
            "[45,   500] loss: 0.083\n",
            "Accuracy of the network on the 10000 test images: 82.546667 %\n",
            "[46,   100] loss: 0.069\n",
            "Accuracy of the network on the 10000 test images: 82.623894 %\n",
            "[46,   200] loss: 0.077\n",
            "Accuracy of the network on the 10000 test images: 82.678414 %\n",
            "[46,   300] loss: 0.076\n",
            "Accuracy of the network on the 10000 test images: 82.754386 %\n",
            "[46,   400] loss: 0.073\n",
            "Accuracy of the network on the 10000 test images: 82.829694 %\n",
            "[46,   500] loss: 0.082\n",
            "Accuracy of the network on the 10000 test images: 82.891304 %\n",
            "[47,   100] loss: 0.064\n",
            "Accuracy of the network on the 10000 test images: 82.961039 %\n",
            "[47,   200] loss: 0.064\n",
            "Accuracy of the network on the 10000 test images: 83.021552 %\n",
            "[47,   300] loss: 0.063\n",
            "Accuracy of the network on the 10000 test images: 83.094421 %\n",
            "[47,   400] loss: 0.071\n",
            "Accuracy of the network on the 10000 test images: 83.162393 %\n",
            "[47,   500] loss: 0.077\n",
            "Accuracy of the network on the 10000 test images: 83.212766 %\n",
            "[48,   100] loss: 0.062\n",
            "Accuracy of the network on the 10000 test images: 83.266949 %\n",
            "[48,   200] loss: 0.067\n",
            "Accuracy of the network on the 10000 test images: 83.333333 %\n",
            "[48,   300] loss: 0.069\n",
            "Accuracy of the network on the 10000 test images: 83.403361 %\n",
            "[48,   400] loss: 0.070\n",
            "Accuracy of the network on the 10000 test images: 83.468619 %\n",
            "[48,   500] loss: 0.079\n",
            "Accuracy of the network on the 10000 test images: 83.533333 %\n",
            "[49,   100] loss: 0.058\n",
            "Accuracy of the network on the 10000 test images: 83.593361 %\n",
            "[49,   200] loss: 0.062\n",
            "Accuracy of the network on the 10000 test images: 83.661157 %\n",
            "[49,   300] loss: 0.063\n",
            "Accuracy of the network on the 10000 test images: 83.724280 %\n",
            "[49,   400] loss: 0.055\n",
            "Accuracy of the network on the 10000 test images: 83.790984 %\n",
            "[49,   500] loss: 0.063\n",
            "Accuracy of the network on the 10000 test images: 83.848980 %\n",
            "[50,   100] loss: 0.056\n",
            "Accuracy of the network on the 10000 test images: 83.910569 %\n",
            "[50,   200] loss: 0.057\n",
            "Accuracy of the network on the 10000 test images: 83.975709 %\n",
            "[50,   300] loss: 0.061\n",
            "Accuracy of the network on the 10000 test images: 84.040323 %\n",
            "[50,   400] loss: 0.068\n",
            "Accuracy of the network on the 10000 test images: 84.096386 %\n",
            "[50,   500] loss: 0.071\n",
            "Accuracy of the network on the 10000 test images: 84.148000 %\n",
            "[51,   100] loss: 0.063\n",
            "Accuracy of the network on the 10000 test images: 84.207171 %\n",
            "[51,   200] loss: 0.048\n",
            "Accuracy of the network on the 10000 test images: 84.261905 %\n",
            "[51,   300] loss: 0.054\n",
            "Accuracy of the network on the 10000 test images: 84.324111 %\n",
            "[51,   400] loss: 0.060\n",
            "Accuracy of the network on the 10000 test images: 84.381890 %\n",
            "[51,   500] loss: 0.059\n",
            "Accuracy of the network on the 10000 test images: 84.443137 %\n",
            "[52,   100] loss: 0.050\n",
            "Accuracy of the network on the 10000 test images: 84.500000 %\n",
            "[52,   200] loss: 0.054\n",
            "Accuracy of the network on the 10000 test images: 84.560311 %\n",
            "[52,   300] loss: 0.056\n",
            "Accuracy of the network on the 10000 test images: 84.620155 %\n",
            "[52,   400] loss: 0.055\n",
            "Accuracy of the network on the 10000 test images: 84.671815 %\n",
            "[52,   500] loss: 0.055\n",
            "Accuracy of the network on the 10000 test images: 84.730769 %\n",
            "[53,   100] loss: 0.047\n",
            "Accuracy of the network on the 10000 test images: 84.789272 %\n",
            "[53,   200] loss: 0.054\n",
            "Accuracy of the network on the 10000 test images: 84.847328 %\n",
            "[53,   300] loss: 0.057\n",
            "Accuracy of the network on the 10000 test images: 84.889734 %\n",
            "[53,   400] loss: 0.069\n",
            "Accuracy of the network on the 10000 test images: 84.943182 %\n",
            "[53,   500] loss: 0.068\n",
            "Accuracy of the network on the 10000 test images: 84.988679 %\n",
            "[54,   100] loss: 0.052\n",
            "Accuracy of the network on the 10000 test images: 85.041353 %\n",
            "[54,   200] loss: 0.052\n",
            "Accuracy of the network on the 10000 test images: 85.097378 %\n",
            "[54,   300] loss: 0.052\n",
            "Accuracy of the network on the 10000 test images: 85.152985 %\n",
            "[54,   400] loss: 0.053\n",
            "Accuracy of the network on the 10000 test images: 85.208178 %\n",
            "[54,   500] loss: 0.051\n",
            "Accuracy of the network on the 10000 test images: 85.259259 %\n",
            "[55,   100] loss: 0.043\n",
            "Accuracy of the network on the 10000 test images: 85.309963 %\n",
            "[55,   200] loss: 0.050\n",
            "Accuracy of the network on the 10000 test images: 85.360294 %\n",
            "[55,   300] loss: 0.053\n",
            "Accuracy of the network on the 10000 test images: 85.413919 %\n",
            "[55,   400] loss: 0.052\n",
            "Accuracy of the network on the 10000 test images: 85.463504 %\n",
            "[55,   500] loss: 0.061\n",
            "Accuracy of the network on the 10000 test images: 85.490909 %\n",
            "[56,   100] loss: 0.048\n",
            "Accuracy of the network on the 10000 test images: 85.532609 %\n",
            "[56,   200] loss: 0.047\n",
            "Accuracy of the network on the 10000 test images: 85.581227 %\n",
            "[56,   300] loss: 0.045\n",
            "Accuracy of the network on the 10000 test images: 85.629496 %\n",
            "[56,   400] loss: 0.047\n",
            "Accuracy of the network on the 10000 test images: 85.681004 %\n",
            "[56,   500] loss: 0.047\n",
            "Accuracy of the network on the 10000 test images: 85.728571 %\n",
            "[57,   100] loss: 0.039\n",
            "Accuracy of the network on the 10000 test images: 85.779359 %\n",
            "[57,   200] loss: 0.035\n",
            "Accuracy of the network on the 10000 test images: 85.829787 %\n",
            "[57,   300] loss: 0.036\n",
            "Accuracy of the network on the 10000 test images: 85.876325 %\n",
            "[57,   400] loss: 0.044\n",
            "Accuracy of the network on the 10000 test images: 85.922535 %\n",
            "[57,   500] loss: 0.051\n",
            "Accuracy of the network on the 10000 test images: 85.971930 %\n",
            "[58,   100] loss: 0.050\n",
            "Accuracy of the network on the 10000 test images: 86.020979 %\n",
            "[58,   200] loss: 0.045\n",
            "Accuracy of the network on the 10000 test images: 86.062718 %\n",
            "[58,   300] loss: 0.058\n",
            "Accuracy of the network on the 10000 test images: 86.107639 %\n",
            "[58,   400] loss: 0.054\n",
            "Accuracy of the network on the 10000 test images: 86.152249 %\n",
            "[58,   500] loss: 0.048\n",
            "Accuracy of the network on the 10000 test images: 86.189655 %\n",
            "[59,   100] loss: 0.041\n",
            "Accuracy of the network on the 10000 test images: 86.233677 %\n",
            "[59,   200] loss: 0.044\n",
            "Accuracy of the network on the 10000 test images: 86.273973 %\n",
            "[59,   300] loss: 0.040\n",
            "Accuracy of the network on the 10000 test images: 86.320819 %\n",
            "[59,   400] loss: 0.044\n",
            "Accuracy of the network on the 10000 test images: 86.360544 %\n",
            "[59,   500] loss: 0.045\n",
            "Accuracy of the network on the 10000 test images: 86.396610 %\n",
            "[60,   100] loss: 0.043\n",
            "Accuracy of the network on the 10000 test images: 86.442568 %\n",
            "[60,   200] loss: 0.039\n",
            "Accuracy of the network on the 10000 test images: 86.481481 %\n",
            "[60,   300] loss: 0.043\n",
            "Accuracy of the network on the 10000 test images: 86.520134 %\n",
            "[60,   400] loss: 0.047\n",
            "Accuracy of the network on the 10000 test images: 86.565217 %\n",
            "[60,   500] loss: 0.047\n",
            "Accuracy of the network on the 10000 test images: 86.610000 %\n",
            "[61,   100] loss: 0.042\n",
            "Accuracy of the network on the 10000 test images: 86.647841 %\n",
            "[61,   200] loss: 0.042\n",
            "Accuracy of the network on the 10000 test images: 86.692053 %\n",
            "[61,   300] loss: 0.041\n",
            "Accuracy of the network on the 10000 test images: 86.735974 %\n",
            "[61,   400] loss: 0.038\n",
            "Accuracy of the network on the 10000 test images: 86.773026 %\n",
            "[61,   500] loss: 0.045\n",
            "Accuracy of the network on the 10000 test images: 86.813115 %\n",
            "[62,   100] loss: 0.036\n",
            "Accuracy of the network on the 10000 test images: 86.852941 %\n",
            "[62,   200] loss: 0.033\n",
            "Accuracy of the network on the 10000 test images: 86.889251 %\n",
            "[62,   300] loss: 0.039\n",
            "Accuracy of the network on the 10000 test images: 86.928571 %\n",
            "[62,   400] loss: 0.037\n",
            "Accuracy of the network on the 10000 test images: 86.970874 %\n",
            "[62,   500] loss: 0.038\n",
            "Accuracy of the network on the 10000 test images: 87.012903 %\n",
            "[63,   100] loss: 0.036\n",
            "Accuracy of the network on the 10000 test images: 87.045016 %\n",
            "[63,   200] loss: 0.035\n",
            "Accuracy of the network on the 10000 test images: 87.086538 %\n",
            "[63,   300] loss: 0.045\n",
            "Accuracy of the network on the 10000 test images: 87.124601 %\n",
            "[63,   400] loss: 0.040\n",
            "Accuracy of the network on the 10000 test images: 87.165605 %\n",
            "[63,   500] loss: 0.050\n",
            "Accuracy of the network on the 10000 test images: 87.203175 %\n",
            "[64,   100] loss: 0.035\n",
            "Accuracy of the network on the 10000 test images: 87.240506 %\n",
            "[64,   200] loss: 0.036\n",
            "Accuracy of the network on the 10000 test images: 87.280757 %\n",
            "[64,   300] loss: 0.036\n",
            "Accuracy of the network on the 10000 test images: 87.317610 %\n",
            "[64,   400] loss: 0.039\n",
            "Accuracy of the network on the 10000 test images: 87.357367 %\n",
            "[64,   500] loss: 0.044\n",
            "Accuracy of the network on the 10000 test images: 87.390625 %\n",
            "[65,   100] loss: 0.040\n",
            "Accuracy of the network on the 10000 test images: 87.426791 %\n",
            "[65,   200] loss: 0.039\n",
            "Accuracy of the network on the 10000 test images: 87.453416 %\n",
            "[65,   300] loss: 0.040\n",
            "Accuracy of the network on the 10000 test images: 87.492260 %\n",
            "[65,   400] loss: 0.037\n",
            "Accuracy of the network on the 10000 test images: 87.524691 %\n",
            "[65,   500] loss: 0.043\n",
            "Accuracy of the network on the 10000 test images: 87.553846 %\n",
            "[66,   100] loss: 0.036\n",
            "Accuracy of the network on the 10000 test images: 87.592025 %\n",
            "[66,   200] loss: 0.040\n",
            "Accuracy of the network on the 10000 test images: 87.623853 %\n",
            "[66,   300] loss: 0.040\n",
            "Accuracy of the network on the 10000 test images: 87.649390 %\n",
            "[66,   400] loss: 0.046\n",
            "Accuracy of the network on the 10000 test images: 87.674772 %\n",
            "[66,   500] loss: 0.043\n",
            "Accuracy of the network on the 10000 test images: 87.706061 %\n",
            "[67,   100] loss: 0.035\n",
            "Accuracy of the network on the 10000 test images: 87.734139 %\n",
            "[67,   200] loss: 0.034\n",
            "Accuracy of the network on the 10000 test images: 87.762048 %\n",
            "[67,   300] loss: 0.036\n",
            "Accuracy of the network on the 10000 test images: 87.795796 %\n",
            "[67,   400] loss: 0.035\n",
            "Accuracy of the network on the 10000 test images: 87.829341 %\n",
            "[67,   500] loss: 0.040\n",
            "Accuracy of the network on the 10000 test images: 87.859701 %\n",
            "[68,   100] loss: 0.030\n",
            "Accuracy of the network on the 10000 test images: 87.895833 %\n",
            "[68,   200] loss: 0.031\n",
            "Accuracy of the network on the 10000 test images: 87.931751 %\n",
            "[68,   300] loss: 0.035\n",
            "Accuracy of the network on the 10000 test images: 87.961538 %\n",
            "[68,   400] loss: 0.039\n",
            "Accuracy of the network on the 10000 test images: 87.991150 %\n",
            "[68,   500] loss: 0.043\n",
            "Accuracy of the network on the 10000 test images: 88.026471 %\n",
            "[69,   100] loss: 0.034\n",
            "Accuracy of the network on the 10000 test images: 88.058651 %\n",
            "[69,   200] loss: 0.038\n",
            "Accuracy of the network on the 10000 test images: 88.093567 %\n",
            "[69,   300] loss: 0.037\n",
            "Accuracy of the network on the 10000 test images: 88.125364 %\n",
            "[69,   400] loss: 0.041\n",
            "Accuracy of the network on the 10000 test images: 88.159884 %\n",
            "[69,   500] loss: 0.039\n",
            "Accuracy of the network on the 10000 test images: 88.194203 %\n",
            "[70,   100] loss: 0.037\n",
            "Accuracy of the network on the 10000 test images: 88.225434 %\n",
            "[70,   200] loss: 0.029\n",
            "Accuracy of the network on the 10000 test images: 88.253602 %\n",
            "[70,   300] loss: 0.032\n",
            "Accuracy of the network on the 10000 test images: 88.278736 %\n",
            "[70,   400] loss: 0.035\n",
            "Accuracy of the network on the 10000 test images: 88.312321 %\n",
            "[70,   500] loss: 0.037\n",
            "Accuracy of the network on the 10000 test images: 88.345714 %\n",
            "[71,   100] loss: 0.024\n",
            "Accuracy of the network on the 10000 test images: 88.376068 %\n",
            "[71,   200] loss: 0.025\n",
            "Accuracy of the network on the 10000 test images: 88.409091 %\n",
            "[71,   300] loss: 0.028\n",
            "Accuracy of the network on the 10000 test images: 88.439093 %\n",
            "[71,   400] loss: 0.030\n",
            "Accuracy of the network on the 10000 test images: 88.471751 %\n",
            "[71,   500] loss: 0.026\n",
            "Accuracy of the network on the 10000 test images: 88.495775 %\n",
            "[72,   100] loss: 0.030\n",
            "Accuracy of the network on the 10000 test images: 88.528090 %\n",
            "[72,   200] loss: 0.029\n",
            "Accuracy of the network on the 10000 test images: 88.557423 %\n",
            "[72,   300] loss: 0.032\n",
            "Accuracy of the network on the 10000 test images: 88.586592 %\n",
            "[72,   400] loss: 0.042\n",
            "Accuracy of the network on the 10000 test images: 88.612813 %\n",
            "[72,   500] loss: 0.060\n",
            "Accuracy of the network on the 10000 test images: 88.638889 %\n",
            "[73,   100] loss: 0.035\n",
            "Accuracy of the network on the 10000 test images: 88.670360 %\n",
            "[73,   200] loss: 0.037\n",
            "Accuracy of the network on the 10000 test images: 88.693370 %\n",
            "[73,   300] loss: 0.027\n",
            "Accuracy of the network on the 10000 test images: 88.724518 %\n",
            "[73,   400] loss: 0.032\n",
            "Accuracy of the network on the 10000 test images: 88.752747 %\n",
            "[73,   500] loss: 0.041\n",
            "Accuracy of the network on the 10000 test images: 88.769863 %\n",
            "[74,   100] loss: 0.028\n",
            "Accuracy of the network on the 10000 test images: 88.800546 %\n",
            "[74,   200] loss: 0.024\n",
            "Accuracy of the network on the 10000 test images: 88.825613 %\n",
            "[74,   300] loss: 0.027\n",
            "Accuracy of the network on the 10000 test images: 88.850543 %\n",
            "[74,   400] loss: 0.027\n",
            "Accuracy of the network on the 10000 test images: 88.875339 %\n",
            "[74,   500] loss: 0.030\n",
            "Accuracy of the network on the 10000 test images: 88.902703 %\n",
            "[75,   100] loss: 0.027\n",
            "Accuracy of the network on the 10000 test images: 88.929919 %\n",
            "[75,   200] loss: 0.027\n",
            "Accuracy of the network on the 10000 test images: 88.956989 %\n",
            "[75,   300] loss: 0.039\n",
            "Accuracy of the network on the 10000 test images: 88.986595 %\n",
            "[75,   400] loss: 0.037\n",
            "Accuracy of the network on the 10000 test images: 89.010695 %\n",
            "[75,   500] loss: 0.036\n",
            "Accuracy of the network on the 10000 test images: 89.037333 %\n",
            "[76,   100] loss: 0.028\n",
            "Accuracy of the network on the 10000 test images: 89.066489 %\n",
            "[76,   200] loss: 0.025\n",
            "Accuracy of the network on the 10000 test images: 89.095491 %\n",
            "[76,   300] loss: 0.031\n",
            "Accuracy of the network on the 10000 test images: 89.124339 %\n",
            "[76,   400] loss: 0.032\n",
            "Accuracy of the network on the 10000 test images: 89.145119 %\n",
            "[76,   500] loss: 0.034\n",
            "Accuracy of the network on the 10000 test images: 89.173684 %\n",
            "[77,   100] loss: 0.026\n",
            "Accuracy of the network on the 10000 test images: 89.196850 %\n",
            "[77,   200] loss: 0.022\n",
            "Accuracy of the network on the 10000 test images: 89.222513 %\n",
            "[77,   300] loss: 0.027\n",
            "Accuracy of the network on the 10000 test images: 89.250653 %\n",
            "[77,   400] loss: 0.033\n",
            "Accuracy of the network on the 10000 test images: 89.278646 %\n",
            "[77,   500] loss: 0.034\n",
            "Accuracy of the network on the 10000 test images: 89.298701 %\n",
            "[78,   100] loss: 0.031\n",
            "Accuracy of the network on the 10000 test images: 89.321244 %\n",
            "[78,   200] loss: 0.037\n",
            "Accuracy of the network on the 10000 test images: 89.348837 %\n",
            "[78,   300] loss: 0.039\n",
            "Accuracy of the network on the 10000 test images: 89.371134 %\n",
            "[78,   400] loss: 0.031\n",
            "Accuracy of the network on the 10000 test images: 89.398458 %\n",
            "[78,   500] loss: 0.032\n",
            "Accuracy of the network on the 10000 test images: 89.423077 %\n",
            "[79,   100] loss: 0.027\n",
            "Accuracy of the network on the 10000 test images: 89.450128 %\n",
            "[79,   200] loss: 0.032\n",
            "Accuracy of the network on the 10000 test images: 89.477041 %\n",
            "[79,   300] loss: 0.026\n",
            "Accuracy of the network on the 10000 test images: 89.503817 %\n",
            "[79,   400] loss: 0.026\n",
            "Accuracy of the network on the 10000 test images: 89.530457 %\n",
            "[79,   500] loss: 0.022\n",
            "Accuracy of the network on the 10000 test images: 89.556962 %\n",
            "[80,   100] loss: 0.025\n",
            "Accuracy of the network on the 10000 test images: 89.573232 %\n",
            "[80,   200] loss: 0.026\n",
            "Accuracy of the network on the 10000 test images: 89.599496 %\n",
            "[80,   300] loss: 0.030\n",
            "Accuracy of the network on the 10000 test images: 89.620603 %\n",
            "[80,   400] loss: 0.032\n",
            "Accuracy of the network on the 10000 test images: 89.644110 %\n",
            "[80,   500] loss: 0.031\n",
            "Accuracy of the network on the 10000 test images: 89.662500 %\n",
            "[81,   100] loss: 0.024\n",
            "Accuracy of the network on the 10000 test images: 89.683292 %\n",
            "[81,   200] loss: 0.025\n",
            "Accuracy of the network on the 10000 test images: 89.706468 %\n",
            "[81,   300] loss: 0.034\n",
            "Accuracy of the network on the 10000 test images: 89.732010 %\n",
            "[81,   400] loss: 0.033\n",
            "Accuracy of the network on the 10000 test images: 89.754950 %\n",
            "[81,   500] loss: 0.033\n",
            "Accuracy of the network on the 10000 test images: 89.780247 %\n",
            "[82,   100] loss: 0.026\n",
            "Accuracy of the network on the 10000 test images: 89.802956 %\n",
            "[82,   200] loss: 0.023\n",
            "Accuracy of the network on the 10000 test images: 89.828010 %\n",
            "[82,   300] loss: 0.024\n",
            "Accuracy of the network on the 10000 test images: 89.848039 %\n",
            "[82,   400] loss: 0.033\n",
            "Accuracy of the network on the 10000 test images: 89.865526 %\n",
            "[82,   500] loss: 0.032\n",
            "Accuracy of the network on the 10000 test images: 89.890244 %\n",
            "[83,   100] loss: 0.024\n",
            "Accuracy of the network on the 10000 test images: 89.912409 %\n",
            "[83,   200] loss: 0.033\n",
            "Accuracy of the network on the 10000 test images: 89.936893 %\n",
            "[83,   300] loss: 0.036\n",
            "Accuracy of the network on the 10000 test images: 89.958838 %\n",
            "[83,   400] loss: 0.037\n",
            "Accuracy of the network on the 10000 test images: 89.971014 %\n",
            "[83,   500] loss: 0.030\n",
            "Accuracy of the network on the 10000 test images: 89.992771 %\n",
            "[84,   100] loss: 0.025\n",
            "Accuracy of the network on the 10000 test images: 90.014423 %\n",
            "[84,   200] loss: 0.024\n",
            "Accuracy of the network on the 10000 test images: 90.038369 %\n",
            "[84,   300] loss: 0.033\n",
            "Accuracy of the network on the 10000 test images: 90.062201 %\n",
            "[84,   400] loss: 0.026\n",
            "Accuracy of the network on the 10000 test images: 90.081146 %\n",
            "[84,   500] loss: 0.032\n",
            "Accuracy of the network on the 10000 test images: 90.102381 %\n",
            "[85,   100] loss: 0.029\n",
            "Accuracy of the network on the 10000 test images: 90.125891 %\n",
            "[85,   200] loss: 0.021\n",
            "Accuracy of the network on the 10000 test images: 90.149289 %\n",
            "[85,   300] loss: 0.024\n",
            "Accuracy of the network on the 10000 test images: 90.172577 %\n",
            "[85,   400] loss: 0.027\n",
            "Accuracy of the network on the 10000 test images: 90.195755 %\n",
            "[85,   500] loss: 0.030\n",
            "Accuracy of the network on the 10000 test images: 90.211765 %\n",
            "[86,   100] loss: 0.030\n",
            "Accuracy of the network on the 10000 test images: 90.234742 %\n",
            "[86,   200] loss: 0.029\n",
            "Accuracy of the network on the 10000 test images: 90.257611 %\n",
            "[86,   300] loss: 0.026\n",
            "Accuracy of the network on the 10000 test images: 90.278037 %\n",
            "[86,   400] loss: 0.029\n",
            "Accuracy of the network on the 10000 test images: 90.293706 %\n",
            "[86,   500] loss: 0.030\n",
            "Accuracy of the network on the 10000 test images: 90.313953 %\n",
            "[87,   100] loss: 0.021\n",
            "Accuracy of the network on the 10000 test images: 90.336427 %\n",
            "[87,   200] loss: 0.022\n",
            "Accuracy of the network on the 10000 test images: 90.358796 %\n",
            "[87,   300] loss: 0.022\n",
            "Accuracy of the network on the 10000 test images: 90.381062 %\n",
            "[87,   400] loss: 0.020\n",
            "Accuracy of the network on the 10000 test images: 90.400922 %\n",
            "[87,   500] loss: 0.029\n",
            "Accuracy of the network on the 10000 test images: 90.422989 %\n",
            "[88,   100] loss: 0.026\n",
            "Accuracy of the network on the 10000 test images: 90.444954 %\n",
            "[88,   200] loss: 0.026\n",
            "Accuracy of the network on the 10000 test images: 90.459954 %\n",
            "[88,   300] loss: 0.037\n",
            "Accuracy of the network on the 10000 test images: 90.474886 %\n",
            "[88,   400] loss: 0.028\n",
            "Accuracy of the network on the 10000 test images: 90.496583 %\n",
            "[88,   500] loss: 0.035\n",
            "Accuracy of the network on the 10000 test images: 90.513636 %\n",
            "[89,   100] loss: 0.037\n",
            "Accuracy of the network on the 10000 test images: 90.532880 %\n",
            "[89,   200] loss: 0.028\n",
            "Accuracy of the network on the 10000 test images: 90.554299 %\n",
            "[89,   300] loss: 0.026\n",
            "Accuracy of the network on the 10000 test images: 90.575621 %\n",
            "[89,   400] loss: 0.033\n",
            "Accuracy of the network on the 10000 test images: 90.592342 %\n",
            "[89,   500] loss: 0.039\n",
            "Accuracy of the network on the 10000 test images: 90.613483 %\n",
            "[90,   100] loss: 0.020\n",
            "Accuracy of the network on the 10000 test images: 90.634529 %\n",
            "[90,   200] loss: 0.022\n",
            "Accuracy of the network on the 10000 test images: 90.653244 %\n",
            "[90,   300] loss: 0.023\n",
            "Accuracy of the network on the 10000 test images: 90.674107 %\n",
            "[90,   400] loss: 0.026\n",
            "Accuracy of the network on the 10000 test images: 90.692650 %\n",
            "[90,   500] loss: 0.024\n",
            "Accuracy of the network on the 10000 test images: 90.711111 %\n",
            "[91,   100] loss: 0.028\n",
            "Accuracy of the network on the 10000 test images: 90.731707 %\n",
            "[91,   200] loss: 0.023\n",
            "Accuracy of the network on the 10000 test images: 90.752212 %\n",
            "[91,   300] loss: 0.023\n",
            "Accuracy of the network on the 10000 test images: 90.770419 %\n",
            "[91,   400] loss: 0.025\n",
            "Accuracy of the network on the 10000 test images: 90.790749 %\n",
            "[91,   500] loss: 0.027\n",
            "Accuracy of the network on the 10000 test images: 90.810989 %\n",
            "[92,   100] loss: 0.021\n",
            "Accuracy of the network on the 10000 test images: 90.831140 %\n",
            "[92,   200] loss: 0.022\n",
            "Accuracy of the network on the 10000 test images: 90.846827 %\n",
            "[92,   300] loss: 0.024\n",
            "Accuracy of the network on the 10000 test images: 90.864629 %\n",
            "[92,   400] loss: 0.033\n",
            "Accuracy of the network on the 10000 test images: 90.884532 %\n",
            "[92,   500] loss: 0.030\n",
            "Accuracy of the network on the 10000 test images: 90.897826 %\n",
            "[93,   100] loss: 0.027\n",
            "Accuracy of the network on the 10000 test images: 90.913232 %\n",
            "[93,   200] loss: 0.023\n",
            "Accuracy of the network on the 10000 test images: 90.932900 %\n",
            "[93,   300] loss: 0.029\n",
            "Accuracy of the network on the 10000 test images: 90.950324 %\n",
            "[93,   400] loss: 0.031\n",
            "Accuracy of the network on the 10000 test images: 90.969828 %\n",
            "[93,   500] loss: 0.029\n",
            "Accuracy of the network on the 10000 test images: 90.982796 %\n",
            "[94,   100] loss: 0.030\n",
            "Accuracy of the network on the 10000 test images: 91.002146 %\n",
            "[94,   200] loss: 0.022\n",
            "Accuracy of the network on the 10000 test images: 91.021413 %\n",
            "[94,   300] loss: 0.021\n",
            "Accuracy of the network on the 10000 test images: 91.040598 %\n",
            "[94,   400] loss: 0.017\n",
            "Accuracy of the network on the 10000 test images: 91.057569 %\n",
            "[94,   500] loss: 0.030\n",
            "Accuracy of the network on the 10000 test images: 91.074468 %\n",
            "[95,   100] loss: 0.027\n",
            "Accuracy of the network on the 10000 test images: 91.076433 %\n",
            "[95,   200] loss: 0.030\n",
            "Accuracy of the network on the 10000 test images: 91.095339 %\n",
            "[95,   300] loss: 0.028\n",
            "Accuracy of the network on the 10000 test images: 91.114165 %\n",
            "[95,   400] loss: 0.023\n",
            "Accuracy of the network on the 10000 test images: 91.130802 %\n",
            "[95,   500] loss: 0.025\n",
            "Accuracy of the network on the 10000 test images: 91.149474 %\n",
            "[96,   100] loss: 0.021\n",
            "Accuracy of the network on the 10000 test images: 91.168067 %\n",
            "[96,   200] loss: 0.018\n",
            "Accuracy of the network on the 10000 test images: 91.186583 %\n",
            "[96,   300] loss: 0.025\n",
            "Accuracy of the network on the 10000 test images: 91.205021 %\n",
            "[96,   400] loss: 0.027\n",
            "Accuracy of the network on the 10000 test images: 91.221294 %\n",
            "[96,   500] loss: 0.025\n",
            "Accuracy of the network on the 10000 test images: 91.237500 %\n",
            "[97,   100] loss: 0.017\n",
            "Accuracy of the network on the 10000 test images: 91.255717 %\n",
            "[97,   200] loss: 0.023\n",
            "Accuracy of the network on the 10000 test images: 91.271784 %\n",
            "[97,   300] loss: 0.023\n",
            "Accuracy of the network on the 10000 test images: 91.289855 %\n",
            "[97,   400] loss: 0.021\n",
            "Accuracy of the network on the 10000 test images: 91.305785 %\n",
            "[97,   500] loss: 0.021\n",
            "Accuracy of the network on the 10000 test images: 91.323711 %\n",
            "[98,   100] loss: 0.027\n",
            "Accuracy of the network on the 10000 test images: 91.341564 %\n",
            "[98,   200] loss: 0.030\n",
            "Accuracy of the network on the 10000 test images: 91.355236 %\n",
            "[98,   300] loss: 0.025\n",
            "Accuracy of the network on the 10000 test images: 91.372951 %\n",
            "[98,   400] loss: 0.026\n",
            "Accuracy of the network on the 10000 test images: 91.386503 %\n",
            "[98,   500] loss: 0.028\n",
            "Accuracy of the network on the 10000 test images: 91.404082 %\n",
            "[99,   100] loss: 0.025\n",
            "Accuracy of the network on the 10000 test images: 91.419552 %\n",
            "[99,   200] loss: 0.022\n",
            "Accuracy of the network on the 10000 test images: 91.436992 %\n",
            "[99,   300] loss: 0.024\n",
            "Accuracy of the network on the 10000 test images: 91.454361 %\n",
            "[99,   400] loss: 0.029\n",
            "Accuracy of the network on the 10000 test images: 91.469636 %\n",
            "[99,   500] loss: 0.027\n",
            "Accuracy of the network on the 10000 test images: 91.486869 %\n",
            "[100,   100] loss: 0.017\n",
            "Accuracy of the network on the 10000 test images: 91.504032 %\n",
            "[100,   200] loss: 0.020\n",
            "Accuracy of the network on the 10000 test images: 91.521127 %\n",
            "[100,   300] loss: 0.020\n",
            "Accuracy of the network on the 10000 test images: 91.538153 %\n",
            "[100,   400] loss: 0.027\n",
            "Accuracy of the network on the 10000 test images: 91.555110 %\n",
            "[100,   500] loss: 0.026\n",
            "Accuracy of the network on the 10000 test images: 91.572000 %\n",
            "0:21:51.437607\n"
          ],
          "name": "stdout"
        }
      ]
    },
    {
      "cell_type": "markdown",
      "metadata": {
        "id": "e96H9RhobDQy"
      },
      "source": [
        "# Metrics for testing dataset and Resnet20"
      ]
    },
    {
      "cell_type": "code",
      "metadata": {
        "id": "11cQ712n_gkX"
      },
      "source": [
        "from sklearn.metrics import classification_report"
      ],
      "execution_count": null,
      "outputs": []
    },
    {
      "cell_type": "markdown",
      "metadata": {
        "id": "B8-z0JRxLq-A"
      },
      "source": [
        "## Import the model to validate"
      ]
    },
    {
      "cell_type": "code",
      "metadata": {
        "colab": {
          "base_uri": "https://localhost:8080/"
        },
        "id": "a18GVkxdouI6",
        "outputId": "136add77-fc91-40f6-80bc-331d310d56be"
      },
      "source": [
        "model.load_state_dict(\n",
        "    torch.load(\"model_resnet.pth\"))"
      ],
      "execution_count": null,
      "outputs": [
        {
          "output_type": "execute_result",
          "data": {
            "text/plain": [
              "<All keys matched successfully>"
            ]
          },
          "metadata": {
            "tags": []
          },
          "execution_count": 245
        }
      ]
    },
    {
      "cell_type": "code",
      "metadata": {
        "id": "s1xPnZ8FSmz3"
      },
      "source": [
        "import torchvision\n",
        "import torchvision\n",
        "import torchvision.transforms as transforms"
      ],
      "execution_count": 7,
      "outputs": []
    },
    {
      "cell_type": "markdown",
      "metadata": {
        "id": "udpq11VpLwHB"
      },
      "source": [
        "## Open the dataset"
      ]
    },
    {
      "cell_type": "code",
      "metadata": {
        "id": "Ez_akVRyY4QG",
        "colab": {
          "base_uri": "https://localhost:8080/"
        },
        "outputId": "9082bd97-1903-43a3-ca36-7b7b5c670af7"
      },
      "source": [
        "torch.manual_seed(0)\n",
        "np.random.seed(0)\n",
        "transform = transforms.Compose(\n",
        "    [transforms.ToTensor(),\n",
        "     transforms.Normalize((0.5, 0.5, 0.5), (0.5, 0.5, 0.5))])\n",
        "\n",
        "trainset = torchvision.datasets.CIFAR10(root='./data', train=True,\n",
        "                                        download=True, transform=transform)\n",
        "trainloader = torch.utils.data.DataLoader(trainset, batch_size=10,\n",
        "                                          shuffle=True, num_workers=4)\n",
        "\n",
        "testset = torchvision.datasets.CIFAR10(root='./data', train=False,\n",
        "                                       download=True, transform=transform)\n",
        "testloader = torch.utils.data.DataLoader(testset, batch_size=10,\n",
        "                                         shuffle=False, num_workers=4)\n",
        "\n",
        "classes = ('plane', 'car', 'bird', 'cat',\n",
        "           'deer', 'dog', 'frog', 'horse', 'ship', 'truck')"
      ],
      "execution_count": null,
      "outputs": [
        {
          "output_type": "stream",
          "text": [
            "Files already downloaded and verified\n",
            "Files already downloaded and verified\n"
          ],
          "name": "stdout"
        }
      ]
    },
    {
      "cell_type": "code",
      "metadata": {
        "id": "H8B4rSRLa3Kc"
      },
      "source": [
        "import torch\n",
        "import torch.nn as nn\n",
        "import torch.nn.functional as F\n",
        "import torch.nn.init as init\n",
        "\n",
        "from torch.autograd import Variable\n",
        "\n",
        "__all__ = ['ResNet', 'resnet20', 'resnet32', 'resnet44', 'resnet56', 'resnet110', 'resnet1202']\n",
        "\n",
        "def _weights_init(m):\n",
        "    classname = m.__class__.__name__\n",
        "    #print(classname)\n",
        "    if isinstance(m, nn.Linear) or isinstance(m, nn.Conv2d):\n",
        "        init.kaiming_normal_(m.weight)\n",
        "\n",
        "class LambdaLayer(nn.Module):\n",
        "    def __init__(self, lambd):\n",
        "        super(LambdaLayer, self).__init__()\n",
        "        self.lambd = lambd\n",
        "\n",
        "    def forward(self, x):\n",
        "        return self.lambd(x)\n",
        "\n",
        "\n",
        "class BasicBlock(nn.Module):\n",
        "    expansion = 1\n",
        "\n",
        "    def __init__(self, in_planes, planes, stride=1, option='A'):\n",
        "        super(BasicBlock, self).__init__()\n",
        "        self.conv1 = nn.Conv2d(in_planes, planes, kernel_size=3, stride=stride, padding=1, bias=False)\n",
        "        self.bn1 = nn.BatchNorm2d(planes)\n",
        "        self.conv2 = nn.Conv2d(planes, planes, kernel_size=3, stride=1, padding=1, bias=False)\n",
        "        self.bn2 = nn.BatchNorm2d(planes)\n",
        "\n",
        "        self.shortcut = nn.Sequential()\n",
        "        if stride != 1 or in_planes != planes:\n",
        "            if option == 'A':\n",
        "                \"\"\"\n",
        "                For CIFAR10 ResNet paper uses option A.\n",
        "                \"\"\"\n",
        "                self.shortcut = LambdaLayer(lambda x:\n",
        "                                            F.pad(x[:, :, ::2, ::2], (0, 0, 0, 0, planes//4, planes//4), \"constant\", 0))\n",
        "            elif option == 'B':\n",
        "                self.shortcut = nn.Sequential(\n",
        "                     nn.Conv2d(in_planes, self.expansion * planes, kernel_size=1, stride=stride, bias=False),\n",
        "                     nn.BatchNorm2d(self.expansion * planes)\n",
        "                )\n",
        "\n",
        "    def forward(self, x):\n",
        "        out = F.relu(self.bn1(self.conv1(x)))\n",
        "        out = self.bn2(self.conv2(out))\n",
        "        out += self.shortcut(x)\n",
        "        out = F.relu(out)\n",
        "        return out\n",
        "\n",
        "\n",
        "class ResNet(nn.Module):\n",
        "    def __init__(self, block, num_blocks, num_classes=10):\n",
        "        super(ResNet, self).__init__()\n",
        "        self.in_planes = 16\n",
        "\n",
        "        self.conv1 = nn.Conv2d(3, 16, kernel_size=3, stride=1, padding=1, bias=False)\n",
        "        self.bn1 = nn.BatchNorm2d(16)\n",
        "        self.layer1 = self._make_layer(block, 16, num_blocks[0], stride=1)\n",
        "        self.layer2 = self._make_layer(block, 32, num_blocks[1], stride=2)\n",
        "        self.layer3 = self._make_layer(block, 64, num_blocks[2], stride=2)\n",
        "        self.linear = nn.Linear(64, num_classes)\n",
        "\n",
        "        self.apply(_weights_init)\n",
        "\n",
        "    def _make_layer(self, block, planes, num_blocks, stride):\n",
        "        strides = [stride] + [1]*(num_blocks-1)\n",
        "        layers = []\n",
        "        for stride in strides:\n",
        "            layers.append(block(self.in_planes, planes, stride))\n",
        "            self.in_planes = planes * block.expansion\n",
        "\n",
        "        return nn.Sequential(*layers)\n",
        "\n",
        "    def forward(self, x):\n",
        "        out = F.relu(self.bn1(self.conv1(x)))\n",
        "        out = self.layer1(out)\n",
        "        out = self.layer2(out)\n",
        "        out = self.layer3(out)\n",
        "        out = F.avg_pool2d(out, out.size()[3])\n",
        "        out = out.view(out.size(0), -1)\n",
        "        out = self.linear(out)\n",
        "        return out\n",
        "\n",
        "\n",
        "def resnet20():\n",
        "    return ResNet(BasicBlock, [3, 3, 3])\n",
        "\n",
        "\n",
        "def resnet32():\n",
        "    return ResNet(BasicBlock, [5, 5, 5])\n",
        "\n",
        "\n",
        "def resnet44():\n",
        "    return ResNet(BasicBlock, [7, 7, 7])\n",
        "\n",
        "\n",
        "def resnet56():\n",
        "    return ResNet(BasicBlock, [9, 9, 9])\n",
        "\n",
        "\n",
        "def resnet110():\n",
        "    return ResNet(BasicBlock, [18, 18, 18])\n",
        "\n",
        "\n",
        "def resnet1202():\n",
        "    return ResNet(BasicBlock, [200, 200, 200])\n",
        "\n",
        "model=resnet18().cuda()"
      ],
      "execution_count": null,
      "outputs": []
    },
    {
      "cell_type": "code",
      "metadata": {
        "colab": {
          "base_uri": "https://localhost:8080/"
        },
        "id": "e3GOykthTUPo",
        "outputId": "0e922273-5dd4-4e16-caed-3bc183b83096"
      },
      "source": [
        "model.load_state_dict(\n",
        "    torch.load(\"model_resnet.pth\"))"
      ],
      "execution_count": null,
      "outputs": [
        {
          "output_type": "execute_result",
          "data": {
            "text/plain": [
              "<All keys matched successfully>"
            ]
          },
          "metadata": {
            "tags": []
          },
          "execution_count": 188
        }
      ]
    },
    {
      "cell_type": "markdown",
      "metadata": {
        "id": "cVHq6fRkL9LX"
      },
      "source": [
        "## Creating the confusion matrix for testing dataset and ResNet20"
      ]
    },
    {
      "cell_type": "code",
      "metadata": {
        "colab": {
          "base_uri": "https://localhost:8080/"
        },
        "id": "bEiMJxSNYefe",
        "outputId": "f61ec34a-00e0-42da-9a09-4ec4a20e379c"
      },
      "source": [
        "nb_classes = 10\n",
        "confusion_matrix_resnet_test = torch.zeros(nb_classes, nb_classes)\n",
        "with torch.no_grad():\n",
        "    for data in testloader:\n",
        "        images, labels = data[0].cuda(), data[1].cuda()\n",
        "        #images, labels = data[0], data[1]\n",
        "\n",
        "        outputs = model(images)#[:,-1,-1,:]\n",
        "        _, predicted = torch.max(outputs.data, 1)\n",
        "        for t, p in zip(labels.view(-1), predicted.view(-1)):\n",
        "                confusion_matrix_resnet_test[t.long(), p.long()] += 1\n",
        "\n",
        "print(confusion_matrix_resnet_test)"
      ],
      "execution_count": null,
      "outputs": [
        {
          "output_type": "stream",
          "text": [
            "tensor([[722.,  26.,  69.,  25.,  23.,  12.,  12.,  17.,  57.,  37.],\n",
            "        [ 49., 671.,   8.,  26.,  12.,  21.,  30.,  11.,  37., 135.],\n",
            "        [ 78.,  12., 501.,  73.,  92.,  83.,  96.,  33.,  16.,  16.],\n",
            "        [ 33.,  11.,  93., 408.,  91., 186.,  95.,  30.,  25.,  28.],\n",
            "        [ 30.,  10.,  97.,  69., 524.,  68.,  94.,  75.,  17.,  16.],\n",
            "        [ 25.,  10.,  82., 172.,  64., 520.,  50.,  45.,  12.,  20.],\n",
            "        [ 14.,  19.,  51.,  81.,  56.,  39., 692.,  11.,  16.,  21.],\n",
            "        [ 32.,  15.,  46.,  81., 113.,  93.,  19., 572.,   6.,  23.],\n",
            "        [141.,  42.,  30.,  21.,  17.,  19.,  16.,  10., 666.,  38.],\n",
            "        [ 46.,  85.,   8.,  49.,  15.,  21.,  25.,  23.,  39., 689.]])\n"
          ],
          "name": "stdout"
        }
      ]
    },
    {
      "cell_type": "markdown",
      "metadata": {
        "id": "QIl5vpCCMByz"
      },
      "source": [
        "## Transforming into DataFrame for a better visualization"
      ]
    },
    {
      "cell_type": "code",
      "metadata": {
        "id": "wkkj6Ny5ZGLG"
      },
      "source": [
        "confusion_matrix_resnet_test_df=pd.DataFrame(confusion_matrix_resnet_test.numpy(),columns=classes, index=classes)"
      ],
      "execution_count": null,
      "outputs": []
    },
    {
      "cell_type": "code",
      "metadata": {
        "colab": {
          "base_uri": "https://localhost:8080/",
          "height": 359
        },
        "id": "uKC16NPCutB6",
        "outputId": "93c96709-6519-4d32-8067-05347b2f287a"
      },
      "source": [
        "confusion_matrix_resnet_test_df"
      ],
      "execution_count": null,
      "outputs": [
        {
          "output_type": "execute_result",
          "data": {
            "text/html": [
              "<div>\n",
              "<style scoped>\n",
              "    .dataframe tbody tr th:only-of-type {\n",
              "        vertical-align: middle;\n",
              "    }\n",
              "\n",
              "    .dataframe tbody tr th {\n",
              "        vertical-align: top;\n",
              "    }\n",
              "\n",
              "    .dataframe thead th {\n",
              "        text-align: right;\n",
              "    }\n",
              "</style>\n",
              "<table border=\"1\" class=\"dataframe\">\n",
              "  <thead>\n",
              "    <tr style=\"text-align: right;\">\n",
              "      <th></th>\n",
              "      <th>plane</th>\n",
              "      <th>car</th>\n",
              "      <th>bird</th>\n",
              "      <th>cat</th>\n",
              "      <th>deer</th>\n",
              "      <th>dog</th>\n",
              "      <th>frog</th>\n",
              "      <th>horse</th>\n",
              "      <th>ship</th>\n",
              "      <th>truck</th>\n",
              "    </tr>\n",
              "  </thead>\n",
              "  <tbody>\n",
              "    <tr>\n",
              "      <th>plane</th>\n",
              "      <td>722.0</td>\n",
              "      <td>26.0</td>\n",
              "      <td>69.0</td>\n",
              "      <td>25.0</td>\n",
              "      <td>23.0</td>\n",
              "      <td>12.0</td>\n",
              "      <td>12.0</td>\n",
              "      <td>17.0</td>\n",
              "      <td>57.0</td>\n",
              "      <td>37.0</td>\n",
              "    </tr>\n",
              "    <tr>\n",
              "      <th>car</th>\n",
              "      <td>49.0</td>\n",
              "      <td>671.0</td>\n",
              "      <td>8.0</td>\n",
              "      <td>26.0</td>\n",
              "      <td>12.0</td>\n",
              "      <td>21.0</td>\n",
              "      <td>30.0</td>\n",
              "      <td>11.0</td>\n",
              "      <td>37.0</td>\n",
              "      <td>135.0</td>\n",
              "    </tr>\n",
              "    <tr>\n",
              "      <th>bird</th>\n",
              "      <td>78.0</td>\n",
              "      <td>12.0</td>\n",
              "      <td>501.0</td>\n",
              "      <td>73.0</td>\n",
              "      <td>92.0</td>\n",
              "      <td>83.0</td>\n",
              "      <td>96.0</td>\n",
              "      <td>33.0</td>\n",
              "      <td>16.0</td>\n",
              "      <td>16.0</td>\n",
              "    </tr>\n",
              "    <tr>\n",
              "      <th>cat</th>\n",
              "      <td>33.0</td>\n",
              "      <td>11.0</td>\n",
              "      <td>93.0</td>\n",
              "      <td>408.0</td>\n",
              "      <td>91.0</td>\n",
              "      <td>186.0</td>\n",
              "      <td>95.0</td>\n",
              "      <td>30.0</td>\n",
              "      <td>25.0</td>\n",
              "      <td>28.0</td>\n",
              "    </tr>\n",
              "    <tr>\n",
              "      <th>deer</th>\n",
              "      <td>30.0</td>\n",
              "      <td>10.0</td>\n",
              "      <td>97.0</td>\n",
              "      <td>69.0</td>\n",
              "      <td>524.0</td>\n",
              "      <td>68.0</td>\n",
              "      <td>94.0</td>\n",
              "      <td>75.0</td>\n",
              "      <td>17.0</td>\n",
              "      <td>16.0</td>\n",
              "    </tr>\n",
              "    <tr>\n",
              "      <th>dog</th>\n",
              "      <td>25.0</td>\n",
              "      <td>10.0</td>\n",
              "      <td>82.0</td>\n",
              "      <td>172.0</td>\n",
              "      <td>64.0</td>\n",
              "      <td>520.0</td>\n",
              "      <td>50.0</td>\n",
              "      <td>45.0</td>\n",
              "      <td>12.0</td>\n",
              "      <td>20.0</td>\n",
              "    </tr>\n",
              "    <tr>\n",
              "      <th>frog</th>\n",
              "      <td>14.0</td>\n",
              "      <td>19.0</td>\n",
              "      <td>51.0</td>\n",
              "      <td>81.0</td>\n",
              "      <td>56.0</td>\n",
              "      <td>39.0</td>\n",
              "      <td>692.0</td>\n",
              "      <td>11.0</td>\n",
              "      <td>16.0</td>\n",
              "      <td>21.0</td>\n",
              "    </tr>\n",
              "    <tr>\n",
              "      <th>horse</th>\n",
              "      <td>32.0</td>\n",
              "      <td>15.0</td>\n",
              "      <td>46.0</td>\n",
              "      <td>81.0</td>\n",
              "      <td>113.0</td>\n",
              "      <td>93.0</td>\n",
              "      <td>19.0</td>\n",
              "      <td>572.0</td>\n",
              "      <td>6.0</td>\n",
              "      <td>23.0</td>\n",
              "    </tr>\n",
              "    <tr>\n",
              "      <th>ship</th>\n",
              "      <td>141.0</td>\n",
              "      <td>42.0</td>\n",
              "      <td>30.0</td>\n",
              "      <td>21.0</td>\n",
              "      <td>17.0</td>\n",
              "      <td>19.0</td>\n",
              "      <td>16.0</td>\n",
              "      <td>10.0</td>\n",
              "      <td>666.0</td>\n",
              "      <td>38.0</td>\n",
              "    </tr>\n",
              "    <tr>\n",
              "      <th>truck</th>\n",
              "      <td>46.0</td>\n",
              "      <td>85.0</td>\n",
              "      <td>8.0</td>\n",
              "      <td>49.0</td>\n",
              "      <td>15.0</td>\n",
              "      <td>21.0</td>\n",
              "      <td>25.0</td>\n",
              "      <td>23.0</td>\n",
              "      <td>39.0</td>\n",
              "      <td>689.0</td>\n",
              "    </tr>\n",
              "  </tbody>\n",
              "</table>\n",
              "</div>"
            ],
            "text/plain": [
              "       plane    car   bird    cat   deer    dog   frog  horse   ship  truck\n",
              "plane  722.0   26.0   69.0   25.0   23.0   12.0   12.0   17.0   57.0   37.0\n",
              "car     49.0  671.0    8.0   26.0   12.0   21.0   30.0   11.0   37.0  135.0\n",
              "bird    78.0   12.0  501.0   73.0   92.0   83.0   96.0   33.0   16.0   16.0\n",
              "cat     33.0   11.0   93.0  408.0   91.0  186.0   95.0   30.0   25.0   28.0\n",
              "deer    30.0   10.0   97.0   69.0  524.0   68.0   94.0   75.0   17.0   16.0\n",
              "dog     25.0   10.0   82.0  172.0   64.0  520.0   50.0   45.0   12.0   20.0\n",
              "frog    14.0   19.0   51.0   81.0   56.0   39.0  692.0   11.0   16.0   21.0\n",
              "horse   32.0   15.0   46.0   81.0  113.0   93.0   19.0  572.0    6.0   23.0\n",
              "ship   141.0   42.0   30.0   21.0   17.0   19.0   16.0   10.0  666.0   38.0\n",
              "truck   46.0   85.0    8.0   49.0   15.0   21.0   25.0   23.0   39.0  689.0"
            ]
          },
          "metadata": {
            "tags": []
          },
          "execution_count": 252
        }
      ]
    },
    {
      "cell_type": "markdown",
      "metadata": {
        "id": "Urdd8k1AMHox"
      },
      "source": [
        "## Couting the number of each obvervation by class"
      ]
    },
    {
      "cell_type": "code",
      "metadata": {
        "colab": {
          "base_uri": "https://localhost:8080/"
        },
        "id": "V7BWmT7UwIza",
        "outputId": "49d5a5b1-93dc-4baa-d5de-677bf0f30d93"
      },
      "source": [
        "confusion_matrix_resnet_test_df.sum()"
      ],
      "execution_count": null,
      "outputs": [
        {
          "output_type": "execute_result",
          "data": {
            "text/plain": [
              "plane    1170.0\n",
              "car       901.0\n",
              "bird      985.0\n",
              "cat      1005.0\n",
              "deer     1007.0\n",
              "dog      1062.0\n",
              "frog     1129.0\n",
              "horse     827.0\n",
              "ship      891.0\n",
              "truck    1023.0\n",
              "dtype: float32"
            ]
          },
          "metadata": {
            "tags": []
          },
          "execution_count": 253
        }
      ]
    },
    {
      "cell_type": "markdown",
      "metadata": {
        "id": "EeVzXdiiMN7-"
      },
      "source": [
        "## Measuring the accuracy by class in a array format"
      ]
    },
    {
      "cell_type": "code",
      "metadata": {
        "colab": {
          "base_uri": "https://localhost:8080/"
        },
        "id": "9wSWQusJSXEn",
        "outputId": "5de04b40-4618-490c-e923-80d557419077"
      },
      "source": [
        "# accuracy per class\n",
        "print(confusion_matrix_resnet_test.diag()/confusion_matrix_resnet_test.sum(1))"
      ],
      "execution_count": null,
      "outputs": [
        {
          "output_type": "stream",
          "text": [
            "tensor([0.7220, 0.6710, 0.5010, 0.4080, 0.5240, 0.5200, 0.6920, 0.5720, 0.6660,\n",
            "        0.6890])\n"
          ],
          "name": "stdout"
        }
      ]
    },
    {
      "cell_type": "code",
      "metadata": {
        "id": "h-O-Q7JMT6G5"
      },
      "source": [
        "import numpy as np"
      ],
      "execution_count": 6,
      "outputs": []
    },
    {
      "cell_type": "markdown",
      "metadata": {
        "id": "4OV00tCnMT61"
      },
      "source": [
        "## Measuring the overall accuracy for ResNet20 in testing dataset"
      ]
    },
    {
      "cell_type": "code",
      "metadata": {
        "colab": {
          "base_uri": "https://localhost:8080/"
        },
        "id": "h3vwNB61T0a_",
        "outputId": "6a1f7efe-83cc-459f-b169-50e1b4e76718"
      },
      "source": [
        "(confusion_matrix_resnet_test.diag()/confusion_matrix_resnet_test.sum(1)).mean()"
      ],
      "execution_count": null,
      "outputs": [
        {
          "output_type": "execute_result",
          "data": {
            "text/plain": [
              "tensor(0.5965)"
            ]
          },
          "metadata": {
            "tags": []
          },
          "execution_count": 256
        }
      ]
    },
    {
      "cell_type": "markdown",
      "metadata": {
        "id": "pTnk_Zi5MZdi"
      },
      "source": [
        "## Putting the output in a dataframe format for a better visualization"
      ]
    },
    {
      "cell_type": "code",
      "metadata": {
        "colab": {
          "base_uri": "https://localhost:8080/",
          "height": 80
        },
        "id": "p7_TiibrVdUT",
        "outputId": "064df303-8f41-456c-e19f-9261688ec35b"
      },
      "source": [
        "topk=pd.DataFrame((confusion_matrix_resnet_test.diag()/confusion_matrix_resnet_test.sum(1)).numpy()).T\n",
        "topk.index=[\"Accuracy\"]\n",
        "topk.columns=classes\n",
        "topk"
      ],
      "execution_count": null,
      "outputs": [
        {
          "output_type": "execute_result",
          "data": {
            "text/html": [
              "<div>\n",
              "<style scoped>\n",
              "    .dataframe tbody tr th:only-of-type {\n",
              "        vertical-align: middle;\n",
              "    }\n",
              "\n",
              "    .dataframe tbody tr th {\n",
              "        vertical-align: top;\n",
              "    }\n",
              "\n",
              "    .dataframe thead th {\n",
              "        text-align: right;\n",
              "    }\n",
              "</style>\n",
              "<table border=\"1\" class=\"dataframe\">\n",
              "  <thead>\n",
              "    <tr style=\"text-align: right;\">\n",
              "      <th></th>\n",
              "      <th>plane</th>\n",
              "      <th>car</th>\n",
              "      <th>bird</th>\n",
              "      <th>cat</th>\n",
              "      <th>deer</th>\n",
              "      <th>dog</th>\n",
              "      <th>frog</th>\n",
              "      <th>horse</th>\n",
              "      <th>ship</th>\n",
              "      <th>truck</th>\n",
              "    </tr>\n",
              "  </thead>\n",
              "  <tbody>\n",
              "    <tr>\n",
              "      <th>Accuracy</th>\n",
              "      <td>0.722</td>\n",
              "      <td>0.671</td>\n",
              "      <td>0.501</td>\n",
              "      <td>0.408</td>\n",
              "      <td>0.524</td>\n",
              "      <td>0.52</td>\n",
              "      <td>0.692</td>\n",
              "      <td>0.572</td>\n",
              "      <td>0.666</td>\n",
              "      <td>0.689</td>\n",
              "    </tr>\n",
              "  </tbody>\n",
              "</table>\n",
              "</div>"
            ],
            "text/plain": [
              "          plane    car   bird    cat   deer   dog   frog  horse   ship  truck\n",
              "Accuracy  0.722  0.671  0.501  0.408  0.524  0.52  0.692  0.572  0.666  0.689"
            ]
          },
          "metadata": {
            "tags": []
          },
          "execution_count": 257
        }
      ]
    },
    {
      "cell_type": "markdown",
      "metadata": {
        "id": "o8wtiSucMmNv"
      },
      "source": [
        "## Measuring the Recall and Precision for testing dataset and ResNet20"
      ]
    },
    {
      "cell_type": "code",
      "metadata": {
        "id": "PMNRo5ZcL4ud"
      },
      "source": [
        "recall = np.diag(confusion_matrix_resnet_test_df) / np.sum(confusion_matrix_resnet_test_df, axis = 1)\n",
        "precision = np.diag(confusion_matrix_resnet_test_df) / np.sum(confusion_matrix_resnet_test_df, axis = 0)"
      ],
      "execution_count": null,
      "outputs": []
    },
    {
      "cell_type": "code",
      "metadata": {
        "colab": {
          "base_uri": "https://localhost:8080/"
        },
        "id": "eHc14dH4Mfrd",
        "outputId": "c131fdfd-6fd8-4408-9b95-0996802386fd"
      },
      "source": [
        "precision"
      ],
      "execution_count": null,
      "outputs": [
        {
          "output_type": "execute_result",
          "data": {
            "text/plain": [
              "plane    0.617094\n",
              "car      0.744728\n",
              "bird     0.508629\n",
              "cat      0.405970\n",
              "deer     0.520357\n",
              "dog      0.489642\n",
              "frog     0.612932\n",
              "horse    0.691657\n",
              "ship     0.747475\n",
              "truck    0.673509\n",
              "dtype: float32"
            ]
          },
          "metadata": {
            "tags": []
          },
          "execution_count": 260
        }
      ]
    },
    {
      "cell_type": "code",
      "metadata": {
        "colab": {
          "base_uri": "https://localhost:8080/"
        },
        "id": "R5dNS61nL9yU",
        "outputId": "2f415b93-41da-45a6-b902-c3bad123f211"
      },
      "source": [
        "recall"
      ],
      "execution_count": null,
      "outputs": [
        {
          "output_type": "execute_result",
          "data": {
            "text/plain": [
              "plane    0.722\n",
              "car      0.671\n",
              "bird     0.501\n",
              "cat      0.408\n",
              "deer     0.524\n",
              "dog      0.520\n",
              "frog     0.692\n",
              "horse    0.572\n",
              "ship     0.666\n",
              "truck    0.689\n",
              "dtype: float32"
            ]
          },
          "metadata": {
            "tags": []
          },
          "execution_count": 261
        }
      ]
    },
    {
      "cell_type": "code",
      "metadata": {
        "colab": {
          "base_uri": "https://localhost:8080/"
        },
        "id": "hL4h1oDSpMet",
        "outputId": "15fe7007-1ed3-4bf6-add0-5dc71be73785"
      },
      "source": [
        "#overall recall and precision\n",
        "print(np.mean(recall),\n",
        "np.mean(precision))"
      ],
      "execution_count": null,
      "outputs": [
        {
          "output_type": "stream",
          "text": [
            "0.596500039100647 0.6011993288993835\n"
          ],
          "name": "stdout"
        }
      ]
    },
    {
      "cell_type": "markdown",
      "metadata": {
        "id": "HKjYxBI4Msg9"
      },
      "source": [
        "## Measuring the F-Score for testing dataset and ResNet20"
      ]
    },
    {
      "cell_type": "code",
      "metadata": {
        "colab": {
          "base_uri": "https://localhost:8080/"
        },
        "id": "H4kPcaaBpUQ4",
        "outputId": "2ce98b28-ed19-4f7d-d6ba-13936aceb268"
      },
      "source": [
        "2*(precision*recall)/(precision+recall)"
      ],
      "execution_count": null,
      "outputs": [
        {
          "output_type": "execute_result",
          "data": {
            "text/plain": [
              "plane    0.665438\n",
              "car      0.705944\n",
              "bird     0.504786\n",
              "cat      0.406983\n",
              "deer     0.522172\n",
              "dog      0.504365\n",
              "frog     0.650070\n",
              "horse    0.626163\n",
              "ship     0.704389\n",
              "truck    0.681167\n",
              "dtype: float32"
            ]
          },
          "metadata": {
            "tags": []
          },
          "execution_count": 263
        }
      ]
    },
    {
      "cell_type": "markdown",
      "metadata": {
        "id": "DIX-q-oyMyPz"
      },
      "source": [
        "## Overall f-score for testing dataset and ResNet20"
      ]
    },
    {
      "cell_type": "code",
      "metadata": {
        "colab": {
          "base_uri": "https://localhost:8080/"
        },
        "id": "lFilMSBAaXv_",
        "outputId": "b7c9d084-b5d9-4af6-e985-cf447c2ddcb1"
      },
      "source": [
        "(2*(precision*recall)/(precision+recall)).mean()"
      ],
      "execution_count": null,
      "outputs": [
        {
          "output_type": "execute_result",
          "data": {
            "text/plain": [
              "0.5971476435661316"
            ]
          },
          "metadata": {
            "tags": []
          },
          "execution_count": 264
        }
      ]
    },
    {
      "cell_type": "markdown",
      "metadata": {
        "id": "2dSv7pWJofvo"
      },
      "source": [
        "# Metrics for training dataset and ResNet20"
      ]
    },
    {
      "cell_type": "markdown",
      "metadata": {
        "id": "gzMMpxMgNAK2"
      },
      "source": [
        "## Creating the confusion matrix for testing dataset and ResNet20"
      ]
    },
    {
      "cell_type": "code",
      "metadata": {
        "colab": {
          "base_uri": "https://localhost:8080/"
        },
        "id": "sgIhpyjRoaa7",
        "outputId": "4f6b9242-8136-4a1e-ac66-99264b076fdf"
      },
      "source": [
        "nb_classes = 10\n",
        "\n",
        "confusion_matrix_resnet_train = torch.zeros(nb_classes, nb_classes)\n",
        "with torch.no_grad():\n",
        "    for data in trainloader:\n",
        "        images, labels = data[0].cuda(), data[1].cuda()\n",
        "        #images, labels = data[0], data[1]\n",
        "\n",
        "        outputs = model(images)#[:,-1,-1,:]\n",
        "        _, predicted = torch.max(outputs.data, 1)\n",
        "        for t, p in zip(labels.view(-1), predicted.view(-1)):\n",
        "                confusion_matrix_resnet_train[t.long(), p.long()] += 1\n",
        "\n",
        "print(confusion_matrix_resnet_train)"
      ],
      "execution_count": null,
      "outputs": [
        {
          "output_type": "stream",
          "text": [
            "tensor([[4431.,   51.,  172.,   31.,   73.,   35.,   43.,   41.,   69.,   54.],\n",
            "        [ 111., 4345.,   31.,   67.,   28.,   29.,   57.,   31.,   67.,  234.],\n",
            "        [ 113.,   36., 4214.,   79.,  146.,  106.,  216.,   43.,   23.,   24.],\n",
            "        [  67.,   28.,  163., 4029.,  132.,  217.,  192.,   56.,   72.,   44.],\n",
            "        [  94.,   27.,  156.,  120., 4127.,  112.,  193.,  119.,   28.,   24.],\n",
            "        [  31.,   15.,  137.,  210.,  121., 4240.,  109.,   60.,   28.,   49.],\n",
            "        [  32.,   43.,   98.,  152.,   94.,   89., 4406.,   14.,   27.,   45.],\n",
            "        [  82.,   30.,  102.,  200.,  240.,  205.,   35., 4016.,   18.,   72.],\n",
            "        [ 309.,   89.,   77.,   84.,   50.,   34.,   46.,   23., 4204.,   84.],\n",
            "        [  95.,  106.,   28.,   97.,   34.,   81.,   62.,   33.,   75., 4389.]])\n"
          ],
          "name": "stdout"
        }
      ]
    },
    {
      "cell_type": "markdown",
      "metadata": {
        "id": "4UaEK0R6NJVi"
      },
      "source": [
        "## Tranforming into dataframe for a better visualization"
      ]
    },
    {
      "cell_type": "code",
      "metadata": {
        "id": "QU9pKh4gqCen"
      },
      "source": [
        "confusion_matrix_resnet_train_df=pd.DataFrame(confusion_matrix_resnet_train.numpy(),columns=classes, index=classes)"
      ],
      "execution_count": null,
      "outputs": []
    },
    {
      "cell_type": "code",
      "metadata": {
        "colab": {
          "base_uri": "https://localhost:8080/",
          "height": 359
        },
        "id": "NN2Pu9UgqHuh",
        "outputId": "3ebc860e-b17e-4427-ceb2-c3bcbc9e41e1"
      },
      "source": [
        "confusion_matrix_resnet_train_df"
      ],
      "execution_count": null,
      "outputs": [
        {
          "output_type": "execute_result",
          "data": {
            "text/html": [
              "<div>\n",
              "<style scoped>\n",
              "    .dataframe tbody tr th:only-of-type {\n",
              "        vertical-align: middle;\n",
              "    }\n",
              "\n",
              "    .dataframe tbody tr th {\n",
              "        vertical-align: top;\n",
              "    }\n",
              "\n",
              "    .dataframe thead th {\n",
              "        text-align: right;\n",
              "    }\n",
              "</style>\n",
              "<table border=\"1\" class=\"dataframe\">\n",
              "  <thead>\n",
              "    <tr style=\"text-align: right;\">\n",
              "      <th></th>\n",
              "      <th>plane</th>\n",
              "      <th>car</th>\n",
              "      <th>bird</th>\n",
              "      <th>cat</th>\n",
              "      <th>deer</th>\n",
              "      <th>dog</th>\n",
              "      <th>frog</th>\n",
              "      <th>horse</th>\n",
              "      <th>ship</th>\n",
              "      <th>truck</th>\n",
              "    </tr>\n",
              "  </thead>\n",
              "  <tbody>\n",
              "    <tr>\n",
              "      <th>plane</th>\n",
              "      <td>4431.0</td>\n",
              "      <td>51.0</td>\n",
              "      <td>172.0</td>\n",
              "      <td>31.0</td>\n",
              "      <td>73.0</td>\n",
              "      <td>35.0</td>\n",
              "      <td>43.0</td>\n",
              "      <td>41.0</td>\n",
              "      <td>69.0</td>\n",
              "      <td>54.0</td>\n",
              "    </tr>\n",
              "    <tr>\n",
              "      <th>car</th>\n",
              "      <td>111.0</td>\n",
              "      <td>4345.0</td>\n",
              "      <td>31.0</td>\n",
              "      <td>67.0</td>\n",
              "      <td>28.0</td>\n",
              "      <td>29.0</td>\n",
              "      <td>57.0</td>\n",
              "      <td>31.0</td>\n",
              "      <td>67.0</td>\n",
              "      <td>234.0</td>\n",
              "    </tr>\n",
              "    <tr>\n",
              "      <th>bird</th>\n",
              "      <td>113.0</td>\n",
              "      <td>36.0</td>\n",
              "      <td>4214.0</td>\n",
              "      <td>79.0</td>\n",
              "      <td>146.0</td>\n",
              "      <td>106.0</td>\n",
              "      <td>216.0</td>\n",
              "      <td>43.0</td>\n",
              "      <td>23.0</td>\n",
              "      <td>24.0</td>\n",
              "    </tr>\n",
              "    <tr>\n",
              "      <th>cat</th>\n",
              "      <td>67.0</td>\n",
              "      <td>28.0</td>\n",
              "      <td>163.0</td>\n",
              "      <td>4029.0</td>\n",
              "      <td>132.0</td>\n",
              "      <td>217.0</td>\n",
              "      <td>192.0</td>\n",
              "      <td>56.0</td>\n",
              "      <td>72.0</td>\n",
              "      <td>44.0</td>\n",
              "    </tr>\n",
              "    <tr>\n",
              "      <th>deer</th>\n",
              "      <td>94.0</td>\n",
              "      <td>27.0</td>\n",
              "      <td>156.0</td>\n",
              "      <td>120.0</td>\n",
              "      <td>4127.0</td>\n",
              "      <td>112.0</td>\n",
              "      <td>193.0</td>\n",
              "      <td>119.0</td>\n",
              "      <td>28.0</td>\n",
              "      <td>24.0</td>\n",
              "    </tr>\n",
              "    <tr>\n",
              "      <th>dog</th>\n",
              "      <td>31.0</td>\n",
              "      <td>15.0</td>\n",
              "      <td>137.0</td>\n",
              "      <td>210.0</td>\n",
              "      <td>121.0</td>\n",
              "      <td>4240.0</td>\n",
              "      <td>109.0</td>\n",
              "      <td>60.0</td>\n",
              "      <td>28.0</td>\n",
              "      <td>49.0</td>\n",
              "    </tr>\n",
              "    <tr>\n",
              "      <th>frog</th>\n",
              "      <td>32.0</td>\n",
              "      <td>43.0</td>\n",
              "      <td>98.0</td>\n",
              "      <td>152.0</td>\n",
              "      <td>94.0</td>\n",
              "      <td>89.0</td>\n",
              "      <td>4406.0</td>\n",
              "      <td>14.0</td>\n",
              "      <td>27.0</td>\n",
              "      <td>45.0</td>\n",
              "    </tr>\n",
              "    <tr>\n",
              "      <th>horse</th>\n",
              "      <td>82.0</td>\n",
              "      <td>30.0</td>\n",
              "      <td>102.0</td>\n",
              "      <td>200.0</td>\n",
              "      <td>240.0</td>\n",
              "      <td>205.0</td>\n",
              "      <td>35.0</td>\n",
              "      <td>4016.0</td>\n",
              "      <td>18.0</td>\n",
              "      <td>72.0</td>\n",
              "    </tr>\n",
              "    <tr>\n",
              "      <th>ship</th>\n",
              "      <td>309.0</td>\n",
              "      <td>89.0</td>\n",
              "      <td>77.0</td>\n",
              "      <td>84.0</td>\n",
              "      <td>50.0</td>\n",
              "      <td>34.0</td>\n",
              "      <td>46.0</td>\n",
              "      <td>23.0</td>\n",
              "      <td>4204.0</td>\n",
              "      <td>84.0</td>\n",
              "    </tr>\n",
              "    <tr>\n",
              "      <th>truck</th>\n",
              "      <td>95.0</td>\n",
              "      <td>106.0</td>\n",
              "      <td>28.0</td>\n",
              "      <td>97.0</td>\n",
              "      <td>34.0</td>\n",
              "      <td>81.0</td>\n",
              "      <td>62.0</td>\n",
              "      <td>33.0</td>\n",
              "      <td>75.0</td>\n",
              "      <td>4389.0</td>\n",
              "    </tr>\n",
              "  </tbody>\n",
              "</table>\n",
              "</div>"
            ],
            "text/plain": [
              "        plane     car    bird     cat  ...    frog   horse    ship   truck\n",
              "plane  4431.0    51.0   172.0    31.0  ...    43.0    41.0    69.0    54.0\n",
              "car     111.0  4345.0    31.0    67.0  ...    57.0    31.0    67.0   234.0\n",
              "bird    113.0    36.0  4214.0    79.0  ...   216.0    43.0    23.0    24.0\n",
              "cat      67.0    28.0   163.0  4029.0  ...   192.0    56.0    72.0    44.0\n",
              "deer     94.0    27.0   156.0   120.0  ...   193.0   119.0    28.0    24.0\n",
              "dog      31.0    15.0   137.0   210.0  ...   109.0    60.0    28.0    49.0\n",
              "frog     32.0    43.0    98.0   152.0  ...  4406.0    14.0    27.0    45.0\n",
              "horse    82.0    30.0   102.0   200.0  ...    35.0  4016.0    18.0    72.0\n",
              "ship    309.0    89.0    77.0    84.0  ...    46.0    23.0  4204.0    84.0\n",
              "truck    95.0   106.0    28.0    97.0  ...    62.0    33.0    75.0  4389.0\n",
              "\n",
              "[10 rows x 10 columns]"
            ]
          },
          "metadata": {
            "tags": []
          },
          "execution_count": 267
        }
      ]
    },
    {
      "cell_type": "markdown",
      "metadata": {
        "id": "67mKoOjUNPZ0"
      },
      "source": [
        "## counting the number of observation by class"
      ]
    },
    {
      "cell_type": "code",
      "metadata": {
        "colab": {
          "base_uri": "https://localhost:8080/"
        },
        "id": "FWaU2EgsqPaI",
        "outputId": "69a87929-c621-45f1-8606-6c83f101c4be"
      },
      "source": [
        "confusion_matrix_resnet_train_df.sum()"
      ],
      "execution_count": null,
      "outputs": [
        {
          "output_type": "execute_result",
          "data": {
            "text/plain": [
              "plane    5365.0\n",
              "car      4770.0\n",
              "bird     5178.0\n",
              "cat      5069.0\n",
              "deer     5045.0\n",
              "dog      5148.0\n",
              "frog     5359.0\n",
              "horse    4436.0\n",
              "ship     4611.0\n",
              "truck    5019.0\n",
              "dtype: float32"
            ]
          },
          "metadata": {
            "tags": []
          },
          "execution_count": 268
        }
      ]
    },
    {
      "cell_type": "markdown",
      "metadata": {
        "id": "uHIY52cTNZ7D"
      },
      "source": [
        "## Measuring the accuracy by class in a array format"
      ]
    },
    {
      "cell_type": "code",
      "metadata": {
        "colab": {
          "base_uri": "https://localhost:8080/"
        },
        "id": "OssMnf8WqYoF",
        "outputId": "50a645ce-800c-4cd4-c6cc-a3f3a771742a"
      },
      "source": [
        "# accuracy per class\n",
        "print(confusion_matrix_resnet_train.diag()/confusion_matrix_resnet_train.sum(1))"
      ],
      "execution_count": null,
      "outputs": [
        {
          "output_type": "stream",
          "text": [
            "tensor([0.8862, 0.8690, 0.8428, 0.8058, 0.8254, 0.8480, 0.8812, 0.8032, 0.8408,\n",
            "        0.8778])\n"
          ],
          "name": "stdout"
        }
      ]
    },
    {
      "cell_type": "markdown",
      "metadata": {
        "id": "tVwC98cvNhM5"
      },
      "source": [
        "## Measuring the overall accuracy for training dataset and ResNet20"
      ]
    },
    {
      "cell_type": "code",
      "metadata": {
        "colab": {
          "base_uri": "https://localhost:8080/"
        },
        "id": "7MelY0KNqcuJ",
        "outputId": "ab8c3e84-d797-4ee4-b2e8-0ff6e1fdf983"
      },
      "source": [
        "(confusion_matrix_resnet_train.diag()/confusion_matrix_resnet_train.sum(1)).mean()"
      ],
      "execution_count": null,
      "outputs": [
        {
          "output_type": "execute_result",
          "data": {
            "text/plain": [
              "tensor(0.8480)"
            ]
          },
          "metadata": {
            "tags": []
          },
          "execution_count": 270
        }
      ]
    },
    {
      "cell_type": "code",
      "metadata": {
        "colab": {
          "base_uri": "https://localhost:8080/",
          "height": 80
        },
        "id": "al22sHCjqgo1",
        "outputId": "7bbf9f51-3335-48b8-8b9f-1d55a201d4e1"
      },
      "source": [
        "topk=pd.DataFrame((confusion_matrix_resnet_train.diag()/confusion_matrix_resnet_train.sum(1)).numpy()).T\n",
        "topk.index=[\"Accuracy\"]\n",
        "topk.columns=classes\n",
        "topk"
      ],
      "execution_count": null,
      "outputs": [
        {
          "output_type": "execute_result",
          "data": {
            "text/html": [
              "<div>\n",
              "<style scoped>\n",
              "    .dataframe tbody tr th:only-of-type {\n",
              "        vertical-align: middle;\n",
              "    }\n",
              "\n",
              "    .dataframe tbody tr th {\n",
              "        vertical-align: top;\n",
              "    }\n",
              "\n",
              "    .dataframe thead th {\n",
              "        text-align: right;\n",
              "    }\n",
              "</style>\n",
              "<table border=\"1\" class=\"dataframe\">\n",
              "  <thead>\n",
              "    <tr style=\"text-align: right;\">\n",
              "      <th></th>\n",
              "      <th>plane</th>\n",
              "      <th>car</th>\n",
              "      <th>bird</th>\n",
              "      <th>cat</th>\n",
              "      <th>deer</th>\n",
              "      <th>dog</th>\n",
              "      <th>frog</th>\n",
              "      <th>horse</th>\n",
              "      <th>ship</th>\n",
              "      <th>truck</th>\n",
              "    </tr>\n",
              "  </thead>\n",
              "  <tbody>\n",
              "    <tr>\n",
              "      <th>Accuracy</th>\n",
              "      <td>0.8862</td>\n",
              "      <td>0.869</td>\n",
              "      <td>0.8428</td>\n",
              "      <td>0.8058</td>\n",
              "      <td>0.8254</td>\n",
              "      <td>0.848</td>\n",
              "      <td>0.8812</td>\n",
              "      <td>0.8032</td>\n",
              "      <td>0.8408</td>\n",
              "      <td>0.8778</td>\n",
              "    </tr>\n",
              "  </tbody>\n",
              "</table>\n",
              "</div>"
            ],
            "text/plain": [
              "           plane    car    bird     cat  ...    frog   horse    ship   truck\n",
              "Accuracy  0.8862  0.869  0.8428  0.8058  ...  0.8812  0.8032  0.8408  0.8778\n",
              "\n",
              "[1 rows x 10 columns]"
            ]
          },
          "metadata": {
            "tags": []
          },
          "execution_count": 271
        }
      ]
    },
    {
      "cell_type": "markdown",
      "metadata": {
        "id": "vOrpn-S0NuFd"
      },
      "source": [
        "## Measuring the Recall and Precision for training dataset and ResNet20"
      ]
    },
    {
      "cell_type": "code",
      "metadata": {
        "id": "4qo0dyMgqwjW"
      },
      "source": [
        "recall = np.diag(confusion_matrix_resnet_train_df) / np.sum(confusion_matrix_resnet_train_df, axis = 1)\n",
        "precision = np.diag(confusion_matrix_resnet_train_df) / np.sum(confusion_matrix_resnet_train_df, axis = 0)"
      ],
      "execution_count": null,
      "outputs": []
    },
    {
      "cell_type": "code",
      "metadata": {
        "colab": {
          "base_uri": "https://localhost:8080/"
        },
        "id": "bfGv8H1eq3lB",
        "outputId": "0777751f-c0f1-4eb9-f0b8-25eded97ead5"
      },
      "source": [
        "recall"
      ],
      "execution_count": null,
      "outputs": [
        {
          "output_type": "execute_result",
          "data": {
            "text/plain": [
              "plane    0.8862\n",
              "car      0.8690\n",
              "bird     0.8428\n",
              "cat      0.8058\n",
              "deer     0.8254\n",
              "dog      0.8480\n",
              "frog     0.8812\n",
              "horse    0.8032\n",
              "ship     0.8408\n",
              "truck    0.8778\n",
              "dtype: float32"
            ]
          },
          "metadata": {
            "tags": []
          },
          "execution_count": 273
        }
      ]
    },
    {
      "cell_type": "code",
      "metadata": {
        "colab": {
          "base_uri": "https://localhost:8080/"
        },
        "id": "GeFfyaMAq436",
        "outputId": "551e9de8-1915-4773-fe57-7cbcf1e1f63a"
      },
      "source": [
        "precision"
      ],
      "execution_count": null,
      "outputs": [
        {
          "output_type": "execute_result",
          "data": {
            "text/plain": [
              "plane    0.825909\n",
              "car      0.910901\n",
              "bird     0.813828\n",
              "cat      0.794831\n",
              "deer     0.818038\n",
              "dog      0.823621\n",
              "frog     0.822168\n",
              "horse    0.905320\n",
              "ship     0.911733\n",
              "truck    0.874477\n",
              "dtype: float32"
            ]
          },
          "metadata": {
            "tags": []
          },
          "execution_count": 274
        }
      ]
    },
    {
      "cell_type": "code",
      "metadata": {
        "colab": {
          "base_uri": "https://localhost:8080/"
        },
        "id": "yzpVzYAFrCym",
        "outputId": "1089996a-b9cc-4e7b-bbd2-ff00dfa72e4c"
      },
      "source": [
        "#overall recall and precision\n",
        "print(np.mean(recall),\n",
        "np.mean(precision))"
      ],
      "execution_count": null,
      "outputs": [
        {
          "output_type": "stream",
          "text": [
            "0.8480199575424194 0.8500825762748718\n"
          ],
          "name": "stdout"
        }
      ]
    },
    {
      "cell_type": "markdown",
      "metadata": {
        "id": "zIEdMmcIN2dY"
      },
      "source": [
        "## Measuring the F-Score for training dataset and ResNet20"
      ]
    },
    {
      "cell_type": "code",
      "metadata": {
        "colab": {
          "base_uri": "https://localhost:8080/"
        },
        "id": "eAOps7D8rJN-",
        "outputId": "2491c5b2-91bf-4414-b06e-fa7cb484ca40"
      },
      "source": [
        "2*(precision*recall)/(precision+recall)"
      ],
      "execution_count": null,
      "outputs": [
        {
          "output_type": "execute_result",
          "data": {
            "text/plain": [
              "plane    0.854993\n",
              "car      0.889458\n",
              "bird     0.828061\n",
              "cat      0.800278\n",
              "deer     0.821702\n",
              "dog      0.835633\n",
              "frog     0.850661\n",
              "horse    0.851208\n",
              "ship     0.874831\n",
              "truck    0.876135\n",
              "dtype: float32"
            ]
          },
          "metadata": {
            "tags": []
          },
          "execution_count": 276
        }
      ]
    },
    {
      "cell_type": "markdown",
      "metadata": {
        "id": "Zxhj-qYaN7PF"
      },
      "source": [
        "## Measuring the overall f-score for training dataset and ResNet20"
      ]
    },
    {
      "cell_type": "code",
      "metadata": {
        "colab": {
          "base_uri": "https://localhost:8080/"
        },
        "id": "HpjtFJzPafiS",
        "outputId": "8dcb8fbb-112e-4d1a-c6a6-c4a7602c5bdd"
      },
      "source": [
        "(2*(precision*recall)/(precision+recall)).mean()"
      ],
      "execution_count": null,
      "outputs": [
        {
          "output_type": "execute_result",
          "data": {
            "text/plain": [
              "0.8482959866523743"
            ]
          },
          "metadata": {
            "tags": []
          },
          "execution_count": 277
        }
      ]
    },
    {
      "cell_type": "markdown",
      "metadata": {
        "id": "Qq3erymEa7Md"
      },
      "source": [
        "# Fourier Neural Operator"
      ]
    },
    {
      "cell_type": "markdown",
      "metadata": {
        "id": "venOcIToOCXY"
      },
      "source": [
        "## Checking the Python Version"
      ]
    },
    {
      "cell_type": "code",
      "metadata": {
        "colab": {
          "base_uri": "https://localhost:8080/"
        },
        "id": "iXEtJEh_VDH1",
        "outputId": "42f5c7f5-3b0d-4e91-b6f9-bfc128d1a825"
      },
      "source": [
        "!python --version"
      ],
      "execution_count": null,
      "outputs": [
        {
          "output_type": "stream",
          "text": [
            "Python 3.7.10\n"
          ],
          "name": "stdout"
        }
      ]
    },
    {
      "cell_type": "markdown",
      "metadata": {
        "id": "MJCge92xOFvV"
      },
      "source": [
        "## Make sure the PyTorch and TorchVision have the same version used in the paper"
      ]
    },
    {
      "cell_type": "code",
      "metadata": {
        "id": "4wEiOdxP_Qkc",
        "colab": {
          "base_uri": "https://localhost:8080/",
          "height": 454
        },
        "outputId": "2af6cc0a-36d3-4af4-8c87-41b233d0e5f4"
      },
      "source": [
        "%pip install torch==1.7.1 torchvision==0.8.2 "
      ],
      "execution_count": 8,
      "outputs": [
        {
          "output_type": "stream",
          "text": [
            "Collecting torch==1.7.1\n",
            "\u001b[?25l  Downloading https://files.pythonhosted.org/packages/90/5d/095ddddc91c8a769a68c791c019c5793f9c4456a688ddd235d6670924ecb/torch-1.7.1-cp37-cp37m-manylinux1_x86_64.whl (776.8MB)\n",
            "\u001b[K     |████████████████████████████████| 776.8MB 23kB/s \n",
            "\u001b[?25hCollecting torchvision==0.8.2\n",
            "\u001b[?25l  Downloading https://files.pythonhosted.org/packages/94/df/969e69a94cff1c8911acb0688117f95e1915becc1e01c73e7960a2c76ec8/torchvision-0.8.2-cp37-cp37m-manylinux1_x86_64.whl (12.8MB)\n",
            "\u001b[K     |████████████████████████████████| 12.8MB 36.5MB/s \n",
            "\u001b[?25hRequirement already satisfied: typing-extensions in /usr/local/lib/python3.7/dist-packages (from torch==1.7.1) (3.7.4.3)\n",
            "Requirement already satisfied: numpy in /usr/local/lib/python3.7/dist-packages (from torch==1.7.1) (1.19.5)\n",
            "Requirement already satisfied: pillow>=4.1.1 in /usr/local/lib/python3.7/dist-packages (from torchvision==0.8.2) (7.1.2)\n",
            "\u001b[31mERROR: torchtext 0.10.0 has requirement torch==1.9.0, but you'll have torch 1.7.1 which is incompatible.\u001b[0m\n",
            "Installing collected packages: torch, torchvision\n",
            "  Found existing installation: torch 1.9.0+cu102\n",
            "    Uninstalling torch-1.9.0+cu102:\n",
            "      Successfully uninstalled torch-1.9.0+cu102\n",
            "  Found existing installation: torchvision 0.10.0+cu102\n",
            "    Uninstalling torchvision-0.10.0+cu102:\n",
            "      Successfully uninstalled torchvision-0.10.0+cu102\n",
            "Successfully installed torch-1.7.1 torchvision-0.8.2\n"
          ],
          "name": "stdout"
        },
        {
          "output_type": "display_data",
          "data": {
            "application/vnd.colab-display-data+json": {
              "pip_warning": {
                "packages": [
                  "torch",
                  "torchvision"
                ]
              }
            }
          },
          "metadata": {
            "tags": []
          }
        }
      ]
    },
    {
      "cell_type": "markdown",
      "metadata": {
        "id": "83GInEwxOZc6"
      },
      "source": [
        "## Defining the Neural Network FNO"
      ]
    },
    {
      "cell_type": "code",
      "metadata": {
        "colab": {
          "base_uri": "https://localhost:8080/"
        },
        "id": "GZFpLAY2TYUg",
        "outputId": "c3cc039e-5402-4600-9f52-ad626c195feb"
      },
      "source": [
        "import datetime\n",
        "import numpy as np\n",
        "import os\n",
        "import torch\n",
        "import torch.nn as nn\n",
        "import torch.nn.functional as F\n",
        "from torch.nn.parameter import Parameter\n",
        "import pandas as pd\n",
        "\n",
        "import matplotlib.pyplot as plt\n",
        "\n",
        "import operator\n",
        "from functools import reduce\n",
        "from functools import partial\n",
        "\n",
        "from timeit import default_timer\n",
        "from utilities3 import *\n",
        "\n",
        "import torchvision\n",
        "import torchvision.transforms as transforms\n",
        "\n",
        "torch.manual_seed(0)\n",
        "np.random.seed(0)\n",
        "\n",
        "#Complex multiplication\n",
        "\n",
        "class SpectralConv2d(nn.Module):\n",
        "    def __init__(self, in_channels, out_channels, modes):\n",
        "        super(SpectralConv2d, self).__init__()\n",
        "        self.in_channels = in_channels\n",
        "        self.out_channels = out_channels\n",
        "        self.modes1 = modes #Number of Fourier modes to multiply, at most floor(N/2) + 1\n",
        "        self.modes2 = modes\n",
        "\n",
        "        self.scale = (1 / (in_channels * out_channels))\n",
        "        self.weights1 = nn.Parameter(self.scale * torch.rand(in_channels, out_channels, self.modes1, self.modes2, 2))\n",
        "        self.weights2 = nn.Parameter(self.scale * torch.rand(in_channels, out_channels, self.modes1, self.modes2, 2))\n",
        "\n",
        "    def compl_mul2d(self, a, b):\n",
        "      op = partial(torch.einsum, \"bixy,ioxy->boxy\")\n",
        "      return torch.stack([\n",
        "          op(a[..., 0], b[..., 0]) - op(a[..., 1], b[..., 1]),\n",
        "          op(a[..., 1], b[..., 0]) + op(a[..., 0], b[..., 1])\n",
        "      ], dim=-1)\n",
        "      \n",
        "    def forward(self, x):\n",
        "        batchsize = x.shape[0]\n",
        "        #Compute Fourier coeffcients up to factor of e^(- something constant)\n",
        "        x_ft = torch.rfft(x, 2, normalized=True, onesided=True)\n",
        "        out_ft = torch.zeros(batchsize, x.size(-2),  x.size(-2), x.size(-1)//2 + 1, 2, device=x.device)\n",
        "        out_ft[:, :, :self.modes1, :self.modes2] = \\\n",
        "            self.compl_mul2d(x_ft[:, :, :self.modes1, :self.modes2], self.weights1)\n",
        "        out_ft[:, :, -self.modes1:, :self.modes2] = \\\n",
        "            self.compl_mul2d(x_ft[:, :, -self.modes1:, :self.modes2], self.weights2)\n",
        "\n",
        "        #Return to physical space\n",
        "        x = torch.irfft(out_ft, 2, normalized=True, onesided=True, signal_sizes=( x.size(-2), x.size(-1)))\n",
        "        return x\n",
        "\n",
        "\n",
        "class SimpleBlock2d(nn.Module):\n",
        "    def __init__(self, modes):\n",
        "        super(SimpleBlock2d, self).__init__()\n",
        "\n",
        "        self.conv1 = SpectralConv2d(1, 16, modes=modes)\n",
        "        self.conv2 = SpectralConv2d(16, 32, modes=modes)\n",
        "        self.conv3 = SpectralConv2d(32, 64, modes=modes)\n",
        "\n",
        "        self.pool = nn.MaxPool2d(2, 2)\n",
        "\n",
        "\n",
        "        self.fc1 = nn.Linear(64 * 14 * 14, 120)\n",
        "        self.fc2 = nn.Linear(120, 84)\n",
        "        self.fc3 = nn.Linear(84, 10)\n",
        "\n",
        "    def forward(self, x):\n",
        "        x = self.conv1(x)\n",
        "        x = F.relu(x)\n",
        "        x = self.conv2(x)\n",
        "        x = F.relu(x)\n",
        "        x = self.conv3(x)\n",
        "        x = self.pool(x)\n",
        "\n",
        "        x = x.view(-1, 64 * 14 * 14)\n",
        "        x = F.relu(self.fc1(x))\n",
        "        x = F.relu(self.fc2(x))\n",
        "        x = self.fc3(x)\n",
        "\n",
        "        return x\n",
        "\n",
        "class Net2d(nn.Module):\n",
        "    def __init__(self):\n",
        "        super(Net2d, self).__init__()\n",
        "\n",
        "        self.conv = SimpleBlock2d(5)\n",
        "\n",
        "    def forward(self, x):\n",
        "        x = self.conv(x)\n",
        "\n",
        "        return x.squeeze(-1)\n",
        "\n",
        "    def count_params(self):\n",
        "        c = 0\n",
        "        for p in self.parameters():\n",
        "            c += reduce(operator.mul, list(p.size()))\n",
        "\n",
        "        return c\n",
        "\n",
        "\n",
        "class BasicBlock(nn.Module):\n",
        "    expansion = 1\n",
        "\n",
        "    def __init__(self, in_planes, planes, stride=1, modes=10):\n",
        "        super(BasicBlock, self).__init__()\n",
        "        self.conv1 = SpectralConv2d(in_planes, planes, modes=modes)\n",
        "        self.bn1 = nn.BatchNorm2d(planes)\n",
        "        self.conv2 = SpectralConv2d(planes, planes, modes=modes)\n",
        "        self.bn2 = nn.BatchNorm2d(planes)\n",
        "\n",
        "        self.shortcut = nn.Sequential()\n",
        "        if stride != 1 or in_planes != self.expansion*planes:\n",
        "            self.shortcut = nn.Sequential(\n",
        "                SpectralConv2d(in_planes, self.expansion*planes, modes=modes),\n",
        "                nn.BatchNorm2d(self.expansion*planes)\n",
        "            )\n",
        "\n",
        "    def forward(self, x):\n",
        "        out = F.relu(self.bn1(self.conv1(x)))\n",
        "        out = self.bn2(self.conv2(out))\n",
        "        out += self.shortcut(x)\n",
        "        out = F.relu(out)\n",
        "        return out\n",
        "\n",
        "class ResNet_FNO(nn.Module):\n",
        "    def __init__(self, block, num_blocks, num_classes=10):\n",
        "        super(ResNet_FNO, self).__init__()\n",
        "        self.in_planes = 32\n",
        "\n",
        "        self.conv1 = SpectralConv2d(3, 32, modes=10)\n",
        "        self.bn1 = nn.BatchNorm2d(32)\n",
        "        self.layer1 = self._make_layer(block, 32, num_blocks[0], stride=1, modes=3)\n",
        "        self.layer2 = self._make_layer(block, 32, num_blocks[1], stride=1, modes=3)\n",
        "        self.layer3 = self._make_layer(block, 32, num_blocks[2], stride=1, modes=3)\n",
        "        self.layer4 = self._make_layer(block, 32, num_blocks[3], stride=1, modes=3)\n",
        "        self.linear1 = nn.Linear(32*64*block.expansion, num_classes)\n",
        "        # self.linear2 = nn.Linear(100, num_classes)\n",
        "\n",
        "    def _make_layer(self, block, planes, num_blocks, stride, modes=10):\n",
        "        strides = [stride] + [1]*(num_blocks-1)\n",
        "        layers = []\n",
        "        for stride in strides:\n",
        "            layers.append(block(self.in_planes, planes, stride, modes))\n",
        "            self.in_planes = planes * block.expansion\n",
        "        return nn.Sequential(*layers)\n",
        "\n",
        "    def forward(self, x):\n",
        "        out = self.conv1(x)\n",
        "        out = self.bn1(out)\n",
        "        out = F.relu(out)\n",
        "        out = self.layer1(out)\n",
        "        # out = F.avg_pool2d(out, 2)\n",
        "        out = self.layer2(out)\n",
        "        # out = F.avg_pool2d(out, 2)\n",
        "        out = self.layer3(out)\n",
        "        # out = F.avg_pool2d(out, 2)\n",
        "        out = self.layer4(out)\n",
        "        out = F.avg_pool2d(out, 4)\n",
        "        # print(out.shape)\n",
        "        out = out.view(out.size(0), -1)\n",
        "        out = self.linear1(out)\n",
        "        # out = F.relu(out)\n",
        "        # out = self.linear2(out)\n",
        "        return out\n",
        "\n",
        "def ResNet_FNO_18():\n",
        "    return ResNet_FNO(BasicBlock, [3, 4, 23, 3])\n",
        "\n",
        "## Cifar10\n",
        "torch.manual_seed(0)\n",
        "np.random.seed(0)\n",
        "transform = transforms.Compose(\n",
        "    [transforms.ToTensor(),\n",
        "     transforms.Normalize((0.5, 0.5, 0.5), (0.5, 0.5, 0.5))])\n",
        "\n",
        "trainset = torchvision.datasets.CIFAR10(root='./data', train=True,\n",
        "                                        download=True, transform=transform)\n",
        "trainloader = torch.utils.data.DataLoader(trainset, batch_size=100,\n",
        "                                          shuffle=True, num_workers=4)\n",
        "\n",
        "testset = torchvision.datasets.CIFAR10(root='./data', train=False,\n",
        "                                       download=True, transform=transform)\n",
        "testloader = torch.utils.data.DataLoader(testset, batch_size=100,\n",
        "                                         shuffle=False, num_workers=4)\n",
        "\n",
        "classes = ('plane', 'car', 'bird', 'cat',\n",
        "           'deer', 'dog', 'frog', 'horse', 'ship', 'truck')\n",
        "\n",
        "model = ResNet_FNO_18().cuda()"
      ],
      "execution_count": 1,
      "outputs": [
        {
          "output_type": "stream",
          "text": [
            "Files already downloaded and verified\n",
            "Files already downloaded and verified\n"
          ],
          "name": "stdout"
        }
      ]
    },
    {
      "cell_type": "markdown",
      "metadata": {
        "id": "pbtX4ip3Oe1_"
      },
      "source": [
        "## The structure of the FNO"
      ]
    },
    {
      "cell_type": "code",
      "metadata": {
        "colab": {
          "base_uri": "https://localhost:8080/"
        },
        "id": "d_eQjWKIHjvh",
        "outputId": "8ad91de8-bd6c-4a5d-c8d5-d045a5c1185e"
      },
      "source": [
        "model.eval()"
      ],
      "execution_count": null,
      "outputs": [
        {
          "output_type": "execute_result",
          "data": {
            "text/plain": [
              "ResNet_FNO(\n",
              "  (conv1): SpectralConv2d()\n",
              "  (bn1): BatchNorm2d(32, eps=1e-05, momentum=0.1, affine=True, track_running_stats=True)\n",
              "  (layer1): Sequential(\n",
              "    (0): BasicBlock(\n",
              "      (conv1): SpectralConv2d()\n",
              "      (bn1): BatchNorm2d(32, eps=1e-05, momentum=0.1, affine=True, track_running_stats=True)\n",
              "      (conv2): SpectralConv2d()\n",
              "      (bn2): BatchNorm2d(32, eps=1e-05, momentum=0.1, affine=True, track_running_stats=True)\n",
              "      (shortcut): Sequential()\n",
              "    )\n",
              "    (1): BasicBlock(\n",
              "      (conv1): SpectralConv2d()\n",
              "      (bn1): BatchNorm2d(32, eps=1e-05, momentum=0.1, affine=True, track_running_stats=True)\n",
              "      (conv2): SpectralConv2d()\n",
              "      (bn2): BatchNorm2d(32, eps=1e-05, momentum=0.1, affine=True, track_running_stats=True)\n",
              "      (shortcut): Sequential()\n",
              "    )\n",
              "    (2): BasicBlock(\n",
              "      (conv1): SpectralConv2d()\n",
              "      (bn1): BatchNorm2d(32, eps=1e-05, momentum=0.1, affine=True, track_running_stats=True)\n",
              "      (conv2): SpectralConv2d()\n",
              "      (bn2): BatchNorm2d(32, eps=1e-05, momentum=0.1, affine=True, track_running_stats=True)\n",
              "      (shortcut): Sequential()\n",
              "    )\n",
              "  )\n",
              "  (layer2): Sequential(\n",
              "    (0): BasicBlock(\n",
              "      (conv1): SpectralConv2d()\n",
              "      (bn1): BatchNorm2d(32, eps=1e-05, momentum=0.1, affine=True, track_running_stats=True)\n",
              "      (conv2): SpectralConv2d()\n",
              "      (bn2): BatchNorm2d(32, eps=1e-05, momentum=0.1, affine=True, track_running_stats=True)\n",
              "      (shortcut): Sequential()\n",
              "    )\n",
              "    (1): BasicBlock(\n",
              "      (conv1): SpectralConv2d()\n",
              "      (bn1): BatchNorm2d(32, eps=1e-05, momentum=0.1, affine=True, track_running_stats=True)\n",
              "      (conv2): SpectralConv2d()\n",
              "      (bn2): BatchNorm2d(32, eps=1e-05, momentum=0.1, affine=True, track_running_stats=True)\n",
              "      (shortcut): Sequential()\n",
              "    )\n",
              "    (2): BasicBlock(\n",
              "      (conv1): SpectralConv2d()\n",
              "      (bn1): BatchNorm2d(32, eps=1e-05, momentum=0.1, affine=True, track_running_stats=True)\n",
              "      (conv2): SpectralConv2d()\n",
              "      (bn2): BatchNorm2d(32, eps=1e-05, momentum=0.1, affine=True, track_running_stats=True)\n",
              "      (shortcut): Sequential()\n",
              "    )\n",
              "    (3): BasicBlock(\n",
              "      (conv1): SpectralConv2d()\n",
              "      (bn1): BatchNorm2d(32, eps=1e-05, momentum=0.1, affine=True, track_running_stats=True)\n",
              "      (conv2): SpectralConv2d()\n",
              "      (bn2): BatchNorm2d(32, eps=1e-05, momentum=0.1, affine=True, track_running_stats=True)\n",
              "      (shortcut): Sequential()\n",
              "    )\n",
              "  )\n",
              "  (layer3): Sequential(\n",
              "    (0): BasicBlock(\n",
              "      (conv1): SpectralConv2d()\n",
              "      (bn1): BatchNorm2d(32, eps=1e-05, momentum=0.1, affine=True, track_running_stats=True)\n",
              "      (conv2): SpectralConv2d()\n",
              "      (bn2): BatchNorm2d(32, eps=1e-05, momentum=0.1, affine=True, track_running_stats=True)\n",
              "      (shortcut): Sequential()\n",
              "    )\n",
              "    (1): BasicBlock(\n",
              "      (conv1): SpectralConv2d()\n",
              "      (bn1): BatchNorm2d(32, eps=1e-05, momentum=0.1, affine=True, track_running_stats=True)\n",
              "      (conv2): SpectralConv2d()\n",
              "      (bn2): BatchNorm2d(32, eps=1e-05, momentum=0.1, affine=True, track_running_stats=True)\n",
              "      (shortcut): Sequential()\n",
              "    )\n",
              "    (2): BasicBlock(\n",
              "      (conv1): SpectralConv2d()\n",
              "      (bn1): BatchNorm2d(32, eps=1e-05, momentum=0.1, affine=True, track_running_stats=True)\n",
              "      (conv2): SpectralConv2d()\n",
              "      (bn2): BatchNorm2d(32, eps=1e-05, momentum=0.1, affine=True, track_running_stats=True)\n",
              "      (shortcut): Sequential()\n",
              "    )\n",
              "    (3): BasicBlock(\n",
              "      (conv1): SpectralConv2d()\n",
              "      (bn1): BatchNorm2d(32, eps=1e-05, momentum=0.1, affine=True, track_running_stats=True)\n",
              "      (conv2): SpectralConv2d()\n",
              "      (bn2): BatchNorm2d(32, eps=1e-05, momentum=0.1, affine=True, track_running_stats=True)\n",
              "      (shortcut): Sequential()\n",
              "    )\n",
              "    (4): BasicBlock(\n",
              "      (conv1): SpectralConv2d()\n",
              "      (bn1): BatchNorm2d(32, eps=1e-05, momentum=0.1, affine=True, track_running_stats=True)\n",
              "      (conv2): SpectralConv2d()\n",
              "      (bn2): BatchNorm2d(32, eps=1e-05, momentum=0.1, affine=True, track_running_stats=True)\n",
              "      (shortcut): Sequential()\n",
              "    )\n",
              "    (5): BasicBlock(\n",
              "      (conv1): SpectralConv2d()\n",
              "      (bn1): BatchNorm2d(32, eps=1e-05, momentum=0.1, affine=True, track_running_stats=True)\n",
              "      (conv2): SpectralConv2d()\n",
              "      (bn2): BatchNorm2d(32, eps=1e-05, momentum=0.1, affine=True, track_running_stats=True)\n",
              "      (shortcut): Sequential()\n",
              "    )\n",
              "    (6): BasicBlock(\n",
              "      (conv1): SpectralConv2d()\n",
              "      (bn1): BatchNorm2d(32, eps=1e-05, momentum=0.1, affine=True, track_running_stats=True)\n",
              "      (conv2): SpectralConv2d()\n",
              "      (bn2): BatchNorm2d(32, eps=1e-05, momentum=0.1, affine=True, track_running_stats=True)\n",
              "      (shortcut): Sequential()\n",
              "    )\n",
              "    (7): BasicBlock(\n",
              "      (conv1): SpectralConv2d()\n",
              "      (bn1): BatchNorm2d(32, eps=1e-05, momentum=0.1, affine=True, track_running_stats=True)\n",
              "      (conv2): SpectralConv2d()\n",
              "      (bn2): BatchNorm2d(32, eps=1e-05, momentum=0.1, affine=True, track_running_stats=True)\n",
              "      (shortcut): Sequential()\n",
              "    )\n",
              "    (8): BasicBlock(\n",
              "      (conv1): SpectralConv2d()\n",
              "      (bn1): BatchNorm2d(32, eps=1e-05, momentum=0.1, affine=True, track_running_stats=True)\n",
              "      (conv2): SpectralConv2d()\n",
              "      (bn2): BatchNorm2d(32, eps=1e-05, momentum=0.1, affine=True, track_running_stats=True)\n",
              "      (shortcut): Sequential()\n",
              "    )\n",
              "    (9): BasicBlock(\n",
              "      (conv1): SpectralConv2d()\n",
              "      (bn1): BatchNorm2d(32, eps=1e-05, momentum=0.1, affine=True, track_running_stats=True)\n",
              "      (conv2): SpectralConv2d()\n",
              "      (bn2): BatchNorm2d(32, eps=1e-05, momentum=0.1, affine=True, track_running_stats=True)\n",
              "      (shortcut): Sequential()\n",
              "    )\n",
              "    (10): BasicBlock(\n",
              "      (conv1): SpectralConv2d()\n",
              "      (bn1): BatchNorm2d(32, eps=1e-05, momentum=0.1, affine=True, track_running_stats=True)\n",
              "      (conv2): SpectralConv2d()\n",
              "      (bn2): BatchNorm2d(32, eps=1e-05, momentum=0.1, affine=True, track_running_stats=True)\n",
              "      (shortcut): Sequential()\n",
              "    )\n",
              "    (11): BasicBlock(\n",
              "      (conv1): SpectralConv2d()\n",
              "      (bn1): BatchNorm2d(32, eps=1e-05, momentum=0.1, affine=True, track_running_stats=True)\n",
              "      (conv2): SpectralConv2d()\n",
              "      (bn2): BatchNorm2d(32, eps=1e-05, momentum=0.1, affine=True, track_running_stats=True)\n",
              "      (shortcut): Sequential()\n",
              "    )\n",
              "    (12): BasicBlock(\n",
              "      (conv1): SpectralConv2d()\n",
              "      (bn1): BatchNorm2d(32, eps=1e-05, momentum=0.1, affine=True, track_running_stats=True)\n",
              "      (conv2): SpectralConv2d()\n",
              "      (bn2): BatchNorm2d(32, eps=1e-05, momentum=0.1, affine=True, track_running_stats=True)\n",
              "      (shortcut): Sequential()\n",
              "    )\n",
              "    (13): BasicBlock(\n",
              "      (conv1): SpectralConv2d()\n",
              "      (bn1): BatchNorm2d(32, eps=1e-05, momentum=0.1, affine=True, track_running_stats=True)\n",
              "      (conv2): SpectralConv2d()\n",
              "      (bn2): BatchNorm2d(32, eps=1e-05, momentum=0.1, affine=True, track_running_stats=True)\n",
              "      (shortcut): Sequential()\n",
              "    )\n",
              "    (14): BasicBlock(\n",
              "      (conv1): SpectralConv2d()\n",
              "      (bn1): BatchNorm2d(32, eps=1e-05, momentum=0.1, affine=True, track_running_stats=True)\n",
              "      (conv2): SpectralConv2d()\n",
              "      (bn2): BatchNorm2d(32, eps=1e-05, momentum=0.1, affine=True, track_running_stats=True)\n",
              "      (shortcut): Sequential()\n",
              "    )\n",
              "    (15): BasicBlock(\n",
              "      (conv1): SpectralConv2d()\n",
              "      (bn1): BatchNorm2d(32, eps=1e-05, momentum=0.1, affine=True, track_running_stats=True)\n",
              "      (conv2): SpectralConv2d()\n",
              "      (bn2): BatchNorm2d(32, eps=1e-05, momentum=0.1, affine=True, track_running_stats=True)\n",
              "      (shortcut): Sequential()\n",
              "    )\n",
              "    (16): BasicBlock(\n",
              "      (conv1): SpectralConv2d()\n",
              "      (bn1): BatchNorm2d(32, eps=1e-05, momentum=0.1, affine=True, track_running_stats=True)\n",
              "      (conv2): SpectralConv2d()\n",
              "      (bn2): BatchNorm2d(32, eps=1e-05, momentum=0.1, affine=True, track_running_stats=True)\n",
              "      (shortcut): Sequential()\n",
              "    )\n",
              "    (17): BasicBlock(\n",
              "      (conv1): SpectralConv2d()\n",
              "      (bn1): BatchNorm2d(32, eps=1e-05, momentum=0.1, affine=True, track_running_stats=True)\n",
              "      (conv2): SpectralConv2d()\n",
              "      (bn2): BatchNorm2d(32, eps=1e-05, momentum=0.1, affine=True, track_running_stats=True)\n",
              "      (shortcut): Sequential()\n",
              "    )\n",
              "    (18): BasicBlock(\n",
              "      (conv1): SpectralConv2d()\n",
              "      (bn1): BatchNorm2d(32, eps=1e-05, momentum=0.1, affine=True, track_running_stats=True)\n",
              "      (conv2): SpectralConv2d()\n",
              "      (bn2): BatchNorm2d(32, eps=1e-05, momentum=0.1, affine=True, track_running_stats=True)\n",
              "      (shortcut): Sequential()\n",
              "    )\n",
              "    (19): BasicBlock(\n",
              "      (conv1): SpectralConv2d()\n",
              "      (bn1): BatchNorm2d(32, eps=1e-05, momentum=0.1, affine=True, track_running_stats=True)\n",
              "      (conv2): SpectralConv2d()\n",
              "      (bn2): BatchNorm2d(32, eps=1e-05, momentum=0.1, affine=True, track_running_stats=True)\n",
              "      (shortcut): Sequential()\n",
              "    )\n",
              "    (20): BasicBlock(\n",
              "      (conv1): SpectralConv2d()\n",
              "      (bn1): BatchNorm2d(32, eps=1e-05, momentum=0.1, affine=True, track_running_stats=True)\n",
              "      (conv2): SpectralConv2d()\n",
              "      (bn2): BatchNorm2d(32, eps=1e-05, momentum=0.1, affine=True, track_running_stats=True)\n",
              "      (shortcut): Sequential()\n",
              "    )\n",
              "    (21): BasicBlock(\n",
              "      (conv1): SpectralConv2d()\n",
              "      (bn1): BatchNorm2d(32, eps=1e-05, momentum=0.1, affine=True, track_running_stats=True)\n",
              "      (conv2): SpectralConv2d()\n",
              "      (bn2): BatchNorm2d(32, eps=1e-05, momentum=0.1, affine=True, track_running_stats=True)\n",
              "      (shortcut): Sequential()\n",
              "    )\n",
              "    (22): BasicBlock(\n",
              "      (conv1): SpectralConv2d()\n",
              "      (bn1): BatchNorm2d(32, eps=1e-05, momentum=0.1, affine=True, track_running_stats=True)\n",
              "      (conv2): SpectralConv2d()\n",
              "      (bn2): BatchNorm2d(32, eps=1e-05, momentum=0.1, affine=True, track_running_stats=True)\n",
              "      (shortcut): Sequential()\n",
              "    )\n",
              "  )\n",
              "  (layer4): Sequential(\n",
              "    (0): BasicBlock(\n",
              "      (conv1): SpectralConv2d()\n",
              "      (bn1): BatchNorm2d(32, eps=1e-05, momentum=0.1, affine=True, track_running_stats=True)\n",
              "      (conv2): SpectralConv2d()\n",
              "      (bn2): BatchNorm2d(32, eps=1e-05, momentum=0.1, affine=True, track_running_stats=True)\n",
              "      (shortcut): Sequential()\n",
              "    )\n",
              "    (1): BasicBlock(\n",
              "      (conv1): SpectralConv2d()\n",
              "      (bn1): BatchNorm2d(32, eps=1e-05, momentum=0.1, affine=True, track_running_stats=True)\n",
              "      (conv2): SpectralConv2d()\n",
              "      (bn2): BatchNorm2d(32, eps=1e-05, momentum=0.1, affine=True, track_running_stats=True)\n",
              "      (shortcut): Sequential()\n",
              "    )\n",
              "    (2): BasicBlock(\n",
              "      (conv1): SpectralConv2d()\n",
              "      (bn1): BatchNorm2d(32, eps=1e-05, momentum=0.1, affine=True, track_running_stats=True)\n",
              "      (conv2): SpectralConv2d()\n",
              "      (bn2): BatchNorm2d(32, eps=1e-05, momentum=0.1, affine=True, track_running_stats=True)\n",
              "      (shortcut): Sequential()\n",
              "    )\n",
              "  )\n",
              "  (linear1): Linear(in_features=2048, out_features=10, bias=True)\n",
              ")"
            ]
          },
          "metadata": {
            "tags": []
          },
          "execution_count": 8
        }
      ]
    },
    {
      "cell_type": "markdown",
      "metadata": {
        "id": "LOq_1VzpOjD1"
      },
      "source": [
        "## The Architecture of FNO"
      ]
    },
    {
      "cell_type": "code",
      "metadata": {
        "colab": {
          "base_uri": "https://localhost:8080/"
        },
        "id": "z3xP5ssncXyl",
        "outputId": "a05a8615-c2c5-4ff8-f2f5-f46052c7caa5"
      },
      "source": [
        "from torchsummary import summary\n",
        "summary(model,  (3,32,32))"
      ],
      "execution_count": null,
      "outputs": [
        {
          "output_type": "stream",
          "text": [
            "----------------------------------------------------------------\n",
            "        Layer (type)               Output Shape         Param #\n",
            "================================================================\n",
            "    SpectralConv2d-1           [-1, 32, 32, 32]               0\n",
            "       BatchNorm2d-2           [-1, 32, 32, 32]              64\n",
            "    SpectralConv2d-3           [-1, 32, 32, 32]               0\n",
            "       BatchNorm2d-4           [-1, 32, 32, 32]              64\n",
            "    SpectralConv2d-5           [-1, 32, 32, 32]               0\n",
            "       BatchNorm2d-6           [-1, 32, 32, 32]              64\n",
            "        BasicBlock-7           [-1, 32, 32, 32]               0\n",
            "    SpectralConv2d-8           [-1, 32, 32, 32]               0\n",
            "       BatchNorm2d-9           [-1, 32, 32, 32]              64\n",
            "   SpectralConv2d-10           [-1, 32, 32, 32]               0\n",
            "      BatchNorm2d-11           [-1, 32, 32, 32]              64\n",
            "       BasicBlock-12           [-1, 32, 32, 32]               0\n",
            "   SpectralConv2d-13           [-1, 32, 32, 32]               0\n",
            "      BatchNorm2d-14           [-1, 32, 32, 32]              64\n",
            "   SpectralConv2d-15           [-1, 32, 32, 32]               0\n",
            "      BatchNorm2d-16           [-1, 32, 32, 32]              64\n",
            "       BasicBlock-17           [-1, 32, 32, 32]               0\n",
            "   SpectralConv2d-18           [-1, 32, 32, 32]               0\n",
            "      BatchNorm2d-19           [-1, 32, 32, 32]              64\n",
            "   SpectralConv2d-20           [-1, 32, 32, 32]               0\n",
            "      BatchNorm2d-21           [-1, 32, 32, 32]              64\n",
            "       BasicBlock-22           [-1, 32, 32, 32]               0\n",
            "   SpectralConv2d-23           [-1, 32, 32, 32]               0\n",
            "      BatchNorm2d-24           [-1, 32, 32, 32]              64\n",
            "   SpectralConv2d-25           [-1, 32, 32, 32]               0\n",
            "      BatchNorm2d-26           [-1, 32, 32, 32]              64\n",
            "       BasicBlock-27           [-1, 32, 32, 32]               0\n",
            "   SpectralConv2d-28           [-1, 32, 32, 32]               0\n",
            "      BatchNorm2d-29           [-1, 32, 32, 32]              64\n",
            "   SpectralConv2d-30           [-1, 32, 32, 32]               0\n",
            "      BatchNorm2d-31           [-1, 32, 32, 32]              64\n",
            "       BasicBlock-32           [-1, 32, 32, 32]               0\n",
            "   SpectralConv2d-33           [-1, 32, 32, 32]               0\n",
            "      BatchNorm2d-34           [-1, 32, 32, 32]              64\n",
            "   SpectralConv2d-35           [-1, 32, 32, 32]               0\n",
            "      BatchNorm2d-36           [-1, 32, 32, 32]              64\n",
            "       BasicBlock-37           [-1, 32, 32, 32]               0\n",
            "   SpectralConv2d-38           [-1, 32, 32, 32]               0\n",
            "      BatchNorm2d-39           [-1, 32, 32, 32]              64\n",
            "   SpectralConv2d-40           [-1, 32, 32, 32]               0\n",
            "      BatchNorm2d-41           [-1, 32, 32, 32]              64\n",
            "       BasicBlock-42           [-1, 32, 32, 32]               0\n",
            "   SpectralConv2d-43           [-1, 32, 32, 32]               0\n",
            "      BatchNorm2d-44           [-1, 32, 32, 32]              64\n",
            "   SpectralConv2d-45           [-1, 32, 32, 32]               0\n",
            "      BatchNorm2d-46           [-1, 32, 32, 32]              64\n",
            "       BasicBlock-47           [-1, 32, 32, 32]               0\n",
            "   SpectralConv2d-48           [-1, 32, 32, 32]               0\n",
            "      BatchNorm2d-49           [-1, 32, 32, 32]              64\n",
            "   SpectralConv2d-50           [-1, 32, 32, 32]               0\n",
            "      BatchNorm2d-51           [-1, 32, 32, 32]              64\n",
            "       BasicBlock-52           [-1, 32, 32, 32]               0\n",
            "   SpectralConv2d-53           [-1, 32, 32, 32]               0\n",
            "      BatchNorm2d-54           [-1, 32, 32, 32]              64\n",
            "   SpectralConv2d-55           [-1, 32, 32, 32]               0\n",
            "      BatchNorm2d-56           [-1, 32, 32, 32]              64\n",
            "       BasicBlock-57           [-1, 32, 32, 32]               0\n",
            "   SpectralConv2d-58           [-1, 32, 32, 32]               0\n",
            "      BatchNorm2d-59           [-1, 32, 32, 32]              64\n",
            "   SpectralConv2d-60           [-1, 32, 32, 32]               0\n",
            "      BatchNorm2d-61           [-1, 32, 32, 32]              64\n",
            "       BasicBlock-62           [-1, 32, 32, 32]               0\n",
            "   SpectralConv2d-63           [-1, 32, 32, 32]               0\n",
            "      BatchNorm2d-64           [-1, 32, 32, 32]              64\n",
            "   SpectralConv2d-65           [-1, 32, 32, 32]               0\n",
            "      BatchNorm2d-66           [-1, 32, 32, 32]              64\n",
            "       BasicBlock-67           [-1, 32, 32, 32]               0\n",
            "   SpectralConv2d-68           [-1, 32, 32, 32]               0\n",
            "      BatchNorm2d-69           [-1, 32, 32, 32]              64\n",
            "   SpectralConv2d-70           [-1, 32, 32, 32]               0\n",
            "      BatchNorm2d-71           [-1, 32, 32, 32]              64\n",
            "       BasicBlock-72           [-1, 32, 32, 32]               0\n",
            "   SpectralConv2d-73           [-1, 32, 32, 32]               0\n",
            "      BatchNorm2d-74           [-1, 32, 32, 32]              64\n",
            "   SpectralConv2d-75           [-1, 32, 32, 32]               0\n",
            "      BatchNorm2d-76           [-1, 32, 32, 32]              64\n",
            "       BasicBlock-77           [-1, 32, 32, 32]               0\n",
            "   SpectralConv2d-78           [-1, 32, 32, 32]               0\n",
            "      BatchNorm2d-79           [-1, 32, 32, 32]              64\n",
            "   SpectralConv2d-80           [-1, 32, 32, 32]               0\n",
            "      BatchNorm2d-81           [-1, 32, 32, 32]              64\n",
            "       BasicBlock-82           [-1, 32, 32, 32]               0\n",
            "   SpectralConv2d-83           [-1, 32, 32, 32]               0\n",
            "      BatchNorm2d-84           [-1, 32, 32, 32]              64\n",
            "   SpectralConv2d-85           [-1, 32, 32, 32]               0\n",
            "      BatchNorm2d-86           [-1, 32, 32, 32]              64\n",
            "       BasicBlock-87           [-1, 32, 32, 32]               0\n",
            "   SpectralConv2d-88           [-1, 32, 32, 32]               0\n",
            "      BatchNorm2d-89           [-1, 32, 32, 32]              64\n",
            "   SpectralConv2d-90           [-1, 32, 32, 32]               0\n",
            "      BatchNorm2d-91           [-1, 32, 32, 32]              64\n",
            "       BasicBlock-92           [-1, 32, 32, 32]               0\n",
            "   SpectralConv2d-93           [-1, 32, 32, 32]               0\n",
            "      BatchNorm2d-94           [-1, 32, 32, 32]              64\n",
            "   SpectralConv2d-95           [-1, 32, 32, 32]               0\n",
            "      BatchNorm2d-96           [-1, 32, 32, 32]              64\n",
            "       BasicBlock-97           [-1, 32, 32, 32]               0\n",
            "   SpectralConv2d-98           [-1, 32, 32, 32]               0\n",
            "      BatchNorm2d-99           [-1, 32, 32, 32]              64\n",
            "  SpectralConv2d-100           [-1, 32, 32, 32]               0\n",
            "     BatchNorm2d-101           [-1, 32, 32, 32]              64\n",
            "      BasicBlock-102           [-1, 32, 32, 32]               0\n",
            "  SpectralConv2d-103           [-1, 32, 32, 32]               0\n",
            "     BatchNorm2d-104           [-1, 32, 32, 32]              64\n",
            "  SpectralConv2d-105           [-1, 32, 32, 32]               0\n",
            "     BatchNorm2d-106           [-1, 32, 32, 32]              64\n",
            "      BasicBlock-107           [-1, 32, 32, 32]               0\n",
            "  SpectralConv2d-108           [-1, 32, 32, 32]               0\n",
            "     BatchNorm2d-109           [-1, 32, 32, 32]              64\n",
            "  SpectralConv2d-110           [-1, 32, 32, 32]               0\n",
            "     BatchNorm2d-111           [-1, 32, 32, 32]              64\n",
            "      BasicBlock-112           [-1, 32, 32, 32]               0\n",
            "  SpectralConv2d-113           [-1, 32, 32, 32]               0\n",
            "     BatchNorm2d-114           [-1, 32, 32, 32]              64\n",
            "  SpectralConv2d-115           [-1, 32, 32, 32]               0\n",
            "     BatchNorm2d-116           [-1, 32, 32, 32]              64\n",
            "      BasicBlock-117           [-1, 32, 32, 32]               0\n",
            "  SpectralConv2d-118           [-1, 32, 32, 32]               0\n",
            "     BatchNorm2d-119           [-1, 32, 32, 32]              64\n",
            "  SpectralConv2d-120           [-1, 32, 32, 32]               0\n",
            "     BatchNorm2d-121           [-1, 32, 32, 32]              64\n",
            "      BasicBlock-122           [-1, 32, 32, 32]               0\n",
            "  SpectralConv2d-123           [-1, 32, 32, 32]               0\n",
            "     BatchNorm2d-124           [-1, 32, 32, 32]              64\n",
            "  SpectralConv2d-125           [-1, 32, 32, 32]               0\n",
            "     BatchNorm2d-126           [-1, 32, 32, 32]              64\n",
            "      BasicBlock-127           [-1, 32, 32, 32]               0\n",
            "  SpectralConv2d-128           [-1, 32, 32, 32]               0\n",
            "     BatchNorm2d-129           [-1, 32, 32, 32]              64\n",
            "  SpectralConv2d-130           [-1, 32, 32, 32]               0\n",
            "     BatchNorm2d-131           [-1, 32, 32, 32]              64\n",
            "      BasicBlock-132           [-1, 32, 32, 32]               0\n",
            "  SpectralConv2d-133           [-1, 32, 32, 32]               0\n",
            "     BatchNorm2d-134           [-1, 32, 32, 32]              64\n",
            "  SpectralConv2d-135           [-1, 32, 32, 32]               0\n",
            "     BatchNorm2d-136           [-1, 32, 32, 32]              64\n",
            "      BasicBlock-137           [-1, 32, 32, 32]               0\n",
            "  SpectralConv2d-138           [-1, 32, 32, 32]               0\n",
            "     BatchNorm2d-139           [-1, 32, 32, 32]              64\n",
            "  SpectralConv2d-140           [-1, 32, 32, 32]               0\n",
            "     BatchNorm2d-141           [-1, 32, 32, 32]              64\n",
            "      BasicBlock-142           [-1, 32, 32, 32]               0\n",
            "  SpectralConv2d-143           [-1, 32, 32, 32]               0\n",
            "     BatchNorm2d-144           [-1, 32, 32, 32]              64\n",
            "  SpectralConv2d-145           [-1, 32, 32, 32]               0\n",
            "     BatchNorm2d-146           [-1, 32, 32, 32]              64\n",
            "      BasicBlock-147           [-1, 32, 32, 32]               0\n",
            "  SpectralConv2d-148           [-1, 32, 32, 32]               0\n",
            "     BatchNorm2d-149           [-1, 32, 32, 32]              64\n",
            "  SpectralConv2d-150           [-1, 32, 32, 32]               0\n",
            "     BatchNorm2d-151           [-1, 32, 32, 32]              64\n",
            "      BasicBlock-152           [-1, 32, 32, 32]               0\n",
            "  SpectralConv2d-153           [-1, 32, 32, 32]               0\n",
            "     BatchNorm2d-154           [-1, 32, 32, 32]              64\n",
            "  SpectralConv2d-155           [-1, 32, 32, 32]               0\n",
            "     BatchNorm2d-156           [-1, 32, 32, 32]              64\n",
            "      BasicBlock-157           [-1, 32, 32, 32]               0\n",
            "  SpectralConv2d-158           [-1, 32, 32, 32]               0\n",
            "     BatchNorm2d-159           [-1, 32, 32, 32]              64\n",
            "  SpectralConv2d-160           [-1, 32, 32, 32]               0\n",
            "     BatchNorm2d-161           [-1, 32, 32, 32]              64\n",
            "      BasicBlock-162           [-1, 32, 32, 32]               0\n",
            "  SpectralConv2d-163           [-1, 32, 32, 32]               0\n",
            "     BatchNorm2d-164           [-1, 32, 32, 32]              64\n",
            "  SpectralConv2d-165           [-1, 32, 32, 32]               0\n",
            "     BatchNorm2d-166           [-1, 32, 32, 32]              64\n",
            "      BasicBlock-167           [-1, 32, 32, 32]               0\n",
            "          Linear-168                   [-1, 10]          20,490\n",
            "================================================================\n",
            "Total params: 24,778\n",
            "Trainable params: 24,778\n",
            "Non-trainable params: 0\n",
            "----------------------------------------------------------------\n",
            "Input size (MB): 0.01\n",
            "Forward/backward pass size (MB): 41.75\n",
            "Params size (MB): 0.09\n",
            "Estimated Total Size (MB): 41.86\n",
            "----------------------------------------------------------------\n"
          ],
          "name": "stdout"
        }
      ]
    },
    {
      "cell_type": "markdown",
      "metadata": {
        "id": "5o-8LC1OUnuX"
      },
      "source": [
        "# Training the neural network FNO"
      ]
    },
    {
      "cell_type": "code",
      "metadata": {
        "colab": {
          "base_uri": "https://localhost:8080/"
        },
        "id": "BFDLe-08c3PT",
        "outputId": "4d407133-f2a4-48ed-8843-eb688178411f"
      },
      "source": [
        "criterion = nn.CrossEntropyLoss()\n",
        "optimizer = torch.optim.Adam(model.parameters(), lr=0.0001, weight_decay=1e-4)\n",
        "losslist=[]\n",
        "correct = 0\n",
        "total = 0\n",
        "beginning_time=datetime.datetime.now()\n",
        "print(beginning_time)\n",
        "for epoch in range(100):  # loop over the dataset multiple times\n",
        "    running_loss = 0.0\n",
        "    for i, data in enumerate(trainloader, 0):\n",
        "        # get the inputs; data is a list of [inputs, labels]\n",
        "        #inputs, labels = data[0].cuda(), data[1].cuda()\n",
        "        inputs, labels = data[0].cuda(), data[1].cuda()\n",
        "        # zero the parameter gradients\n",
        "        optimizer.zero_grad()\n",
        "\n",
        "        # forward + backward + optimize\n",
        "        outputs = model(inputs)\n",
        "        outputs=outputs\n",
        "        loss = criterion(outputs, labels)\n",
        "        loss.backward()\n",
        "        optimizer.step()\n",
        "        running_loss += loss.item()\n",
        "        if i % 100 == 99:    # print every 2000 mini-batches\n",
        "            print('[%d, %5d] loss: %.3f' %\n",
        "                  (epoch + 1, i + 1, running_loss / 100))\n",
        "            #######################\n",
        "            _, predicted = torch.max(outputs.data, 1)\n",
        "            total += labels.size(0)\n",
        "            correct += (predicted == labels).sum().item()\n",
        "            print('Accuracy of the network on the 10000 test images: %f %%' % (100 * correct / total))\n",
        "            losslist.append([(epoch+1), (i + 1),(running_loss / 100),(100 * correct / total)])\n",
        "            #######################\n",
        "            running_loss = 0.0\n",
        "    colunas=[\"Epoch\",\"Sample\", \"Loss\", \"Accuracy\"]\n",
        "    resultado=pd.DataFrame(losslist,columns=colunas)\n",
        "    resultado.to_pickle(str(epoch)+\".pickle\")\n",
        "    torch.save(model.state_dict(),\"model_parte1.pth\")\n",
        "end_time=datetime.datetime.now()\n",
        "print(end_time-beginning_time)"
      ],
      "execution_count": null,
      "outputs": [
        {
          "output_type": "stream",
          "text": [
            "2021-06-09 18:31:03.214626\n",
            "[1,   100] loss: 3.347\n",
            "Accuracy of the network on the 10000 test images: 15.000000 %\n",
            "[1,   200] loss: 2.765\n",
            "Accuracy of the network on the 10000 test images: 17.000000 %\n",
            "[1,   300] loss: 2.513\n",
            "Accuracy of the network on the 10000 test images: 18.000000 %\n",
            "[1,   400] loss: 2.691\n",
            "Accuracy of the network on the 10000 test images: 18.000000 %\n",
            "[1,   500] loss: 2.488\n",
            "Accuracy of the network on the 10000 test images: 16.600000 %\n",
            "[2,   100] loss: 2.383\n",
            "Accuracy of the network on the 10000 test images: 18.166667 %\n",
            "[2,   200] loss: 2.528\n",
            "Accuracy of the network on the 10000 test images: 16.714286 %\n",
            "[2,   300] loss: 2.607\n",
            "Accuracy of the network on the 10000 test images: 17.125000 %\n",
            "[2,   400] loss: 2.487\n",
            "Accuracy of the network on the 10000 test images: 17.555556 %\n",
            "[2,   500] loss: 2.474\n",
            "Accuracy of the network on the 10000 test images: 17.700000 %\n",
            "[3,   100] loss: 2.319\n",
            "Accuracy of the network on the 10000 test images: 18.181818 %\n",
            "[3,   200] loss: 2.273\n",
            "Accuracy of the network on the 10000 test images: 18.166667 %\n",
            "[3,   300] loss: 2.318\n",
            "Accuracy of the network on the 10000 test images: 18.000000 %\n",
            "[3,   400] loss: 2.190\n",
            "Accuracy of the network on the 10000 test images: 19.000000 %\n",
            "[3,   500] loss: 2.352\n",
            "Accuracy of the network on the 10000 test images: 19.200000 %\n",
            "[4,   100] loss: 2.205\n",
            "Accuracy of the network on the 10000 test images: 19.437500 %\n",
            "[4,   200] loss: 2.250\n",
            "Accuracy of the network on the 10000 test images: 20.294118 %\n",
            "[4,   300] loss: 2.122\n",
            "Accuracy of the network on the 10000 test images: 20.777778 %\n",
            "[4,   400] loss: 2.067\n",
            "Accuracy of the network on the 10000 test images: 21.368421 %\n",
            "[4,   500] loss: 1.936\n",
            "Accuracy of the network on the 10000 test images: 22.000000 %\n",
            "[5,   100] loss: 1.806\n",
            "Accuracy of the network on the 10000 test images: 22.904762 %\n",
            "[5,   200] loss: 1.897\n",
            "Accuracy of the network on the 10000 test images: 23.545455 %\n",
            "[5,   300] loss: 1.706\n",
            "Accuracy of the network on the 10000 test images: 24.521739 %\n",
            "[5,   400] loss: 1.743\n",
            "Accuracy of the network on the 10000 test images: 25.583333 %\n",
            "[5,   500] loss: 1.770\n",
            "Accuracy of the network on the 10000 test images: 26.320000 %\n",
            "[6,   100] loss: 1.580\n",
            "Accuracy of the network on the 10000 test images: 27.153846 %\n",
            "[6,   200] loss: 1.624\n",
            "Accuracy of the network on the 10000 test images: 28.000000 %\n",
            "[6,   300] loss: 1.525\n",
            "Accuracy of the network on the 10000 test images: 29.071429 %\n",
            "[6,   400] loss: 1.501\n",
            "Accuracy of the network on the 10000 test images: 29.965517 %\n",
            "[6,   500] loss: 1.943\n",
            "Accuracy of the network on the 10000 test images: 30.733333 %\n",
            "[7,   100] loss: 1.614\n",
            "Accuracy of the network on the 10000 test images: 31.354839 %\n",
            "[7,   200] loss: 1.565\n",
            "Accuracy of the network on the 10000 test images: 32.343750 %\n",
            "[7,   300] loss: 1.514\n",
            "Accuracy of the network on the 10000 test images: 32.818182 %\n",
            "[7,   400] loss: 1.407\n",
            "Accuracy of the network on the 10000 test images: 33.794118 %\n",
            "[7,   500] loss: 1.402\n",
            "Accuracy of the network on the 10000 test images: 34.428571 %\n",
            "[8,   100] loss: 1.506\n",
            "Accuracy of the network on the 10000 test images: 35.166667 %\n",
            "[8,   200] loss: 1.380\n",
            "Accuracy of the network on the 10000 test images: 35.837838 %\n",
            "[8,   300] loss: 1.211\n",
            "Accuracy of the network on the 10000 test images: 36.631579 %\n",
            "[8,   400] loss: 1.375\n",
            "Accuracy of the network on the 10000 test images: 37.076923 %\n",
            "[8,   500] loss: 1.399\n",
            "Accuracy of the network on the 10000 test images: 37.650000 %\n",
            "[9,   100] loss: 1.187\n",
            "Accuracy of the network on the 10000 test images: 38.170732 %\n",
            "[9,   200] loss: 1.290\n",
            "Accuracy of the network on the 10000 test images: 38.880952 %\n",
            "[9,   300] loss: 1.208\n",
            "Accuracy of the network on the 10000 test images: 39.511628 %\n",
            "[9,   400] loss: 1.129\n",
            "Accuracy of the network on the 10000 test images: 40.022727 %\n",
            "[9,   500] loss: 1.545\n",
            "Accuracy of the network on the 10000 test images: 40.311111 %\n",
            "[10,   100] loss: 1.394\n",
            "Accuracy of the network on the 10000 test images: 40.804348 %\n",
            "[10,   200] loss: 1.364\n",
            "Accuracy of the network on the 10000 test images: 41.106383 %\n",
            "[10,   300] loss: 1.220\n",
            "Accuracy of the network on the 10000 test images: 41.541667 %\n",
            "[10,   400] loss: 1.159\n",
            "Accuracy of the network on the 10000 test images: 42.061224 %\n",
            "[10,   500] loss: 1.326\n",
            "Accuracy of the network on the 10000 test images: 42.440000 %\n",
            "[11,   100] loss: 1.107\n",
            "Accuracy of the network on the 10000 test images: 42.960784 %\n",
            "[11,   200] loss: 1.169\n",
            "Accuracy of the network on the 10000 test images: 43.519231 %\n",
            "[11,   300] loss: 1.316\n",
            "Accuracy of the network on the 10000 test images: 43.660377 %\n",
            "[11,   400] loss: 1.204\n",
            "Accuracy of the network on the 10000 test images: 44.018519 %\n",
            "[11,   500] loss: 1.090\n",
            "Accuracy of the network on the 10000 test images: 44.400000 %\n",
            "[12,   100] loss: 1.019\n",
            "Accuracy of the network on the 10000 test images: 44.696429 %\n",
            "[12,   200] loss: 1.166\n",
            "Accuracy of the network on the 10000 test images: 45.105263 %\n",
            "[12,   300] loss: 1.018\n",
            "Accuracy of the network on the 10000 test images: 45.534483 %\n",
            "[12,   400] loss: 1.176\n",
            "Accuracy of the network on the 10000 test images: 45.847458 %\n",
            "[12,   500] loss: 1.176\n",
            "Accuracy of the network on the 10000 test images: 46.033333 %\n",
            "[13,   100] loss: 1.370\n",
            "Accuracy of the network on the 10000 test images: 46.163934 %\n",
            "[13,   200] loss: 1.312\n",
            "Accuracy of the network on the 10000 test images: 46.483871 %\n",
            "[13,   300] loss: 1.400\n",
            "Accuracy of the network on the 10000 test images: 46.507937 %\n",
            "[13,   400] loss: 1.383\n",
            "Accuracy of the network on the 10000 test images: 46.796875 %\n",
            "[13,   500] loss: 1.141\n",
            "Accuracy of the network on the 10000 test images: 47.000000 %\n",
            "[14,   100] loss: 1.001\n",
            "Accuracy of the network on the 10000 test images: 47.318182 %\n",
            "[14,   200] loss: 1.052\n",
            "Accuracy of the network on the 10000 test images: 47.567164 %\n",
            "[14,   300] loss: 1.147\n",
            "Accuracy of the network on the 10000 test images: 47.823529 %\n",
            "[14,   400] loss: 1.195\n",
            "Accuracy of the network on the 10000 test images: 48.101449 %\n",
            "[14,   500] loss: 1.176\n",
            "Accuracy of the network on the 10000 test images: 48.185714 %\n",
            "[15,   100] loss: 0.971\n",
            "Accuracy of the network on the 10000 test images: 48.408451 %\n",
            "[15,   200] loss: 1.064\n",
            "Accuracy of the network on the 10000 test images: 48.652778 %\n",
            "[15,   300] loss: 1.075\n",
            "Accuracy of the network on the 10000 test images: 48.863014 %\n",
            "[15,   400] loss: 1.076\n",
            "Accuracy of the network on the 10000 test images: 49.175676 %\n",
            "[15,   500] loss: 0.954\n",
            "Accuracy of the network on the 10000 test images: 49.493333 %\n",
            "[16,   100] loss: 0.839\n",
            "Accuracy of the network on the 10000 test images: 49.763158 %\n",
            "[16,   200] loss: 1.014\n",
            "Accuracy of the network on the 10000 test images: 49.987013 %\n",
            "[16,   300] loss: 0.911\n",
            "Accuracy of the network on the 10000 test images: 50.282051 %\n",
            "[16,   400] loss: 0.873\n",
            "Accuracy of the network on the 10000 test images: 50.544304 %\n",
            "[16,   500] loss: 0.886\n",
            "Accuracy of the network on the 10000 test images: 50.887500 %\n",
            "[17,   100] loss: 1.031\n",
            "Accuracy of the network on the 10000 test images: 51.111111 %\n",
            "[17,   200] loss: 0.951\n",
            "Accuracy of the network on the 10000 test images: 51.426829 %\n",
            "[17,   300] loss: 0.940\n",
            "Accuracy of the network on the 10000 test images: 51.662651 %\n",
            "[17,   400] loss: 0.882\n",
            "Accuracy of the network on the 10000 test images: 51.857143 %\n",
            "[17,   500] loss: 0.973\n",
            "Accuracy of the network on the 10000 test images: 52.035294 %\n",
            "[18,   100] loss: 0.873\n",
            "Accuracy of the network on the 10000 test images: 52.348837 %\n",
            "[18,   200] loss: 0.958\n",
            "Accuracy of the network on the 10000 test images: 52.540230 %\n",
            "[18,   300] loss: 0.931\n",
            "Accuracy of the network on the 10000 test images: 52.795455 %\n",
            "[18,   400] loss: 1.047\n",
            "Accuracy of the network on the 10000 test images: 53.056180 %\n",
            "[18,   500] loss: 1.034\n",
            "Accuracy of the network on the 10000 test images: 53.288889 %\n",
            "[19,   100] loss: 0.944\n",
            "Accuracy of the network on the 10000 test images: 53.450549 %\n",
            "[19,   200] loss: 1.073\n",
            "Accuracy of the network on the 10000 test images: 53.641304 %\n",
            "[19,   300] loss: 0.876\n",
            "Accuracy of the network on the 10000 test images: 53.784946 %\n",
            "[19,   400] loss: 0.909\n",
            "Accuracy of the network on the 10000 test images: 53.978723 %\n",
            "[19,   500] loss: 0.772\n",
            "Accuracy of the network on the 10000 test images: 54.252632 %\n",
            "[20,   100] loss: 0.734\n",
            "Accuracy of the network on the 10000 test images: 54.510417 %\n",
            "[20,   200] loss: 0.782\n",
            "Accuracy of the network on the 10000 test images: 54.762887 %\n",
            "[20,   300] loss: 0.784\n",
            "Accuracy of the network on the 10000 test images: 54.867347 %\n",
            "[20,   400] loss: 0.714\n",
            "Accuracy of the network on the 10000 test images: 55.090909 %\n",
            "[20,   500] loss: 0.863\n",
            "Accuracy of the network on the 10000 test images: 55.280000 %\n",
            "[21,   100] loss: 0.714\n",
            "Accuracy of the network on the 10000 test images: 55.366337 %\n",
            "[21,   200] loss: 1.266\n",
            "Accuracy of the network on the 10000 test images: 55.411765 %\n",
            "[21,   300] loss: 1.154\n",
            "Accuracy of the network on the 10000 test images: 55.514563 %\n",
            "[21,   400] loss: 0.900\n",
            "Accuracy of the network on the 10000 test images: 55.653846 %\n",
            "[21,   500] loss: 0.933\n",
            "Accuracy of the network on the 10000 test images: 55.904762 %\n",
            "[22,   100] loss: 0.680\n",
            "Accuracy of the network on the 10000 test images: 56.198113 %\n",
            "[22,   200] loss: 0.771\n",
            "Accuracy of the network on the 10000 test images: 56.429907 %\n",
            "[22,   300] loss: 0.809\n",
            "Accuracy of the network on the 10000 test images: 56.620370 %\n",
            "[22,   400] loss: 0.823\n",
            "Accuracy of the network on the 10000 test images: 56.816514 %\n",
            "[22,   500] loss: 0.779\n",
            "Accuracy of the network on the 10000 test images: 56.972727 %\n",
            "[23,   100] loss: 0.544\n",
            "Accuracy of the network on the 10000 test images: 57.234234 %\n",
            "[23,   200] loss: 0.666\n",
            "Accuracy of the network on the 10000 test images: 57.446429 %\n",
            "[23,   300] loss: 0.718\n",
            "Accuracy of the network on the 10000 test images: 57.539823 %\n",
            "[23,   400] loss: 0.871\n",
            "Accuracy of the network on the 10000 test images: 57.701754 %\n",
            "[23,   500] loss: 0.877\n",
            "Accuracy of the network on the 10000 test images: 57.852174 %\n",
            "[24,   100] loss: 0.609\n",
            "Accuracy of the network on the 10000 test images: 58.008621 %\n",
            "[24,   200] loss: 0.895\n",
            "Accuracy of the network on the 10000 test images: 58.222222 %\n",
            "[24,   300] loss: 0.868\n",
            "Accuracy of the network on the 10000 test images: 58.406780 %\n",
            "[24,   400] loss: 0.644\n",
            "Accuracy of the network on the 10000 test images: 58.596639 %\n",
            "[24,   500] loss: 0.695\n",
            "Accuracy of the network on the 10000 test images: 58.775000 %\n",
            "[25,   100] loss: 0.603\n",
            "Accuracy of the network on the 10000 test images: 58.900826 %\n",
            "[25,   200] loss: 0.757\n",
            "Accuracy of the network on the 10000 test images: 59.016393 %\n",
            "[25,   300] loss: 0.597\n",
            "Accuracy of the network on the 10000 test images: 59.219512 %\n",
            "[25,   400] loss: 0.601\n",
            "Accuracy of the network on the 10000 test images: 59.411290 %\n",
            "[25,   500] loss: 1.210\n",
            "Accuracy of the network on the 10000 test images: 59.472000 %\n",
            "[26,   100] loss: 0.854\n",
            "Accuracy of the network on the 10000 test images: 59.611111 %\n",
            "[26,   200] loss: 0.811\n",
            "Accuracy of the network on the 10000 test images: 59.763780 %\n",
            "[26,   300] loss: 0.783\n",
            "Accuracy of the network on the 10000 test images: 59.867188 %\n",
            "[26,   400] loss: 0.740\n",
            "Accuracy of the network on the 10000 test images: 60.015504 %\n",
            "[26,   500] loss: 0.826\n",
            "Accuracy of the network on the 10000 test images: 60.115385 %\n",
            "[27,   100] loss: 0.566\n",
            "Accuracy of the network on the 10000 test images: 60.282443 %\n",
            "[27,   200] loss: 0.614\n",
            "Accuracy of the network on the 10000 test images: 60.477273 %\n",
            "[27,   300] loss: 0.555\n",
            "Accuracy of the network on the 10000 test images: 60.609023 %\n",
            "[27,   400] loss: 0.547\n",
            "Accuracy of the network on the 10000 test images: 60.761194 %\n",
            "[27,   500] loss: 0.551\n",
            "Accuracy of the network on the 10000 test images: 60.970370 %\n",
            "[28,   100] loss: 0.417\n",
            "Accuracy of the network on the 10000 test images: 61.154412 %\n",
            "[28,   200] loss: 0.580\n",
            "Accuracy of the network on the 10000 test images: 61.284672 %\n",
            "[28,   300] loss: 0.583\n",
            "Accuracy of the network on the 10000 test images: 61.471014 %\n",
            "[28,   400] loss: 0.454\n",
            "Accuracy of the network on the 10000 test images: 61.647482 %\n",
            "[28,   500] loss: 0.514\n",
            "Accuracy of the network on the 10000 test images: 61.800000 %\n",
            "[29,   100] loss: 0.407\n",
            "Accuracy of the network on the 10000 test images: 61.978723 %\n",
            "[29,   200] loss: 0.395\n",
            "Accuracy of the network on the 10000 test images: 62.161972 %\n",
            "[29,   300] loss: 0.386\n",
            "Accuracy of the network on the 10000 test images: 62.349650 %\n",
            "[29,   400] loss: 0.390\n",
            "Accuracy of the network on the 10000 test images: 62.500000 %\n",
            "[29,   500] loss: 0.537\n",
            "Accuracy of the network on the 10000 test images: 62.579310 %\n",
            "[30,   100] loss: 0.382\n",
            "Accuracy of the network on the 10000 test images: 62.787671 %\n",
            "[30,   200] loss: 0.468\n",
            "Accuracy of the network on the 10000 test images: 62.979592 %\n",
            "[30,   300] loss: 0.316\n",
            "Accuracy of the network on the 10000 test images: 63.162162 %\n",
            "[30,   400] loss: 0.361\n",
            "Accuracy of the network on the 10000 test images: 63.355705 %\n",
            "[30,   500] loss: 0.391\n",
            "Accuracy of the network on the 10000 test images: 63.560000 %\n",
            "[31,   100] loss: 0.247\n",
            "Accuracy of the network on the 10000 test images: 63.741722 %\n",
            "[31,   200] loss: 0.286\n",
            "Accuracy of the network on the 10000 test images: 63.907895 %\n",
            "[31,   300] loss: 0.364\n",
            "Accuracy of the network on the 10000 test images: 64.078431 %\n",
            "[31,   400] loss: 0.277\n",
            "Accuracy of the network on the 10000 test images: 64.266234 %\n",
            "[31,   500] loss: 0.444\n",
            "Accuracy of the network on the 10000 test images: 64.303226 %\n",
            "[32,   100] loss: 0.566\n",
            "Accuracy of the network on the 10000 test images: 64.493590 %\n",
            "[32,   200] loss: 0.562\n",
            "Accuracy of the network on the 10000 test images: 64.636943 %\n",
            "[32,   300] loss: 0.462\n",
            "Accuracy of the network on the 10000 test images: 64.784810 %\n",
            "[32,   400] loss: 0.339\n",
            "Accuracy of the network on the 10000 test images: 64.968553 %\n",
            "[32,   500] loss: 0.391\n",
            "Accuracy of the network on the 10000 test images: 65.118750 %\n",
            "[33,   100] loss: 0.236\n",
            "Accuracy of the network on the 10000 test images: 65.310559 %\n",
            "[33,   200] loss: 0.221\n",
            "Accuracy of the network on the 10000 test images: 65.469136 %\n",
            "[33,   300] loss: 0.251\n",
            "Accuracy of the network on the 10000 test images: 65.619632 %\n",
            "[33,   400] loss: 0.431\n",
            "Accuracy of the network on the 10000 test images: 65.756098 %\n",
            "[33,   500] loss: 0.406\n",
            "Accuracy of the network on the 10000 test images: 65.896970 %\n",
            "[34,   100] loss: 0.349\n",
            "Accuracy of the network on the 10000 test images: 66.084337 %\n",
            "[34,   200] loss: 0.508\n",
            "Accuracy of the network on the 10000 test images: 66.227545 %\n",
            "[34,   300] loss: 0.500\n",
            "Accuracy of the network on the 10000 test images: 66.309524 %\n",
            "[34,   400] loss: 0.392\n",
            "Accuracy of the network on the 10000 test images: 66.449704 %\n",
            "[34,   500] loss: 0.521\n",
            "Accuracy of the network on the 10000 test images: 66.582353 %\n",
            "[35,   100] loss: 0.236\n",
            "Accuracy of the network on the 10000 test images: 66.730994 %\n",
            "[35,   200] loss: 0.448\n",
            "Accuracy of the network on the 10000 test images: 66.761628 %\n",
            "[35,   300] loss: 0.736\n",
            "Accuracy of the network on the 10000 test images: 66.878613 %\n",
            "[35,   400] loss: 0.642\n",
            "Accuracy of the network on the 10000 test images: 66.994253 %\n",
            "[35,   500] loss: 0.568\n",
            "Accuracy of the network on the 10000 test images: 67.120000 %\n",
            "[36,   100] loss: 0.368\n",
            "Accuracy of the network on the 10000 test images: 67.255682 %\n",
            "[36,   200] loss: 0.436\n",
            "Accuracy of the network on the 10000 test images: 67.361582 %\n",
            "[36,   300] loss: 0.479\n",
            "Accuracy of the network on the 10000 test images: 67.488764 %\n",
            "[36,   400] loss: 0.360\n",
            "Accuracy of the network on the 10000 test images: 67.631285 %\n",
            "[36,   500] loss: 0.289\n",
            "Accuracy of the network on the 10000 test images: 67.750000 %\n",
            "[37,   100] loss: 0.305\n",
            "Accuracy of the network on the 10000 test images: 67.895028 %\n",
            "[37,   200] loss: 0.234\n",
            "Accuracy of the network on the 10000 test images: 68.027473 %\n",
            "[37,   300] loss: 0.227\n",
            "Accuracy of the network on the 10000 test images: 68.185792 %\n",
            "[37,   400] loss: 0.337\n",
            "Accuracy of the network on the 10000 test images: 68.293478 %\n",
            "[37,   500] loss: 0.284\n",
            "Accuracy of the network on the 10000 test images: 68.421622 %\n",
            "[38,   100] loss: 0.218\n",
            "Accuracy of the network on the 10000 test images: 68.564516 %\n",
            "[38,   200] loss: 0.205\n",
            "Accuracy of the network on the 10000 test images: 68.727273 %\n",
            "[38,   300] loss: 0.250\n",
            "Accuracy of the network on the 10000 test images: 68.872340 %\n",
            "[38,   400] loss: 0.473\n",
            "Accuracy of the network on the 10000 test images: 68.925926 %\n",
            "[38,   500] loss: 0.681\n",
            "Accuracy of the network on the 10000 test images: 69.026316 %\n",
            "[39,   100] loss: 0.468\n",
            "Accuracy of the network on the 10000 test images: 69.120419 %\n",
            "[39,   200] loss: 0.323\n",
            "Accuracy of the network on the 10000 test images: 69.255208 %\n",
            "[39,   300] loss: 0.312\n",
            "Accuracy of the network on the 10000 test images: 69.347150 %\n",
            "[39,   400] loss: 0.333\n",
            "Accuracy of the network on the 10000 test images: 69.469072 %\n",
            "[39,   500] loss: 0.358\n",
            "Accuracy of the network on the 10000 test images: 69.579487 %\n",
            "[40,   100] loss: 0.391\n",
            "Accuracy of the network on the 10000 test images: 69.688776 %\n",
            "[40,   200] loss: 0.290\n",
            "Accuracy of the network on the 10000 test images: 69.822335 %\n",
            "[40,   300] loss: 0.278\n",
            "Accuracy of the network on the 10000 test images: 69.959596 %\n",
            "[40,   400] loss: 0.261\n",
            "Accuracy of the network on the 10000 test images: 70.085427 %\n",
            "[40,   500] loss: 0.243\n",
            "Accuracy of the network on the 10000 test images: 70.215000 %\n",
            "[41,   100] loss: 0.134\n",
            "Accuracy of the network on the 10000 test images: 70.363184 %\n",
            "[41,   200] loss: 0.172\n",
            "Accuracy of the network on the 10000 test images: 70.480198 %\n",
            "[41,   300] loss: 0.213\n",
            "Accuracy of the network on the 10000 test images: 70.610837 %\n",
            "[41,   400] loss: 0.139\n",
            "Accuracy of the network on the 10000 test images: 70.754902 %\n",
            "[41,   500] loss: 0.123\n",
            "Accuracy of the network on the 10000 test images: 70.878049 %\n",
            "[42,   100] loss: 0.115\n",
            "Accuracy of the network on the 10000 test images: 71.014563 %\n",
            "[42,   200] loss: 0.318\n",
            "Accuracy of the network on the 10000 test images: 71.091787 %\n",
            "[42,   300] loss: 0.260\n",
            "Accuracy of the network on the 10000 test images: 71.192308 %\n",
            "[42,   400] loss: 0.284\n",
            "Accuracy of the network on the 10000 test images: 71.311005 %\n",
            "[42,   500] loss: 0.274\n",
            "Accuracy of the network on the 10000 test images: 71.409524 %\n",
            "[43,   100] loss: 0.162\n",
            "Accuracy of the network on the 10000 test images: 71.521327 %\n",
            "[43,   200] loss: 0.130\n",
            "Accuracy of the network on the 10000 test images: 71.641509 %\n",
            "[43,   300] loss: 0.168\n",
            "Accuracy of the network on the 10000 test images: 71.760563 %\n",
            "[43,   400] loss: 0.140\n",
            "Accuracy of the network on the 10000 test images: 71.887850 %\n",
            "[43,   500] loss: 0.107\n",
            "Accuracy of the network on the 10000 test images: 72.009302 %\n",
            "[44,   100] loss: 0.084\n",
            "Accuracy of the network on the 10000 test images: 72.129630 %\n",
            "[44,   200] loss: 0.143\n",
            "Accuracy of the network on the 10000 test images: 72.244240 %\n",
            "[44,   300] loss: 0.248\n",
            "Accuracy of the network on the 10000 test images: 72.353211 %\n",
            "[44,   400] loss: 0.228\n",
            "Accuracy of the network on the 10000 test images: 72.470320 %\n",
            "[44,   500] loss: 0.136\n",
            "Accuracy of the network on the 10000 test images: 72.563636 %\n",
            "[45,   100] loss: 0.052\n",
            "Accuracy of the network on the 10000 test images: 72.683258 %\n",
            "[45,   200] loss: 0.107\n",
            "Accuracy of the network on the 10000 test images: 72.806306 %\n",
            "[45,   300] loss: 0.080\n",
            "Accuracy of the network on the 10000 test images: 72.910314 %\n",
            "[45,   400] loss: 0.285\n",
            "Accuracy of the network on the 10000 test images: 72.973214 %\n",
            "[45,   500] loss: 0.382\n",
            "Accuracy of the network on the 10000 test images: 73.057778 %\n",
            "[46,   100] loss: 0.185\n",
            "Accuracy of the network on the 10000 test images: 73.154867 %\n",
            "[46,   200] loss: 0.191\n",
            "Accuracy of the network on the 10000 test images: 73.259912 %\n",
            "[46,   300] loss: 0.456\n",
            "Accuracy of the network on the 10000 test images: 73.333333 %\n",
            "[46,   400] loss: 0.558\n",
            "Accuracy of the network on the 10000 test images: 73.427948 %\n",
            "[46,   500] loss: 0.429\n",
            "Accuracy of the network on the 10000 test images: 73.508696 %\n",
            "[47,   100] loss: 0.262\n",
            "Accuracy of the network on the 10000 test images: 73.614719 %\n",
            "[47,   200] loss: 0.203\n",
            "Accuracy of the network on the 10000 test images: 73.698276 %\n",
            "[47,   300] loss: 0.220\n",
            "Accuracy of the network on the 10000 test images: 73.802575 %\n",
            "[47,   400] loss: 0.179\n",
            "Accuracy of the network on the 10000 test images: 73.905983 %\n",
            "[47,   500] loss: 0.143\n",
            "Accuracy of the network on the 10000 test images: 74.000000 %\n",
            "[48,   100] loss: 0.260\n",
            "Accuracy of the network on the 10000 test images: 74.097458 %\n",
            "[48,   200] loss: 0.286\n",
            "Accuracy of the network on the 10000 test images: 74.181435 %\n",
            "[48,   300] loss: 0.177\n",
            "Accuracy of the network on the 10000 test images: 74.252101 %\n",
            "[48,   400] loss: 0.233\n",
            "Accuracy of the network on the 10000 test images: 74.326360 %\n",
            "[48,   500] loss: 0.442\n",
            "Accuracy of the network on the 10000 test images: 74.358333 %\n",
            "[49,   100] loss: 0.291\n",
            "Accuracy of the network on the 10000 test images: 74.448133 %\n",
            "[49,   200] loss: 0.201\n",
            "Accuracy of the network on the 10000 test images: 74.533058 %\n",
            "[49,   300] loss: 0.279\n",
            "Accuracy of the network on the 10000 test images: 74.584362 %\n",
            "[49,   400] loss: 0.292\n",
            "Accuracy of the network on the 10000 test images: 74.655738 %\n",
            "[49,   500] loss: 0.277\n",
            "Accuracy of the network on the 10000 test images: 74.726531 %\n",
            "[50,   100] loss: 0.519\n",
            "Accuracy of the network on the 10000 test images: 74.719512 %\n",
            "[50,   200] loss: 0.754\n",
            "Accuracy of the network on the 10000 test images: 74.765182 %\n",
            "[50,   300] loss: 0.467\n",
            "Accuracy of the network on the 10000 test images: 74.830645 %\n",
            "[50,   400] loss: 0.452\n",
            "Accuracy of the network on the 10000 test images: 74.871486 %\n",
            "[50,   500] loss: 0.403\n",
            "Accuracy of the network on the 10000 test images: 74.920000 %\n",
            "[51,   100] loss: 0.201\n",
            "Accuracy of the network on the 10000 test images: 75.000000 %\n",
            "[51,   200] loss: 0.217\n",
            "Accuracy of the network on the 10000 test images: 75.039683 %\n",
            "[51,   300] loss: 0.492\n",
            "Accuracy of the network on the 10000 test images: 75.067194 %\n",
            "[51,   400] loss: 0.356\n",
            "Accuracy of the network on the 10000 test images: 75.145669 %\n",
            "[51,   500] loss: 0.245\n",
            "Accuracy of the network on the 10000 test images: 75.215686 %\n",
            "[52,   100] loss: 0.155\n",
            "Accuracy of the network on the 10000 test images: 75.300781 %\n",
            "[52,   200] loss: 0.165\n",
            "Accuracy of the network on the 10000 test images: 75.392996 %\n",
            "[52,   300] loss: 0.165\n",
            "Accuracy of the network on the 10000 test images: 75.476744 %\n",
            "[52,   400] loss: 0.153\n",
            "Accuracy of the network on the 10000 test images: 75.567568 %\n",
            "[52,   500] loss: 0.143\n",
            "Accuracy of the network on the 10000 test images: 75.661538 %\n",
            "[53,   100] loss: 0.096\n",
            "Accuracy of the network on the 10000 test images: 75.750958 %\n",
            "[53,   200] loss: 0.138\n",
            "Accuracy of the network on the 10000 test images: 75.839695 %\n",
            "[53,   300] loss: 0.132\n",
            "Accuracy of the network on the 10000 test images: 75.920152 %\n",
            "[53,   400] loss: 0.125\n",
            "Accuracy of the network on the 10000 test images: 76.007576 %\n",
            "[53,   500] loss: 0.114\n",
            "Accuracy of the network on the 10000 test images: 76.094340 %\n",
            "[54,   100] loss: 0.098\n",
            "Accuracy of the network on the 10000 test images: 76.176692 %\n",
            "[54,   200] loss: 0.055\n",
            "Accuracy of the network on the 10000 test images: 76.258427 %\n",
            "[54,   300] loss: 0.104\n",
            "Accuracy of the network on the 10000 test images: 76.332090 %\n",
            "[54,   400] loss: 0.252\n",
            "Accuracy of the network on the 10000 test images: 76.412639 %\n",
            "[54,   500] loss: 0.160\n",
            "Accuracy of the network on the 10000 test images: 76.488889 %\n",
            "[55,   100] loss: 0.089\n",
            "Accuracy of the network on the 10000 test images: 76.560886 %\n",
            "[55,   200] loss: 0.167\n",
            "Accuracy of the network on the 10000 test images: 76.639706 %\n",
            "[55,   300] loss: 0.088\n",
            "Accuracy of the network on the 10000 test images: 76.714286 %\n",
            "[55,   400] loss: 0.082\n",
            "Accuracy of the network on the 10000 test images: 76.791971 %\n",
            "[55,   500] loss: 0.126\n",
            "Accuracy of the network on the 10000 test images: 76.847273 %\n",
            "[56,   100] loss: 0.317\n",
            "Accuracy of the network on the 10000 test images: 76.916667 %\n",
            "[56,   200] loss: 0.163\n",
            "Accuracy of the network on the 10000 test images: 76.989170 %\n",
            "[56,   300] loss: 0.188\n",
            "Accuracy of the network on the 10000 test images: 77.064748 %\n",
            "[56,   400] loss: 0.081\n",
            "Accuracy of the network on the 10000 test images: 77.143369 %\n",
            "[56,   500] loss: 0.101\n",
            "Accuracy of the network on the 10000 test images: 77.210714 %\n",
            "[57,   100] loss: 0.108\n",
            "Accuracy of the network on the 10000 test images: 77.288256 %\n",
            "[57,   200] loss: 0.031\n",
            "Accuracy of the network on the 10000 test images: 77.365248 %\n",
            "[57,   300] loss: 0.034\n",
            "Accuracy of the network on the 10000 test images: 77.445230 %\n",
            "[57,   400] loss: 0.107\n",
            "Accuracy of the network on the 10000 test images: 77.524648 %\n",
            "[57,   500] loss: 0.181\n",
            "Accuracy of the network on the 10000 test images: 77.592982 %\n",
            "[58,   100] loss: 0.114\n",
            "Accuracy of the network on the 10000 test images: 77.660839 %\n",
            "[58,   200] loss: 0.121\n",
            "Accuracy of the network on the 10000 test images: 77.735192 %\n",
            "[58,   300] loss: 0.080\n",
            "Accuracy of the network on the 10000 test images: 77.809028 %\n",
            "[58,   400] loss: 0.096\n",
            "Accuracy of the network on the 10000 test images: 77.882353 %\n",
            "[58,   500] loss: 0.059\n",
            "Accuracy of the network on the 10000 test images: 77.955172 %\n",
            "[59,   100] loss: 0.150\n",
            "Accuracy of the network on the 10000 test images: 78.013746 %\n",
            "[59,   200] loss: 0.185\n",
            "Accuracy of the network on the 10000 test images: 78.044521 %\n",
            "[59,   300] loss: 0.213\n",
            "Accuracy of the network on the 10000 test images: 78.095563 %\n",
            "[59,   400] loss: 0.207\n",
            "Accuracy of the network on the 10000 test images: 78.163265 %\n",
            "[59,   500] loss: 0.134\n",
            "Accuracy of the network on the 10000 test images: 78.223729 %\n",
            "[60,   100] loss: 0.102\n",
            "Accuracy of the network on the 10000 test images: 78.297297 %\n",
            "[60,   200] loss: 0.073\n",
            "Accuracy of the network on the 10000 test images: 78.370370 %\n",
            "[60,   300] loss: 0.059\n",
            "Accuracy of the network on the 10000 test images: 78.436242 %\n",
            "[60,   400] loss: 0.068\n",
            "Accuracy of the network on the 10000 test images: 78.505017 %\n",
            "[60,   500] loss: 0.041\n",
            "Accuracy of the network on the 10000 test images: 78.573333 %\n",
            "[61,   100] loss: 0.030\n",
            "Accuracy of the network on the 10000 test images: 78.644518 %\n",
            "[61,   200] loss: 0.069\n",
            "Accuracy of the network on the 10000 test images: 78.708609 %\n",
            "[61,   300] loss: 0.069\n",
            "Accuracy of the network on the 10000 test images: 78.772277 %\n",
            "[61,   400] loss: 0.182\n",
            "Accuracy of the network on the 10000 test images: 78.838816 %\n",
            "[61,   500] loss: 0.086\n",
            "Accuracy of the network on the 10000 test images: 78.891803 %\n",
            "[62,   100] loss: 0.196\n",
            "Accuracy of the network on the 10000 test images: 78.918301 %\n",
            "[62,   200] loss: 0.203\n",
            "Accuracy of the network on the 10000 test images: 78.970684 %\n",
            "[62,   300] loss: 0.166\n",
            "Accuracy of the network on the 10000 test images: 79.035714 %\n",
            "[62,   400] loss: 0.114\n",
            "Accuracy of the network on the 10000 test images: 79.097087 %\n",
            "[62,   500] loss: 0.096\n",
            "Accuracy of the network on the 10000 test images: 79.158065 %\n",
            "[63,   100] loss: 0.069\n",
            "Accuracy of the network on the 10000 test images: 79.218650 %\n",
            "[63,   200] loss: 0.140\n",
            "Accuracy of the network on the 10000 test images: 79.259615 %\n",
            "[63,   300] loss: 0.189\n",
            "Accuracy of the network on the 10000 test images: 79.316294 %\n",
            "[63,   400] loss: 0.101\n",
            "Accuracy of the network on the 10000 test images: 79.375796 %\n",
            "[63,   500] loss: 0.100\n",
            "Accuracy of the network on the 10000 test images: 79.438095 %\n",
            "[64,   100] loss: 0.055\n",
            "Accuracy of the network on the 10000 test images: 79.496835 %\n",
            "[64,   200] loss: 0.070\n",
            "Accuracy of the network on the 10000 test images: 79.561514 %\n",
            "[64,   300] loss: 0.065\n",
            "Accuracy of the network on the 10000 test images: 79.625786 %\n",
            "[64,   400] loss: 0.123\n",
            "Accuracy of the network on the 10000 test images: 79.686520 %\n",
            "[64,   500] loss: 0.105\n",
            "Accuracy of the network on the 10000 test images: 79.731250 %\n",
            "[65,   100] loss: 0.157\n",
            "Accuracy of the network on the 10000 test images: 79.788162 %\n",
            "[65,   200] loss: 0.110\n",
            "Accuracy of the network on the 10000 test images: 79.838509 %\n",
            "[65,   300] loss: 0.266\n",
            "Accuracy of the network on the 10000 test images: 79.891641 %\n",
            "[65,   400] loss: 0.118\n",
            "Accuracy of the network on the 10000 test images: 79.941358 %\n",
            "[65,   500] loss: 0.104\n",
            "Accuracy of the network on the 10000 test images: 80.000000 %\n",
            "[66,   100] loss: 0.063\n",
            "Accuracy of the network on the 10000 test images: 80.049080 %\n",
            "[66,   200] loss: 0.337\n",
            "Accuracy of the network on the 10000 test images: 80.085627 %\n",
            "[66,   300] loss: 0.262\n",
            "Accuracy of the network on the 10000 test images: 80.134146 %\n",
            "[66,   400] loss: 0.169\n",
            "Accuracy of the network on the 10000 test images: 80.182371 %\n",
            "[66,   500] loss: 0.186\n",
            "Accuracy of the network on the 10000 test images: 80.236364 %\n",
            "[67,   100] loss: 0.089\n",
            "Accuracy of the network on the 10000 test images: 80.293051 %\n",
            "[67,   200] loss: 0.119\n",
            "Accuracy of the network on the 10000 test images: 80.349398 %\n",
            "[67,   300] loss: 0.115\n",
            "Accuracy of the network on the 10000 test images: 80.399399 %\n",
            "[67,   400] loss: 0.106\n",
            "Accuracy of the network on the 10000 test images: 80.431138 %\n",
            "[67,   500] loss: 0.297\n",
            "Accuracy of the network on the 10000 test images: 80.465672 %\n",
            "[68,   100] loss: 0.229\n",
            "Accuracy of the network on the 10000 test images: 80.514881 %\n",
            "[68,   200] loss: 0.279\n",
            "Accuracy of the network on the 10000 test images: 80.534125 %\n",
            "[68,   300] loss: 0.306\n",
            "Accuracy of the network on the 10000 test images: 80.576923 %\n",
            "[68,   400] loss: 0.141\n",
            "Accuracy of the network on the 10000 test images: 80.628319 %\n",
            "[68,   500] loss: 0.343\n",
            "Accuracy of the network on the 10000 test images: 80.670588 %\n",
            "[69,   100] loss: 0.175\n",
            "Accuracy of the network on the 10000 test images: 80.718475 %\n",
            "[69,   200] loss: 0.091\n",
            "Accuracy of the network on the 10000 test images: 80.766082 %\n",
            "[69,   300] loss: 0.075\n",
            "Accuracy of the network on the 10000 test images: 80.819242 %\n",
            "[69,   400] loss: 0.104\n",
            "Accuracy of the network on the 10000 test images: 80.875000 %\n",
            "[69,   500] loss: 0.068\n",
            "Accuracy of the network on the 10000 test images: 80.930435 %\n",
            "[70,   100] loss: 0.139\n",
            "Accuracy of the network on the 10000 test images: 80.982659 %\n",
            "[70,   200] loss: 0.074\n",
            "Accuracy of the network on the 10000 test images: 81.037464 %\n",
            "[70,   300] loss: 0.125\n",
            "Accuracy of the network on the 10000 test images: 81.083333 %\n",
            "[70,   400] loss: 0.102\n",
            "Accuracy of the network on the 10000 test images: 81.137536 %\n",
            "[70,   500] loss: 0.024\n",
            "Accuracy of the network on the 10000 test images: 81.191429 %\n",
            "[71,   100] loss: 0.035\n",
            "Accuracy of the network on the 10000 test images: 81.245014 %\n",
            "[71,   200] loss: 0.050\n",
            "Accuracy of the network on the 10000 test images: 81.298295 %\n",
            "[71,   300] loss: 0.048\n",
            "Accuracy of the network on the 10000 test images: 81.351275 %\n",
            "[71,   400] loss: 0.182\n",
            "Accuracy of the network on the 10000 test images: 81.392655 %\n",
            "[71,   500] loss: 0.158\n",
            "Accuracy of the network on the 10000 test images: 81.442254 %\n",
            "[72,   100] loss: 0.109\n",
            "Accuracy of the network on the 10000 test images: 81.491573 %\n",
            "[72,   200] loss: 0.062\n",
            "Accuracy of the network on the 10000 test images: 81.540616 %\n",
            "[72,   300] loss: 0.078\n",
            "Accuracy of the network on the 10000 test images: 81.589385 %\n",
            "[72,   400] loss: 0.112\n",
            "Accuracy of the network on the 10000 test images: 81.637883 %\n",
            "[72,   500] loss: 0.074\n",
            "Accuracy of the network on the 10000 test images: 81.688889 %\n",
            "[73,   100] loss: 0.030\n",
            "Accuracy of the network on the 10000 test images: 81.736842 %\n",
            "[73,   200] loss: 0.124\n",
            "Accuracy of the network on the 10000 test images: 81.787293 %\n",
            "[73,   300] loss: 0.123\n",
            "Accuracy of the network on the 10000 test images: 81.834711 %\n",
            "[73,   400] loss: 0.150\n",
            "Accuracy of the network on the 10000 test images: 81.859890 %\n",
            "[73,   500] loss: 0.359\n",
            "Accuracy of the network on the 10000 test images: 81.895890 %\n",
            "[74,   100] loss: 0.212\n",
            "Accuracy of the network on the 10000 test images: 81.942623 %\n",
            "[74,   200] loss: 0.124\n",
            "Accuracy of the network on the 10000 test images: 81.989101 %\n",
            "[74,   300] loss: 0.194\n",
            "Accuracy of the network on the 10000 test images: 82.005435 %\n",
            "[74,   400] loss: 0.284\n",
            "Accuracy of the network on the 10000 test images: 82.040650 %\n",
            "[74,   500] loss: 0.200\n",
            "Accuracy of the network on the 10000 test images: 82.075676 %\n",
            "[75,   100] loss: 0.100\n",
            "Accuracy of the network on the 10000 test images: 82.123989 %\n",
            "[75,   200] loss: 0.103\n",
            "Accuracy of the network on the 10000 test images: 82.166667 %\n",
            "[75,   300] loss: 0.135\n",
            "Accuracy of the network on the 10000 test images: 82.206434 %\n",
            "[75,   400] loss: 0.158\n",
            "Accuracy of the network on the 10000 test images: 82.240642 %\n",
            "[75,   500] loss: 0.103\n",
            "Accuracy of the network on the 10000 test images: 82.282667 %\n",
            "[76,   100] loss: 0.064\n",
            "Accuracy of the network on the 10000 test images: 82.319149 %\n",
            "[76,   200] loss: 0.082\n",
            "Accuracy of the network on the 10000 test images: 82.366048 %\n",
            "[76,   300] loss: 0.062\n",
            "Accuracy of the network on the 10000 test images: 82.410053 %\n",
            "[76,   400] loss: 0.044\n",
            "Accuracy of the network on the 10000 test images: 82.451187 %\n",
            "[76,   500] loss: 0.082\n",
            "Accuracy of the network on the 10000 test images: 82.486842 %\n",
            "[77,   100] loss: 0.083\n",
            "Accuracy of the network on the 10000 test images: 82.530184 %\n",
            "[77,   200] loss: 0.068\n",
            "Accuracy of the network on the 10000 test images: 82.573298 %\n",
            "[77,   300] loss: 0.084\n",
            "Accuracy of the network on the 10000 test images: 82.618799 %\n",
            "[77,   400] loss: 0.095\n",
            "Accuracy of the network on the 10000 test images: 82.661458 %\n",
            "[77,   500] loss: 0.067\n",
            "Accuracy of the network on the 10000 test images: 82.706494 %\n",
            "[78,   100] loss: 0.104\n",
            "Accuracy of the network on the 10000 test images: 82.746114 %\n",
            "[78,   200] loss: 0.091\n",
            "Accuracy of the network on the 10000 test images: 82.785530 %\n",
            "[78,   300] loss: 0.202\n",
            "Accuracy of the network on the 10000 test images: 82.817010 %\n",
            "[78,   400] loss: 0.162\n",
            "Accuracy of the network on the 10000 test images: 82.856041 %\n",
            "[78,   500] loss: 0.121\n",
            "Accuracy of the network on the 10000 test images: 82.900000 %\n",
            "[79,   100] loss: 0.084\n",
            "Accuracy of the network on the 10000 test images: 82.943734 %\n",
            "[79,   200] loss: 0.045\n",
            "Accuracy of the network on the 10000 test images: 82.987245 %\n",
            "[79,   300] loss: 0.052\n",
            "Accuracy of the network on the 10000 test images: 83.027990 %\n",
            "[79,   400] loss: 0.039\n",
            "Accuracy of the network on the 10000 test images: 83.063452 %\n",
            "[79,   500] loss: 0.056\n",
            "Accuracy of the network on the 10000 test images: 83.098734 %\n",
            "[80,   100] loss: 0.023\n",
            "Accuracy of the network on the 10000 test images: 83.138889 %\n",
            "[80,   200] loss: 0.054\n",
            "Accuracy of the network on the 10000 test images: 83.178841 %\n",
            "[80,   300] loss: 0.035\n",
            "Accuracy of the network on the 10000 test images: 83.221106 %\n",
            "[80,   400] loss: 0.057\n",
            "Accuracy of the network on the 10000 test images: 83.253133 %\n",
            "[80,   500] loss: 0.058\n",
            "Accuracy of the network on the 10000 test images: 83.295000 %\n",
            "[81,   100] loss: 0.059\n",
            "Accuracy of the network on the 10000 test images: 83.334165 %\n",
            "[81,   200] loss: 0.049\n",
            "Accuracy of the network on the 10000 test images: 83.375622 %\n",
            "[81,   300] loss: 0.099\n",
            "Accuracy of the network on the 10000 test images: 83.411911 %\n",
            "[81,   400] loss: 0.095\n",
            "Accuracy of the network on the 10000 test images: 83.445545 %\n",
            "[81,   500] loss: 0.140\n",
            "Accuracy of the network on the 10000 test images: 83.461728 %\n",
            "[82,   100] loss: 0.210\n",
            "Accuracy of the network on the 10000 test images: 83.500000 %\n",
            "[82,   200] loss: 0.070\n",
            "Accuracy of the network on the 10000 test images: 83.540541 %\n",
            "[82,   300] loss: 0.091\n",
            "Accuracy of the network on the 10000 test images: 83.580882 %\n",
            "[82,   400] loss: 0.062\n",
            "Accuracy of the network on the 10000 test images: 83.621027 %\n",
            "[82,   500] loss: 0.101\n",
            "Accuracy of the network on the 10000 test images: 83.658537 %\n",
            "[83,   100] loss: 0.105\n",
            "Accuracy of the network on the 10000 test images: 83.688564 %\n",
            "[83,   200] loss: 0.140\n",
            "Accuracy of the network on the 10000 test images: 83.720874 %\n",
            "[83,   300] loss: 0.100\n",
            "Accuracy of the network on the 10000 test images: 83.757869 %\n",
            "[83,   400] loss: 0.057\n",
            "Accuracy of the network on the 10000 test images: 83.797101 %\n",
            "[83,   500] loss: 0.044\n",
            "Accuracy of the network on the 10000 test images: 83.836145 %\n",
            "[84,   100] loss: 0.026\n",
            "Accuracy of the network on the 10000 test images: 83.875000 %\n",
            "[84,   200] loss: 0.045\n",
            "Accuracy of the network on the 10000 test images: 83.911271 %\n",
            "[84,   300] loss: 0.055\n",
            "Accuracy of the network on the 10000 test images: 83.944976 %\n",
            "[84,   400] loss: 0.057\n",
            "Accuracy of the network on the 10000 test images: 83.983294 %\n",
            "[84,   500] loss: 0.045\n",
            "Accuracy of the network on the 10000 test images: 84.016667 %\n",
            "[85,   100] loss: 0.013\n",
            "Accuracy of the network on the 10000 test images: 84.054632 %\n",
            "[85,   200] loss: 0.039\n",
            "Accuracy of the network on the 10000 test images: 84.092417 %\n",
            "[85,   300] loss: 0.045\n",
            "Accuracy of the network on the 10000 test images: 84.125296 %\n",
            "[85,   400] loss: 0.166\n",
            "Accuracy of the network on the 10000 test images: 84.150943 %\n",
            "[85,   500] loss: 0.211\n",
            "Accuracy of the network on the 10000 test images: 84.183529 %\n",
            "[86,   100] loss: 0.077\n",
            "Accuracy of the network on the 10000 test images: 84.218310 %\n",
            "[86,   200] loss: 0.059\n",
            "Accuracy of the network on the 10000 test images: 84.250585 %\n",
            "[86,   300] loss: 0.025\n",
            "Accuracy of the network on the 10000 test images: 84.287383 %\n",
            "[86,   400] loss: 0.267\n",
            "Accuracy of the network on the 10000 test images: 84.310023 %\n",
            "[86,   500] loss: 0.184\n",
            "Accuracy of the network on the 10000 test images: 84.325581 %\n",
            "[87,   100] loss: 0.098\n",
            "Accuracy of the network on the 10000 test images: 84.357309 %\n",
            "[87,   200] loss: 0.057\n",
            "Accuracy of the network on the 10000 test images: 84.388889 %\n",
            "[87,   300] loss: 0.110\n",
            "Accuracy of the network on the 10000 test images: 84.397229 %\n",
            "[87,   400] loss: 0.227\n",
            "Accuracy of the network on the 10000 test images: 84.419355 %\n",
            "[87,   500] loss: 0.142\n",
            "Accuracy of the network on the 10000 test images: 84.445977 %\n",
            "[88,   100] loss: 0.075\n",
            "Accuracy of the network on the 10000 test images: 84.474771 %\n",
            "[88,   200] loss: 0.223\n",
            "Accuracy of the network on the 10000 test images: 84.503432 %\n",
            "[88,   300] loss: 0.106\n",
            "Accuracy of the network on the 10000 test images: 84.531963 %\n",
            "[88,   400] loss: 0.100\n",
            "Accuracy of the network on the 10000 test images: 84.539863 %\n",
            "[88,   500] loss: 0.304\n",
            "Accuracy of the network on the 10000 test images: 84.563636 %\n",
            "[89,   100] loss: 0.110\n",
            "Accuracy of the network on the 10000 test images: 84.589569 %\n",
            "[89,   200] loss: 0.155\n",
            "Accuracy of the network on the 10000 test images: 84.622172 %\n",
            "[89,   300] loss: 0.083\n",
            "Accuracy of the network on the 10000 test images: 84.656885 %\n",
            "[89,   400] loss: 0.082\n",
            "Accuracy of the network on the 10000 test images: 84.686937 %\n",
            "[89,   500] loss: 0.105\n",
            "Accuracy of the network on the 10000 test images: 84.719101 %\n",
            "[90,   100] loss: 0.078\n",
            "Accuracy of the network on the 10000 test images: 84.753363 %\n",
            "[90,   200] loss: 0.051\n",
            "Accuracy of the network on the 10000 test images: 84.787472 %\n",
            "[90,   300] loss: 0.076\n",
            "Accuracy of the network on the 10000 test images: 84.819196 %\n",
            "[90,   400] loss: 0.043\n",
            "Accuracy of the network on the 10000 test images: 84.850780 %\n",
            "[90,   500] loss: 0.047\n",
            "Accuracy of the network on the 10000 test images: 84.882222 %\n",
            "[91,   100] loss: 0.042\n",
            "Accuracy of the network on the 10000 test images: 84.915743 %\n",
            "[91,   200] loss: 0.034\n",
            "Accuracy of the network on the 10000 test images: 84.949115 %\n",
            "[91,   300] loss: 0.070\n",
            "Accuracy of the network on the 10000 test images: 84.980132 %\n",
            "[91,   400] loss: 0.030\n",
            "Accuracy of the network on the 10000 test images: 85.011013 %\n",
            "[91,   500] loss: 0.052\n",
            "Accuracy of the network on the 10000 test images: 85.043956 %\n",
            "[92,   100] loss: 0.168\n",
            "Accuracy of the network on the 10000 test images: 85.065789 %\n",
            "[92,   200] loss: 0.123\n",
            "Accuracy of the network on the 10000 test images: 85.089716 %\n",
            "[92,   300] loss: 0.101\n",
            "Accuracy of the network on the 10000 test images: 85.117904 %\n",
            "[92,   400] loss: 0.079\n",
            "Accuracy of the network on the 10000 test images: 85.148148 %\n",
            "[92,   500] loss: 0.063\n",
            "Accuracy of the network on the 10000 test images: 85.180435 %\n",
            "[93,   100] loss: 0.056\n",
            "Accuracy of the network on the 10000 test images: 85.210412 %\n",
            "[93,   200] loss: 0.226\n",
            "Accuracy of the network on the 10000 test images: 85.235931 %\n",
            "[93,   300] loss: 0.137\n",
            "Accuracy of the network on the 10000 test images: 85.261339 %\n",
            "[93,   400] loss: 0.057\n",
            "Accuracy of the network on the 10000 test images: 85.290948 %\n",
            "[93,   500] loss: 0.052\n",
            "Accuracy of the network on the 10000 test images: 85.316129 %\n",
            "[94,   100] loss: 0.101\n",
            "Accuracy of the network on the 10000 test images: 85.347639 %\n",
            "[94,   200] loss: 0.067\n",
            "Accuracy of the network on the 10000 test images: 85.374732 %\n",
            "[94,   300] loss: 0.055\n",
            "Accuracy of the network on the 10000 test images: 85.403846 %\n",
            "[94,   400] loss: 0.090\n",
            "Accuracy of the network on the 10000 test images: 85.422175 %\n",
            "[94,   500] loss: 0.107\n",
            "Accuracy of the network on the 10000 test images: 85.446809 %\n",
            "[95,   100] loss: 0.103\n",
            "Accuracy of the network on the 10000 test images: 85.473461 %\n",
            "[95,   200] loss: 0.037\n",
            "Accuracy of the network on the 10000 test images: 85.502119 %\n",
            "[95,   300] loss: 0.068\n",
            "Accuracy of the network on the 10000 test images: 85.532770 %\n",
            "[95,   400] loss: 0.035\n",
            "Accuracy of the network on the 10000 test images: 85.563291 %\n",
            "[95,   500] loss: 0.028\n",
            "Accuracy of the network on the 10000 test images: 85.593684 %\n",
            "[96,   100] loss: 0.018\n",
            "Accuracy of the network on the 10000 test images: 85.623950 %\n",
            "[96,   200] loss: 0.028\n",
            "Accuracy of the network on the 10000 test images: 85.654088 %\n",
            "[96,   300] loss: 0.044\n",
            "Accuracy of the network on the 10000 test images: 85.684100 %\n",
            "[96,   400] loss: 0.049\n",
            "Accuracy of the network on the 10000 test images: 85.703549 %\n",
            "[96,   500] loss: 0.035\n",
            "Accuracy of the network on the 10000 test images: 85.733333 %\n",
            "[97,   100] loss: 0.043\n",
            "Accuracy of the network on the 10000 test images: 85.762994 %\n",
            "[97,   200] loss: 0.032\n",
            "Accuracy of the network on the 10000 test images: 85.790456 %\n",
            "[97,   300] loss: 0.108\n",
            "Accuracy of the network on the 10000 test images: 85.809524 %\n",
            "[97,   400] loss: 0.129\n",
            "Accuracy of the network on the 10000 test images: 85.834711 %\n",
            "[97,   500] loss: 0.101\n",
            "Accuracy of the network on the 10000 test images: 85.861856 %\n",
            "[98,   100] loss: 0.066\n",
            "Accuracy of the network on the 10000 test images: 85.888889 %\n",
            "[98,   200] loss: 0.060\n",
            "Accuracy of the network on the 10000 test images: 85.917864 %\n",
            "[98,   300] loss: 0.054\n",
            "Accuracy of the network on the 10000 test images: 85.946721 %\n",
            "[98,   400] loss: 0.069\n",
            "Accuracy of the network on the 10000 test images: 85.975460 %\n",
            "[98,   500] loss: 0.044\n",
            "Accuracy of the network on the 10000 test images: 86.004082 %\n",
            "[99,   100] loss: 0.046\n",
            "Accuracy of the network on the 10000 test images: 86.032587 %\n",
            "[99,   200] loss: 0.185\n",
            "Accuracy of the network on the 10000 test images: 86.032520 %\n",
            "[99,   300] loss: 0.232\n",
            "Accuracy of the network on the 10000 test images: 86.056795 %\n",
            "[99,   400] loss: 0.130\n",
            "Accuracy of the network on the 10000 test images: 86.078947 %\n",
            "[99,   500] loss: 0.112\n",
            "Accuracy of the network on the 10000 test images: 86.105051 %\n",
            "[100,   100] loss: 0.085\n",
            "Accuracy of the network on the 10000 test images: 86.131048 %\n",
            "[100,   200] loss: 0.110\n",
            "Accuracy of the network on the 10000 test images: 86.154930 %\n",
            "[100,   300] loss: 0.086\n",
            "Accuracy of the network on the 10000 test images: 86.178715 %\n",
            "[100,   400] loss: 0.061\n",
            "Accuracy of the network on the 10000 test images: 86.206413 %\n",
            "[100,   500] loss: 0.079\n",
            "Accuracy of the network on the 10000 test images: 86.230000 %\n",
            "4:11:14.751513\n"
          ],
          "name": "stdout"
        }
      ]
    },
    {
      "cell_type": "markdown",
      "metadata": {
        "id": "ImBRT8xGPSgJ"
      },
      "source": [
        "# GPU configuration "
      ]
    },
    {
      "cell_type": "code",
      "metadata": {
        "colab": {
          "base_uri": "https://localhost:8080/"
        },
        "id": "10hj64nzGSZ0",
        "outputId": "c92b8033-dcb9-45e5-db08-27ef5ef80fbc"
      },
      "source": [
        "#25gb usando 2 de ram\n",
        "gpu_info = !nvidia-smi\n",
        "gpu_info = '\\n'.join(gpu_info)\n",
        "if gpu_info.find('failed') >= 0:\n",
        "  print('Select the Runtime > \"Change runtime type\" menu to enable a GPU accelerator, ')\n",
        "  print('and then re-execute this cell.')\n",
        "else:\n",
        "  print(gpu_info)"
      ],
      "execution_count": null,
      "outputs": [
        {
          "output_type": "stream",
          "text": [
            "Wed Jun  9 00:13:01 2021       \n",
            "+-----------------------------------------------------------------------------+\n",
            "| NVIDIA-SMI 465.27       Driver Version: 460.32.03    CUDA Version: 11.2     |\n",
            "|-------------------------------+----------------------+----------------------+\n",
            "| GPU  Name        Persistence-M| Bus-Id        Disp.A | Volatile Uncorr. ECC |\n",
            "| Fan  Temp  Perf  Pwr:Usage/Cap|         Memory-Usage | GPU-Util  Compute M. |\n",
            "|                               |                      |               MIG M. |\n",
            "|===============================+======================+======================|\n",
            "|   0  Tesla P100-PCIE...  Off  | 00000000:00:04.0 Off |                    0 |\n",
            "| N/A   68C    P0    46W / 250W |   4635MiB / 16280MiB |      0%      Default |\n",
            "|                               |                      |                  N/A |\n",
            "+-------------------------------+----------------------+----------------------+\n",
            "                                                                               \n",
            "+-----------------------------------------------------------------------------+\n",
            "| Processes:                                                                  |\n",
            "|  GPU   GI   CI        PID   Type   Process name                  GPU Memory |\n",
            "|        ID   ID                                                   Usage      |\n",
            "|=============================================================================|\n",
            "+-----------------------------------------------------------------------------+\n"
          ],
          "name": "stdout"
        }
      ]
    },
    {
      "cell_type": "markdown",
      "metadata": {
        "id": "uablyqsHUssL"
      },
      "source": [
        "# Fim do teste"
      ]
    },
    {
      "cell_type": "markdown",
      "metadata": {
        "id": "viIeV9SM2Pkq"
      },
      "source": [
        "#Métricas do Fourier"
      ]
    },
    {
      "cell_type": "code",
      "metadata": {
        "id": "kmxU85DZPazU"
      },
      "source": [
        "model = ResNet_FNO_18().cuda()"
      ],
      "execution_count": 2,
      "outputs": []
    },
    {
      "cell_type": "code",
      "metadata": {
        "id": "jRWxZTf6PaIk",
        "colab": {
          "base_uri": "https://localhost:8080/"
        },
        "outputId": "31ec2d85-c170-4aeb-8029-5222d1afa221"
      },
      "source": [
        "model.load_state_dict(\n",
        "    torch.load(\"model_parte1.pth\"))"
      ],
      "execution_count": 3,
      "outputs": [
        {
          "output_type": "execute_result",
          "data": {
            "text/plain": [
              "<All keys matched successfully>"
            ]
          },
          "metadata": {
            "tags": []
          },
          "execution_count": 3
        }
      ]
    },
    {
      "cell_type": "markdown",
      "metadata": {
        "id": "7Bxvp5gtPrcB"
      },
      "source": [
        "## Opening the datasets"
      ]
    },
    {
      "cell_type": "code",
      "metadata": {
        "colab": {
          "base_uri": "https://localhost:8080/"
        },
        "id": "TAI_BAleedgX",
        "outputId": "1a8cef0a-687b-482c-8301-1df918e3b0e6"
      },
      "source": [
        "torch.manual_seed(0)\n",
        "np.random.seed(0)\n",
        "transform = transforms.Compose(\n",
        "    [transforms.ToTensor(),\n",
        "     transforms.Normalize((0.5, 0.5, 0.5), (0.5, 0.5, 0.5))])\n",
        "\n",
        "trainset = torchvision.datasets.CIFAR10(root='./data', train=True,\n",
        "                                        download=True, transform=transform)\n",
        "trainloader = torch.utils.data.DataLoader(trainset, batch_size=100,\n",
        "                                          shuffle=True, num_workers=4)\n",
        "\n",
        "testset = torchvision.datasets.CIFAR10(root='./data', train=False,\n",
        "                                       download=True, transform=transform)\n",
        "testloader = torch.utils.data.DataLoader(testset, batch_size=100,\n",
        "                                         shuffle=False, num_workers=4)\n",
        "\n",
        "classes = ('plane', 'car', 'bird', 'cat',\n",
        "           'deer', 'dog', 'frog', 'horse', 'ship', 'truck')"
      ],
      "execution_count": 4,
      "outputs": [
        {
          "output_type": "stream",
          "text": [
            "Files already downloaded and verified\n",
            "Files already downloaded and verified\n"
          ],
          "name": "stdout"
        }
      ]
    },
    {
      "cell_type": "markdown",
      "metadata": {
        "id": "PJcKtuUyPyaA"
      },
      "source": [
        "## Generating the confusion matrix for Testing dataset and FNO"
      ]
    },
    {
      "cell_type": "code",
      "metadata": {
        "colab": {
          "base_uri": "https://localhost:8080/"
        },
        "id": "Dhc8RdVC2R2c",
        "outputId": "9fab2e24-c0b9-4eb9-b226-c6735f04635c"
      },
      "source": [
        "nb_classes = 10\n",
        "\n",
        "confusion_matrix_fno_test = torch.zeros(nb_classes, nb_classes)\n",
        "with torch.no_grad():\n",
        "    for data in testloader:\n",
        "        images, labels = data[0].cuda(), data[1].cuda()\n",
        "        #images, labels = data[0], data[1]\n",
        "\n",
        "        outputs = model(images)#[:,-1,-1,:]\n",
        "        _, predicted = torch.max(outputs.data, 1)\n",
        "        for t, p in zip(labels.view(-1), predicted.view(-1)):\n",
        "                confusion_matrix_fno_test[t.long(), p.long()] += 1\n",
        "\n",
        "print(confusion_matrix_fno_test)"
      ],
      "execution_count": null,
      "outputs": [
        {
          "output_type": "stream",
          "text": [
            "tensor([[732.,  19.,  53.,  22.,  40.,  12.,  17.,  17.,  51.,  37.],\n",
            "        [ 17., 804.,   8.,  14.,   8.,   7.,  20.,   7.,  21.,  94.],\n",
            "        [ 75.,  11., 518.,  75., 124.,  66.,  77.,  30.,  12.,  12.],\n",
            "        [ 44.,  28.,  82., 420.,  94., 172.,  78.,  43.,  13.,  26.],\n",
            "        [ 18.,   5.,  49.,  70., 692.,  50.,  55.,  44.,  10.,   7.],\n",
            "        [ 17.,   6.,  57., 174.,  74., 545.,  45.,  61.,   9.,  12.],\n",
            "        [  9.,  14.,  34.,  63.,  81.,  37., 735.,   6.,   9.,  12.],\n",
            "        [ 10.,   9.,  25.,  50.,  75.,  64.,  15., 734.,   1.,  17.],\n",
            "        [108.,  42.,  15.,  26.,  34.,  11.,  11.,  10., 712.,  31.],\n",
            "        [ 36., 102.,  14.,  21.,  18.,  23.,  12.,  26.,  33., 715.]])\n"
          ],
          "name": "stdout"
        }
      ]
    },
    {
      "cell_type": "markdown",
      "metadata": {
        "id": "jRNF2NE8P4Uq"
      },
      "source": [
        "## Transforming into dataframe format for a better visualization"
      ]
    },
    {
      "cell_type": "code",
      "metadata": {
        "id": "jmZEqC_w2dko"
      },
      "source": [
        "confusion_matrix_fno_test_df=pd.DataFrame(confusion_matrix_fno_test.numpy(),columns=classes, index=classes)"
      ],
      "execution_count": null,
      "outputs": []
    },
    {
      "cell_type": "code",
      "metadata": {
        "colab": {
          "base_uri": "https://localhost:8080/",
          "height": 359
        },
        "id": "emqiJ0fJ2fJe",
        "outputId": "3f9a5d39-dbf7-4fbb-8a4c-a23770cb50e4"
      },
      "source": [
        "confusion_matrix_fno_test_df"
      ],
      "execution_count": null,
      "outputs": [
        {
          "output_type": "execute_result",
          "data": {
            "text/html": [
              "<div>\n",
              "<style scoped>\n",
              "    .dataframe tbody tr th:only-of-type {\n",
              "        vertical-align: middle;\n",
              "    }\n",
              "\n",
              "    .dataframe tbody tr th {\n",
              "        vertical-align: top;\n",
              "    }\n",
              "\n",
              "    .dataframe thead th {\n",
              "        text-align: right;\n",
              "    }\n",
              "</style>\n",
              "<table border=\"1\" class=\"dataframe\">\n",
              "  <thead>\n",
              "    <tr style=\"text-align: right;\">\n",
              "      <th></th>\n",
              "      <th>plane</th>\n",
              "      <th>car</th>\n",
              "      <th>bird</th>\n",
              "      <th>cat</th>\n",
              "      <th>deer</th>\n",
              "      <th>dog</th>\n",
              "      <th>frog</th>\n",
              "      <th>horse</th>\n",
              "      <th>ship</th>\n",
              "      <th>truck</th>\n",
              "    </tr>\n",
              "  </thead>\n",
              "  <tbody>\n",
              "    <tr>\n",
              "      <th>plane</th>\n",
              "      <td>732.0</td>\n",
              "      <td>19.0</td>\n",
              "      <td>53.0</td>\n",
              "      <td>22.0</td>\n",
              "      <td>40.0</td>\n",
              "      <td>12.0</td>\n",
              "      <td>17.0</td>\n",
              "      <td>17.0</td>\n",
              "      <td>51.0</td>\n",
              "      <td>37.0</td>\n",
              "    </tr>\n",
              "    <tr>\n",
              "      <th>car</th>\n",
              "      <td>17.0</td>\n",
              "      <td>804.0</td>\n",
              "      <td>8.0</td>\n",
              "      <td>14.0</td>\n",
              "      <td>8.0</td>\n",
              "      <td>7.0</td>\n",
              "      <td>20.0</td>\n",
              "      <td>7.0</td>\n",
              "      <td>21.0</td>\n",
              "      <td>94.0</td>\n",
              "    </tr>\n",
              "    <tr>\n",
              "      <th>bird</th>\n",
              "      <td>75.0</td>\n",
              "      <td>11.0</td>\n",
              "      <td>518.0</td>\n",
              "      <td>75.0</td>\n",
              "      <td>124.0</td>\n",
              "      <td>66.0</td>\n",
              "      <td>77.0</td>\n",
              "      <td>30.0</td>\n",
              "      <td>12.0</td>\n",
              "      <td>12.0</td>\n",
              "    </tr>\n",
              "    <tr>\n",
              "      <th>cat</th>\n",
              "      <td>44.0</td>\n",
              "      <td>28.0</td>\n",
              "      <td>82.0</td>\n",
              "      <td>420.0</td>\n",
              "      <td>94.0</td>\n",
              "      <td>172.0</td>\n",
              "      <td>78.0</td>\n",
              "      <td>43.0</td>\n",
              "      <td>13.0</td>\n",
              "      <td>26.0</td>\n",
              "    </tr>\n",
              "    <tr>\n",
              "      <th>deer</th>\n",
              "      <td>18.0</td>\n",
              "      <td>5.0</td>\n",
              "      <td>49.0</td>\n",
              "      <td>70.0</td>\n",
              "      <td>692.0</td>\n",
              "      <td>50.0</td>\n",
              "      <td>55.0</td>\n",
              "      <td>44.0</td>\n",
              "      <td>10.0</td>\n",
              "      <td>7.0</td>\n",
              "    </tr>\n",
              "    <tr>\n",
              "      <th>dog</th>\n",
              "      <td>17.0</td>\n",
              "      <td>6.0</td>\n",
              "      <td>57.0</td>\n",
              "      <td>174.0</td>\n",
              "      <td>74.0</td>\n",
              "      <td>545.0</td>\n",
              "      <td>45.0</td>\n",
              "      <td>61.0</td>\n",
              "      <td>9.0</td>\n",
              "      <td>12.0</td>\n",
              "    </tr>\n",
              "    <tr>\n",
              "      <th>frog</th>\n",
              "      <td>9.0</td>\n",
              "      <td>14.0</td>\n",
              "      <td>34.0</td>\n",
              "      <td>63.0</td>\n",
              "      <td>81.0</td>\n",
              "      <td>37.0</td>\n",
              "      <td>735.0</td>\n",
              "      <td>6.0</td>\n",
              "      <td>9.0</td>\n",
              "      <td>12.0</td>\n",
              "    </tr>\n",
              "    <tr>\n",
              "      <th>horse</th>\n",
              "      <td>10.0</td>\n",
              "      <td>9.0</td>\n",
              "      <td>25.0</td>\n",
              "      <td>50.0</td>\n",
              "      <td>75.0</td>\n",
              "      <td>64.0</td>\n",
              "      <td>15.0</td>\n",
              "      <td>734.0</td>\n",
              "      <td>1.0</td>\n",
              "      <td>17.0</td>\n",
              "    </tr>\n",
              "    <tr>\n",
              "      <th>ship</th>\n",
              "      <td>108.0</td>\n",
              "      <td>42.0</td>\n",
              "      <td>15.0</td>\n",
              "      <td>26.0</td>\n",
              "      <td>34.0</td>\n",
              "      <td>11.0</td>\n",
              "      <td>11.0</td>\n",
              "      <td>10.0</td>\n",
              "      <td>712.0</td>\n",
              "      <td>31.0</td>\n",
              "    </tr>\n",
              "    <tr>\n",
              "      <th>truck</th>\n",
              "      <td>36.0</td>\n",
              "      <td>102.0</td>\n",
              "      <td>14.0</td>\n",
              "      <td>21.0</td>\n",
              "      <td>18.0</td>\n",
              "      <td>23.0</td>\n",
              "      <td>12.0</td>\n",
              "      <td>26.0</td>\n",
              "      <td>33.0</td>\n",
              "      <td>715.0</td>\n",
              "    </tr>\n",
              "  </tbody>\n",
              "</table>\n",
              "</div>"
            ],
            "text/plain": [
              "       plane    car   bird    cat   deer    dog   frog  horse   ship  truck\n",
              "plane  732.0   19.0   53.0   22.0   40.0   12.0   17.0   17.0   51.0   37.0\n",
              "car     17.0  804.0    8.0   14.0    8.0    7.0   20.0    7.0   21.0   94.0\n",
              "bird    75.0   11.0  518.0   75.0  124.0   66.0   77.0   30.0   12.0   12.0\n",
              "cat     44.0   28.0   82.0  420.0   94.0  172.0   78.0   43.0   13.0   26.0\n",
              "deer    18.0    5.0   49.0   70.0  692.0   50.0   55.0   44.0   10.0    7.0\n",
              "dog     17.0    6.0   57.0  174.0   74.0  545.0   45.0   61.0    9.0   12.0\n",
              "frog     9.0   14.0   34.0   63.0   81.0   37.0  735.0    6.0    9.0   12.0\n",
              "horse   10.0    9.0   25.0   50.0   75.0   64.0   15.0  734.0    1.0   17.0\n",
              "ship   108.0   42.0   15.0   26.0   34.0   11.0   11.0   10.0  712.0   31.0\n",
              "truck   36.0  102.0   14.0   21.0   18.0   23.0   12.0   26.0   33.0  715.0"
            ]
          },
          "metadata": {
            "tags": []
          },
          "execution_count": 221
        }
      ]
    },
    {
      "cell_type": "markdown",
      "metadata": {
        "id": "zjW7OZxmP-PP"
      },
      "source": [
        "## Checking the number of observation for each class in testing dataset and FNO classification"
      ]
    },
    {
      "cell_type": "code",
      "metadata": {
        "colab": {
          "base_uri": "https://localhost:8080/"
        },
        "id": "FvHBKLMc2gAM",
        "outputId": "9a511b61-41b2-4ffe-de08-acbcc91ce094"
      },
      "source": [
        "confusion_matrix_fno_test_df.sum()"
      ],
      "execution_count": null,
      "outputs": [
        {
          "output_type": "execute_result",
          "data": {
            "text/plain": [
              "plane    1066.0\n",
              "car      1040.0\n",
              "bird      855.0\n",
              "cat       935.0\n",
              "deer     1240.0\n",
              "dog       987.0\n",
              "frog     1065.0\n",
              "horse     978.0\n",
              "ship      871.0\n",
              "truck     963.0\n",
              "dtype: float32"
            ]
          },
          "metadata": {
            "tags": []
          },
          "execution_count": 222
        }
      ]
    },
    {
      "cell_type": "markdown",
      "metadata": {
        "id": "68p5hVhyQGa3"
      },
      "source": [
        "## Measuring the accuracy by class in testing dataset and FNO (array format)"
      ]
    },
    {
      "cell_type": "code",
      "metadata": {
        "colab": {
          "base_uri": "https://localhost:8080/"
        },
        "id": "cdO0LbDk249U",
        "outputId": "6ae9db4f-48e2-4d7a-d934-332ab0cf6a31"
      },
      "source": [
        "# accuracy per class\n",
        "print(confusion_matrix_fno_test.diag()/confusion_matrix_fno_test.sum(1))"
      ],
      "execution_count": null,
      "outputs": [
        {
          "output_type": "stream",
          "text": [
            "tensor([0.7320, 0.8040, 0.5180, 0.4200, 0.6920, 0.5450, 0.7350, 0.7340, 0.7120,\n",
            "        0.7150])\n"
          ],
          "name": "stdout"
        }
      ]
    },
    {
      "cell_type": "markdown",
      "metadata": {
        "id": "1ZSs8qmdQQAc"
      },
      "source": [
        "## Measuring the overall accuracy for FNO and Testing dataset"
      ]
    },
    {
      "cell_type": "code",
      "metadata": {
        "colab": {
          "base_uri": "https://localhost:8080/"
        },
        "id": "vpkQG8NR2_tk",
        "outputId": "2f05fff1-9c10-458c-c05c-e611d9afd153"
      },
      "source": [
        "(confusion_matrix_fno_test.diag()/confusion_matrix_fno_test.sum(1)).mean()"
      ],
      "execution_count": null,
      "outputs": [
        {
          "output_type": "execute_result",
          "data": {
            "text/plain": [
              "tensor(0.6607)"
            ]
          },
          "metadata": {
            "tags": []
          },
          "execution_count": 224
        }
      ]
    },
    {
      "cell_type": "markdown",
      "metadata": {
        "id": "9cJ0szwtQVvm"
      },
      "source": [
        "## Accuracy by class in dataframe format (better visualization) - testing dataset and FNO"
      ]
    },
    {
      "cell_type": "code",
      "metadata": {
        "colab": {
          "base_uri": "https://localhost:8080/",
          "height": 80
        },
        "id": "W0ThnYK33DRc",
        "outputId": "73af3cf9-43b6-4f7e-957b-5afacec62d91"
      },
      "source": [
        "topk=pd.DataFrame((confusion_matrix_fno_test.diag()/confusion_matrix_fno_test.sum(1)).numpy()).T\n",
        "topk.index=[\"Accuracy\"]\n",
        "topk.columns=classes\n",
        "topk"
      ],
      "execution_count": null,
      "outputs": [
        {
          "output_type": "execute_result",
          "data": {
            "text/html": [
              "<div>\n",
              "<style scoped>\n",
              "    .dataframe tbody tr th:only-of-type {\n",
              "        vertical-align: middle;\n",
              "    }\n",
              "\n",
              "    .dataframe tbody tr th {\n",
              "        vertical-align: top;\n",
              "    }\n",
              "\n",
              "    .dataframe thead th {\n",
              "        text-align: right;\n",
              "    }\n",
              "</style>\n",
              "<table border=\"1\" class=\"dataframe\">\n",
              "  <thead>\n",
              "    <tr style=\"text-align: right;\">\n",
              "      <th></th>\n",
              "      <th>plane</th>\n",
              "      <th>car</th>\n",
              "      <th>bird</th>\n",
              "      <th>cat</th>\n",
              "      <th>deer</th>\n",
              "      <th>dog</th>\n",
              "      <th>frog</th>\n",
              "      <th>horse</th>\n",
              "      <th>ship</th>\n",
              "      <th>truck</th>\n",
              "    </tr>\n",
              "  </thead>\n",
              "  <tbody>\n",
              "    <tr>\n",
              "      <th>Accuracy</th>\n",
              "      <td>0.732</td>\n",
              "      <td>0.804</td>\n",
              "      <td>0.518</td>\n",
              "      <td>0.42</td>\n",
              "      <td>0.692</td>\n",
              "      <td>0.545</td>\n",
              "      <td>0.735</td>\n",
              "      <td>0.734</td>\n",
              "      <td>0.712</td>\n",
              "      <td>0.715</td>\n",
              "    </tr>\n",
              "  </tbody>\n",
              "</table>\n",
              "</div>"
            ],
            "text/plain": [
              "          plane    car   bird   cat   deer    dog   frog  horse   ship  truck\n",
              "Accuracy  0.732  0.804  0.518  0.42  0.692  0.545  0.735  0.734  0.712  0.715"
            ]
          },
          "metadata": {
            "tags": []
          },
          "execution_count": 225
        }
      ]
    },
    {
      "cell_type": "markdown",
      "metadata": {
        "id": "mFNCwnkAQdGa"
      },
      "source": [
        "## Measuring the Recall and Precision for Testing dataset and FNO"
      ]
    },
    {
      "cell_type": "code",
      "metadata": {
        "id": "1NaI23G93jWd"
      },
      "source": [
        "recall = np.diag(confusion_matrix_fno_test_df) / np.sum(confusion_matrix_fno_test_df, axis = 1)\n",
        "precision = np.diag(confusion_matrix_fno_test_df) / np.sum(confusion_matrix_fno_test_df, axis = 0)"
      ],
      "execution_count": null,
      "outputs": []
    },
    {
      "cell_type": "code",
      "metadata": {
        "colab": {
          "base_uri": "https://localhost:8080/"
        },
        "id": "x3qgG-2A3puA",
        "outputId": "3ef84d88-6a59-477b-a616-c40a681cd7c4"
      },
      "source": [
        "recall"
      ],
      "execution_count": null,
      "outputs": [
        {
          "output_type": "execute_result",
          "data": {
            "text/plain": [
              "plane    0.732\n",
              "car      0.804\n",
              "bird     0.518\n",
              "cat      0.420\n",
              "deer     0.692\n",
              "dog      0.545\n",
              "frog     0.735\n",
              "horse    0.734\n",
              "ship     0.712\n",
              "truck    0.715\n",
              "dtype: float32"
            ]
          },
          "metadata": {
            "tags": []
          },
          "execution_count": 227
        }
      ]
    },
    {
      "cell_type": "code",
      "metadata": {
        "colab": {
          "base_uri": "https://localhost:8080/"
        },
        "id": "Ea4l_3bH3qYj",
        "outputId": "7850f5dd-6cfc-42aa-c028-ccfd04a6648a"
      },
      "source": [
        "precision"
      ],
      "execution_count": null,
      "outputs": [
        {
          "output_type": "execute_result",
          "data": {
            "text/plain": [
              "plane    0.686679\n",
              "car      0.773077\n",
              "bird     0.605848\n",
              "cat      0.449198\n",
              "deer     0.558065\n",
              "dog      0.552178\n",
              "frog     0.690141\n",
              "horse    0.750511\n",
              "ship     0.817451\n",
              "truck    0.742471\n",
              "dtype: float32"
            ]
          },
          "metadata": {
            "tags": []
          },
          "execution_count": 228
        }
      ]
    },
    {
      "cell_type": "code",
      "metadata": {
        "colab": {
          "base_uri": "https://localhost:8080/"
        },
        "id": "Mh-CJICn3rTH",
        "outputId": "c3327990-86fd-4489-c4b9-a0b011c52d0b"
      },
      "source": [
        "#overall recall and precision\n",
        "print(np.mean(recall),\n",
        "np.mean(precision))"
      ],
      "execution_count": null,
      "outputs": [
        {
          "output_type": "stream",
          "text": [
            "0.6607000231742859 0.6625618934631348\n"
          ],
          "name": "stdout"
        }
      ]
    },
    {
      "cell_type": "markdown",
      "metadata": {
        "id": "ZhwvIvbQQiw-"
      },
      "source": [
        "## F-Score for testing dataset and FNO"
      ]
    },
    {
      "cell_type": "code",
      "metadata": {
        "colab": {
          "base_uri": "https://localhost:8080/"
        },
        "id": "oHYlTgoQ32Qp",
        "outputId": "9ac183c8-2bf6-43fb-cf8e-a8db878b826c"
      },
      "source": [
        "2*(precision*recall)/(precision+recall)"
      ],
      "execution_count": null,
      "outputs": [
        {
          "output_type": "execute_result",
          "data": {
            "text/plain": [
              "plane    0.708616\n",
              "car      0.788235\n",
              "bird     0.558491\n",
              "cat      0.434109\n",
              "deer     0.617857\n",
              "dog      0.548566\n",
              "frog     0.711864\n",
              "horse    0.742164\n",
              "ship     0.761090\n",
              "truck    0.728477\n",
              "dtype: float32"
            ]
          },
          "metadata": {
            "tags": []
          },
          "execution_count": 51
        }
      ]
    },
    {
      "cell_type": "markdown",
      "metadata": {
        "id": "trdhxZ5DQl_O"
      },
      "source": [
        "## Measuring the overall f-score for testing dataset and FNO"
      ]
    },
    {
      "cell_type": "code",
      "metadata": {
        "colab": {
          "base_uri": "https://localhost:8080/"
        },
        "id": "EV--7TgLZZ_o",
        "outputId": "c4d14026-f483-47d8-f61b-d70bf3776fbe"
      },
      "source": [
        "(2*(precision*recall)/(precision+recall)).mean()"
      ],
      "execution_count": null,
      "outputs": [
        {
          "output_type": "execute_result",
          "data": {
            "text/plain": [
              "0.6599467992782593"
            ]
          },
          "metadata": {
            "tags": []
          },
          "execution_count": 229
        }
      ]
    },
    {
      "cell_type": "markdown",
      "metadata": {
        "id": "rVWiSXBrbR1v"
      },
      "source": [
        "# Metrics for training dataset and FNO"
      ]
    },
    {
      "cell_type": "markdown",
      "metadata": {
        "id": "yqY1pRm0QyA0"
      },
      "source": [
        "## Generating the confusion matrix for training dataset and FNO"
      ]
    },
    {
      "cell_type": "code",
      "metadata": {
        "colab": {
          "base_uri": "https://localhost:8080/"
        },
        "id": "SV9Jz3-kbRHl",
        "outputId": "c19101ef-e425-4056-b540-6424cd517a6d"
      },
      "source": [
        "nb_classes = 10\n",
        "\n",
        "confusion_matrix_fno_train = torch.zeros(nb_classes, nb_classes)\n",
        "with torch.no_grad():\n",
        "    for data in trainloader:\n",
        "        images, labels = data[0].cuda(), data[1].cuda()\n",
        "        #images, labels = data[0], data[1]\n",
        "\n",
        "        outputs = model(images)#[:,-1,-1,:]\n",
        "        _, predicted = torch.max(outputs.data, 1)\n",
        "        for t, p in zip(labels.view(-1), predicted.view(-1)):\n",
        "                confusion_matrix_fno_train[t.long(), p.long()] += 1\n",
        "\n",
        "print(confusion_matrix_fno_train)"
      ],
      "execution_count": null,
      "outputs": [
        {
          "output_type": "stream",
          "text": [
            "tensor([[4.9720e+03, 1.0000e+00, 1.0000e+00, 1.0000e+00, 1.1000e+01, 2.0000e+00,\n",
            "         0.0000e+00, 4.0000e+00, 5.0000e+00, 3.0000e+00],\n",
            "        [6.0000e+00, 4.9840e+03, 0.0000e+00, 0.0000e+00, 0.0000e+00, 0.0000e+00,\n",
            "         0.0000e+00, 0.0000e+00, 4.0000e+00, 6.0000e+00],\n",
            "        [1.0000e+01, 1.0000e+00, 4.9560e+03, 3.0000e+00, 1.9000e+01, 2.0000e+00,\n",
            "         2.0000e+00, 5.0000e+00, 2.0000e+00, 0.0000e+00],\n",
            "        [3.0000e+00, 1.0000e+00, 1.0000e+00, 4.9720e+03, 1.0000e+01, 3.0000e+00,\n",
            "         2.0000e+00, 3.0000e+00, 4.0000e+00, 1.0000e+00],\n",
            "        [2.0000e+00, 0.0000e+00, 0.0000e+00, 0.0000e+00, 4.9980e+03, 0.0000e+00,\n",
            "         0.0000e+00, 0.0000e+00, 0.0000e+00, 0.0000e+00],\n",
            "        [2.0000e+00, 2.0000e+00, 0.0000e+00, 2.0000e+00, 1.3000e+01, 4.9760e+03,\n",
            "         1.0000e+00, 1.0000e+00, 2.0000e+00, 1.0000e+00],\n",
            "        [0.0000e+00, 0.0000e+00, 0.0000e+00, 4.0000e+00, 4.0000e+00, 0.0000e+00,\n",
            "         4.9920e+03, 0.0000e+00, 0.0000e+00, 0.0000e+00],\n",
            "        [0.0000e+00, 0.0000e+00, 1.0000e+00, 2.0000e+00, 6.0000e+00, 2.0000e+00,\n",
            "         2.0000e+00, 4.9860e+03, 1.0000e+00, 0.0000e+00],\n",
            "        [7.5000e+01, 1.9000e+01, 6.0000e+00, 4.0000e+00, 1.0000e+01, 3.0000e+00,\n",
            "         2.0000e+00, 1.0000e+00, 4.8690e+03, 1.1000e+01],\n",
            "        [1.0000e+01, 6.0000e+00, 2.0000e+00, 1.0000e+00, 6.0000e+00, 1.0000e+00,\n",
            "         2.0000e+00, 2.0000e+00, 2.0000e+00, 4.9680e+03]])\n"
          ],
          "name": "stdout"
        }
      ]
    },
    {
      "cell_type": "markdown",
      "metadata": {
        "id": "bIEQaL2MQ3XI"
      },
      "source": [
        "## Putting in the dataframe format for a better visualization"
      ]
    },
    {
      "cell_type": "code",
      "metadata": {
        "id": "0nMBkNafbvBk"
      },
      "source": [
        "confusion_matrix_fno_train_df=pd.DataFrame(confusion_matrix_fno_train.numpy(),columns=classes, index=classes)"
      ],
      "execution_count": null,
      "outputs": []
    },
    {
      "cell_type": "code",
      "metadata": {
        "colab": {
          "base_uri": "https://localhost:8080/",
          "height": 359
        },
        "id": "bfD6Wm9fbwqD",
        "outputId": "812bffa6-024a-4f40-b090-7eb18dd5c179"
      },
      "source": [
        "confusion_matrix_fno_train_df"
      ],
      "execution_count": null,
      "outputs": [
        {
          "output_type": "execute_result",
          "data": {
            "text/html": [
              "<div>\n",
              "<style scoped>\n",
              "    .dataframe tbody tr th:only-of-type {\n",
              "        vertical-align: middle;\n",
              "    }\n",
              "\n",
              "    .dataframe tbody tr th {\n",
              "        vertical-align: top;\n",
              "    }\n",
              "\n",
              "    .dataframe thead th {\n",
              "        text-align: right;\n",
              "    }\n",
              "</style>\n",
              "<table border=\"1\" class=\"dataframe\">\n",
              "  <thead>\n",
              "    <tr style=\"text-align: right;\">\n",
              "      <th></th>\n",
              "      <th>plane</th>\n",
              "      <th>car</th>\n",
              "      <th>bird</th>\n",
              "      <th>cat</th>\n",
              "      <th>deer</th>\n",
              "      <th>dog</th>\n",
              "      <th>frog</th>\n",
              "      <th>horse</th>\n",
              "      <th>ship</th>\n",
              "      <th>truck</th>\n",
              "    </tr>\n",
              "  </thead>\n",
              "  <tbody>\n",
              "    <tr>\n",
              "      <th>plane</th>\n",
              "      <td>4972.0</td>\n",
              "      <td>1.0</td>\n",
              "      <td>1.0</td>\n",
              "      <td>1.0</td>\n",
              "      <td>11.0</td>\n",
              "      <td>2.0</td>\n",
              "      <td>0.0</td>\n",
              "      <td>4.0</td>\n",
              "      <td>5.0</td>\n",
              "      <td>3.0</td>\n",
              "    </tr>\n",
              "    <tr>\n",
              "      <th>car</th>\n",
              "      <td>6.0</td>\n",
              "      <td>4984.0</td>\n",
              "      <td>0.0</td>\n",
              "      <td>0.0</td>\n",
              "      <td>0.0</td>\n",
              "      <td>0.0</td>\n",
              "      <td>0.0</td>\n",
              "      <td>0.0</td>\n",
              "      <td>4.0</td>\n",
              "      <td>6.0</td>\n",
              "    </tr>\n",
              "    <tr>\n",
              "      <th>bird</th>\n",
              "      <td>10.0</td>\n",
              "      <td>1.0</td>\n",
              "      <td>4956.0</td>\n",
              "      <td>3.0</td>\n",
              "      <td>19.0</td>\n",
              "      <td>2.0</td>\n",
              "      <td>2.0</td>\n",
              "      <td>5.0</td>\n",
              "      <td>2.0</td>\n",
              "      <td>0.0</td>\n",
              "    </tr>\n",
              "    <tr>\n",
              "      <th>cat</th>\n",
              "      <td>3.0</td>\n",
              "      <td>1.0</td>\n",
              "      <td>1.0</td>\n",
              "      <td>4972.0</td>\n",
              "      <td>10.0</td>\n",
              "      <td>3.0</td>\n",
              "      <td>2.0</td>\n",
              "      <td>3.0</td>\n",
              "      <td>4.0</td>\n",
              "      <td>1.0</td>\n",
              "    </tr>\n",
              "    <tr>\n",
              "      <th>deer</th>\n",
              "      <td>2.0</td>\n",
              "      <td>0.0</td>\n",
              "      <td>0.0</td>\n",
              "      <td>0.0</td>\n",
              "      <td>4998.0</td>\n",
              "      <td>0.0</td>\n",
              "      <td>0.0</td>\n",
              "      <td>0.0</td>\n",
              "      <td>0.0</td>\n",
              "      <td>0.0</td>\n",
              "    </tr>\n",
              "    <tr>\n",
              "      <th>dog</th>\n",
              "      <td>2.0</td>\n",
              "      <td>2.0</td>\n",
              "      <td>0.0</td>\n",
              "      <td>2.0</td>\n",
              "      <td>13.0</td>\n",
              "      <td>4976.0</td>\n",
              "      <td>1.0</td>\n",
              "      <td>1.0</td>\n",
              "      <td>2.0</td>\n",
              "      <td>1.0</td>\n",
              "    </tr>\n",
              "    <tr>\n",
              "      <th>frog</th>\n",
              "      <td>0.0</td>\n",
              "      <td>0.0</td>\n",
              "      <td>0.0</td>\n",
              "      <td>4.0</td>\n",
              "      <td>4.0</td>\n",
              "      <td>0.0</td>\n",
              "      <td>4992.0</td>\n",
              "      <td>0.0</td>\n",
              "      <td>0.0</td>\n",
              "      <td>0.0</td>\n",
              "    </tr>\n",
              "    <tr>\n",
              "      <th>horse</th>\n",
              "      <td>0.0</td>\n",
              "      <td>0.0</td>\n",
              "      <td>1.0</td>\n",
              "      <td>2.0</td>\n",
              "      <td>6.0</td>\n",
              "      <td>2.0</td>\n",
              "      <td>2.0</td>\n",
              "      <td>4986.0</td>\n",
              "      <td>1.0</td>\n",
              "      <td>0.0</td>\n",
              "    </tr>\n",
              "    <tr>\n",
              "      <th>ship</th>\n",
              "      <td>75.0</td>\n",
              "      <td>19.0</td>\n",
              "      <td>6.0</td>\n",
              "      <td>4.0</td>\n",
              "      <td>10.0</td>\n",
              "      <td>3.0</td>\n",
              "      <td>2.0</td>\n",
              "      <td>1.0</td>\n",
              "      <td>4869.0</td>\n",
              "      <td>11.0</td>\n",
              "    </tr>\n",
              "    <tr>\n",
              "      <th>truck</th>\n",
              "      <td>10.0</td>\n",
              "      <td>6.0</td>\n",
              "      <td>2.0</td>\n",
              "      <td>1.0</td>\n",
              "      <td>6.0</td>\n",
              "      <td>1.0</td>\n",
              "      <td>2.0</td>\n",
              "      <td>2.0</td>\n",
              "      <td>2.0</td>\n",
              "      <td>4968.0</td>\n",
              "    </tr>\n",
              "  </tbody>\n",
              "</table>\n",
              "</div>"
            ],
            "text/plain": [
              "        plane     car    bird     cat  ...    frog   horse    ship   truck\n",
              "plane  4972.0     1.0     1.0     1.0  ...     0.0     4.0     5.0     3.0\n",
              "car       6.0  4984.0     0.0     0.0  ...     0.0     0.0     4.0     6.0\n",
              "bird     10.0     1.0  4956.0     3.0  ...     2.0     5.0     2.0     0.0\n",
              "cat       3.0     1.0     1.0  4972.0  ...     2.0     3.0     4.0     1.0\n",
              "deer      2.0     0.0     0.0     0.0  ...     0.0     0.0     0.0     0.0\n",
              "dog       2.0     2.0     0.0     2.0  ...     1.0     1.0     2.0     1.0\n",
              "frog      0.0     0.0     0.0     4.0  ...  4992.0     0.0     0.0     0.0\n",
              "horse     0.0     0.0     1.0     2.0  ...     2.0  4986.0     1.0     0.0\n",
              "ship     75.0    19.0     6.0     4.0  ...     2.0     1.0  4869.0    11.0\n",
              "truck    10.0     6.0     2.0     1.0  ...     2.0     2.0     2.0  4968.0\n",
              "\n",
              "[10 rows x 10 columns]"
            ]
          },
          "metadata": {
            "tags": []
          },
          "execution_count": 232
        }
      ]
    },
    {
      "cell_type": "markdown",
      "metadata": {
        "id": "tpjJkIPTQ9YJ"
      },
      "source": [
        "## Couting the number of observation of each class in the training dataset and FNO classification"
      ]
    },
    {
      "cell_type": "code",
      "metadata": {
        "colab": {
          "base_uri": "https://localhost:8080/"
        },
        "id": "40rM2mqacIp6",
        "outputId": "5dfc2ccf-c006-4259-fc38-b3c3349a8976"
      },
      "source": [
        "confusion_matrix_fno_train_df.sum()"
      ],
      "execution_count": null,
      "outputs": [
        {
          "output_type": "execute_result",
          "data": {
            "text/plain": [
              "plane    5080.0\n",
              "car      5014.0\n",
              "bird     4967.0\n",
              "cat      4989.0\n",
              "deer     5077.0\n",
              "dog      4989.0\n",
              "frog     5003.0\n",
              "horse    5002.0\n",
              "ship     4889.0\n",
              "truck    4990.0\n",
              "dtype: float32"
            ]
          },
          "metadata": {
            "tags": []
          },
          "execution_count": 233
        }
      ]
    },
    {
      "cell_type": "markdown",
      "metadata": {
        "id": "Xrim-3nXREir"
      },
      "source": [
        "## Accuracy by class for training dataset and FNO"
      ]
    },
    {
      "cell_type": "code",
      "metadata": {
        "colab": {
          "base_uri": "https://localhost:8080/"
        },
        "id": "NTgK43lVcbKM",
        "outputId": "bcc8dad7-2a32-43bf-a9c4-cf3065f78e5b"
      },
      "source": [
        "# accuracy per class\n",
        "print(confusion_matrix_fno_train.diag()/confusion_matrix_fno_train.sum(1))"
      ],
      "execution_count": null,
      "outputs": [
        {
          "output_type": "stream",
          "text": [
            "tensor([0.9944, 0.9968, 0.9912, 0.9944, 0.9996, 0.9952, 0.9984, 0.9972, 0.9738,\n",
            "        0.9936])\n"
          ],
          "name": "stdout"
        }
      ]
    },
    {
      "cell_type": "markdown",
      "metadata": {
        "id": "OnYUROl_RJQ3"
      },
      "source": [
        "## Overall accuracy for training dataset and FNO"
      ]
    },
    {
      "cell_type": "code",
      "metadata": {
        "colab": {
          "base_uri": "https://localhost:8080/"
        },
        "id": "czN6Suh6cjlq",
        "outputId": "8fec4dad-e284-4945-ee74-678e4cc3748c"
      },
      "source": [
        "(confusion_matrix_fno_train.diag()/confusion_matrix_fno_train.sum(1)).mean()"
      ],
      "execution_count": null,
      "outputs": [
        {
          "output_type": "execute_result",
          "data": {
            "text/plain": [
              "tensor(0.9935)"
            ]
          },
          "metadata": {
            "tags": []
          },
          "execution_count": 235
        }
      ]
    },
    {
      "cell_type": "markdown",
      "metadata": {
        "id": "dNrM5KP3RNq1"
      },
      "source": [
        "## Accuracy by class for training dataset and FNO"
      ]
    },
    {
      "cell_type": "code",
      "metadata": {
        "colab": {
          "base_uri": "https://localhost:8080/",
          "height": 80
        },
        "id": "TlTUYbskct1n",
        "outputId": "d5c7a2dc-2399-4ed8-da0d-d2d36809772e"
      },
      "source": [
        "topk=pd.DataFrame((confusion_matrix_fno_train.diag()/confusion_matrix_fno_train.sum(1)).numpy()).T\n",
        "topk.index=[\"Accuracy\"]\n",
        "topk.columns=classes\n",
        "topk"
      ],
      "execution_count": null,
      "outputs": [
        {
          "output_type": "execute_result",
          "data": {
            "text/html": [
              "<div>\n",
              "<style scoped>\n",
              "    .dataframe tbody tr th:only-of-type {\n",
              "        vertical-align: middle;\n",
              "    }\n",
              "\n",
              "    .dataframe tbody tr th {\n",
              "        vertical-align: top;\n",
              "    }\n",
              "\n",
              "    .dataframe thead th {\n",
              "        text-align: right;\n",
              "    }\n",
              "</style>\n",
              "<table border=\"1\" class=\"dataframe\">\n",
              "  <thead>\n",
              "    <tr style=\"text-align: right;\">\n",
              "      <th></th>\n",
              "      <th>plane</th>\n",
              "      <th>car</th>\n",
              "      <th>bird</th>\n",
              "      <th>cat</th>\n",
              "      <th>deer</th>\n",
              "      <th>dog</th>\n",
              "      <th>frog</th>\n",
              "      <th>horse</th>\n",
              "      <th>ship</th>\n",
              "      <th>truck</th>\n",
              "    </tr>\n",
              "  </thead>\n",
              "  <tbody>\n",
              "    <tr>\n",
              "      <th>Accuracy</th>\n",
              "      <td>0.9944</td>\n",
              "      <td>0.9968</td>\n",
              "      <td>0.9912</td>\n",
              "      <td>0.9944</td>\n",
              "      <td>0.9996</td>\n",
              "      <td>0.9952</td>\n",
              "      <td>0.9984</td>\n",
              "      <td>0.9972</td>\n",
              "      <td>0.9738</td>\n",
              "      <td>0.9936</td>\n",
              "    </tr>\n",
              "  </tbody>\n",
              "</table>\n",
              "</div>"
            ],
            "text/plain": [
              "           plane     car    bird     cat  ...    frog   horse    ship   truck\n",
              "Accuracy  0.9944  0.9968  0.9912  0.9944  ...  0.9984  0.9972  0.9738  0.9936\n",
              "\n",
              "[1 rows x 10 columns]"
            ]
          },
          "metadata": {
            "tags": []
          },
          "execution_count": 236
        }
      ]
    },
    {
      "cell_type": "markdown",
      "metadata": {
        "id": "FeuhUmfgRSNB"
      },
      "source": [
        "## Measuring the Recall and Precision for training dataset and FNO"
      ]
    },
    {
      "cell_type": "code",
      "metadata": {
        "id": "fdbOy6eUdMzY"
      },
      "source": [
        "recall = np.diag(confusion_matrix_fno_train_df) / np.sum(confusion_matrix_fno_train_df, axis = 1)\n",
        "precision = np.diag(confusion_matrix_fno_train_df) / np.sum(confusion_matrix_fno_train_df, axis = 0)"
      ],
      "execution_count": null,
      "outputs": []
    },
    {
      "cell_type": "code",
      "metadata": {
        "colab": {
          "base_uri": "https://localhost:8080/"
        },
        "id": "6LXWXTptdUei",
        "outputId": "04759644-7ef6-4202-b99f-ed8ab9757b76"
      },
      "source": [
        "recall"
      ],
      "execution_count": null,
      "outputs": [
        {
          "output_type": "execute_result",
          "data": {
            "text/plain": [
              "plane    0.9944\n",
              "car      0.9968\n",
              "bird     0.9912\n",
              "cat      0.9944\n",
              "deer     0.9996\n",
              "dog      0.9952\n",
              "frog     0.9984\n",
              "horse    0.9972\n",
              "ship     0.9738\n",
              "truck    0.9936\n",
              "dtype: float32"
            ]
          },
          "metadata": {
            "tags": []
          },
          "execution_count": 238
        }
      ]
    },
    {
      "cell_type": "code",
      "metadata": {
        "colab": {
          "base_uri": "https://localhost:8080/"
        },
        "id": "Ri-KRrWwdXDB",
        "outputId": "7aa440e1-ca43-4730-f656-74c680ff9b2a"
      },
      "source": [
        "precision"
      ],
      "execution_count": null,
      "outputs": [
        {
          "output_type": "execute_result",
          "data": {
            "text/plain": [
              "plane    0.978740\n",
              "car      0.994017\n",
              "bird     0.997785\n",
              "cat      0.996593\n",
              "deer     0.984440\n",
              "dog      0.997394\n",
              "frog     0.997801\n",
              "horse    0.996801\n",
              "ship     0.995909\n",
              "truck    0.995591\n",
              "dtype: float32"
            ]
          },
          "metadata": {
            "tags": []
          },
          "execution_count": 239
        }
      ]
    },
    {
      "cell_type": "code",
      "metadata": {
        "colab": {
          "base_uri": "https://localhost:8080/"
        },
        "id": "hJZ5WiLJdYyk",
        "outputId": "37bc6af2-4b48-411a-bc0a-cf4e3bfa6b33"
      },
      "source": [
        "#overall recall and precision\n",
        "print(np.mean(recall),\n",
        "np.mean(precision))"
      ],
      "execution_count": null,
      "outputs": [
        {
          "output_type": "stream",
          "text": [
            "0.9934599995613098 0.9935070872306824\n"
          ],
          "name": "stdout"
        }
      ]
    },
    {
      "cell_type": "markdown",
      "metadata": {
        "id": "9KOtaJhYRXlP"
      },
      "source": [
        "## Measuring the f-score for training dataset and FNO"
      ]
    },
    {
      "cell_type": "code",
      "metadata": {
        "colab": {
          "base_uri": "https://localhost:8080/"
        },
        "id": "h5OoDmKzdfbp",
        "outputId": "ffbc9ce9-e71e-4eb0-f875-99686682d1ab"
      },
      "source": [
        "2*(precision*recall)/(precision+recall)"
      ],
      "execution_count": null,
      "outputs": [
        {
          "output_type": "execute_result",
          "data": {
            "text/plain": [
              "plane    0.986508\n",
              "car      0.995406\n",
              "bird     0.994482\n",
              "cat      0.995495\n",
              "deer     0.991962\n",
              "dog      0.996296\n",
              "frog     0.998101\n",
              "horse    0.997001\n",
              "ship     0.984730\n",
              "truck    0.994595\n",
              "dtype: float32"
            ]
          },
          "metadata": {
            "tags": []
          },
          "execution_count": 241
        }
      ]
    },
    {
      "cell_type": "markdown",
      "metadata": {
        "id": "AbKhongERcia"
      },
      "source": [
        "## Overall f-score for training dataset and FNO"
      ]
    },
    {
      "cell_type": "code",
      "metadata": {
        "colab": {
          "base_uri": "https://localhost:8080/"
        },
        "id": "MD8KwQfMZjh7",
        "outputId": "8aa70a40-0be4-4dd1-d9fe-031534bcef72"
      },
      "source": [
        "(2*(precision*recall)/(precision+recall)).mean()"
      ],
      "execution_count": null,
      "outputs": [
        {
          "output_type": "execute_result",
          "data": {
            "text/plain": [
              "0.9934574961662292"
            ]
          },
          "metadata": {
            "tags": []
          },
          "execution_count": 242
        }
      ]
    },
    {
      "cell_type": "markdown",
      "metadata": {
        "id": "BaI1PD31_r75"
      },
      "source": [
        "# Comparison"
      ]
    },
    {
      "cell_type": "code",
      "metadata": {
        "id": "POUwIOyzzPq7"
      },
      "source": [
        "import pandas as pd\n",
        "import matplotlib.pyplot as plt"
      ],
      "execution_count": null,
      "outputs": []
    },
    {
      "cell_type": "code",
      "metadata": {
        "id": "LCXlbrsZ_tLE"
      },
      "source": [
        "res=pd.read_pickle(\"resnet99.pickle\")"
      ],
      "execution_count": null,
      "outputs": []
    },
    {
      "cell_type": "code",
      "metadata": {
        "id": "k3WllEHfAMsk"
      },
      "source": [
        "four=pd.read_pickle(\"99.pickle\")"
      ],
      "execution_count": null,
      "outputs": []
    },
    {
      "cell_type": "code",
      "metadata": {
        "colab": {
          "base_uri": "https://localhost:8080/",
          "height": 312
        },
        "id": "leOCDKSWAQnj",
        "outputId": "102a837e-d338-4938-a56f-5a88be30c9b3"
      },
      "source": [
        "plt.plot(res.index,res.Accuracy,c=\"g\",label=\"ResNet 18\")\n",
        "plt.plot(four.index,four.Accuracy,c=\"b\",label=\"Fourier Neural Operator\")\n",
        "plt.title(\"Accuracy Comparison\")\n",
        "plt.legend(loc=\"lower right\")\n",
        "plt.xlabel(\"Epoch x Sample\")\n",
        "plt.ylabel(\"Accuracy\")\n",
        "plt.figure(figsize=(20,20))\n",
        "plt.show()"
      ],
      "execution_count": null,
      "outputs": [
        {
          "output_type": "display_data",
          "data": {
            "image/png": "[encoded data removed]",
            "text/plain": [
              "<Figure size 432x288 with 1 Axes>"
            ]
          },
          "metadata": {
            "tags": [],
            "needs_background": "light"
          }
        },
        {
          "output_type": "display_data",
          "data": {
            "text/plain": [
              "<Figure size 1440x1440 with 0 Axes>"
            ]
          },
          "metadata": {
            "tags": []
          }
        }
      ]
    },
    {
      "cell_type": "code",
      "metadata": {
        "id": "GQ52fVflAtEE",
        "colab": {
          "base_uri": "https://localhost:8080/",
          "height": 312
        },
        "outputId": "30c1bf11-bb94-4b71-d7ab-e02b2898b14a"
      },
      "source": [
        "plt.plot(res.index,res.Loss,c=\"g\",label=\"ResNet 18\")\n",
        "plt.plot(four.index,four.Loss,c=\"b\",label=\"Fourier Neural Operator\")\n",
        "plt.title(\"Loss Comparison\")\n",
        "plt.legend(loc=\"upper right\")\n",
        "plt.xlabel(\"Epoch x Sample\")\n",
        "plt.ylabel(\"Loss\")\n",
        "plt.figure(figsize=(20,20))\n",
        "plt.show()"
      ],
      "execution_count": null,
      "outputs": [
        {
          "output_type": "display_data",
          "data": {
            "image/png": "[encoded data removed]",
            "text/plain": [
              "<Figure size 432x288 with 1 Axes>"
            ]
          },
          "metadata": {
            "tags": [],
            "needs_background": "light"
          }
        },
        {
          "output_type": "display_data",
          "data": {
            "text/plain": [
              "<Figure size 1440x1440 with 0 Axes>"
            ]
          },
          "metadata": {
            "tags": []
          }
        }
      ]
    },
    {
      "cell_type": "markdown",
      "metadata": {
        "id": "lIRZR4knLg-V"
      },
      "source": [
        "# Krippendorff Test for concordance"
      ]
    },
    {
      "cell_type": "code",
      "metadata": {
        "colab": {
          "base_uri": "https://localhost:8080/"
        },
        "id": "D9xTrWmxEHt_",
        "outputId": "fb8986da-9d05-4b01-90a5-dc223625a442"
      },
      "source": [
        "!pip install krippendorff"
      ],
      "execution_count": 32,
      "outputs": [
        {
          "output_type": "stream",
          "text": [
            "Requirement already satisfied: krippendorff in /usr/local/lib/python3.7/dist-packages (0.4.0)\n",
            "Requirement already satisfied: numpy in /usr/local/lib/python3.7/dist-packages (from krippendorff) (1.19.5)\n"
          ],
          "name": "stdout"
        }
      ]
    },
    {
      "cell_type": "code",
      "metadata": {
        "id": "24iaQozqEJx5"
      },
      "source": [
        "import krippendorff\n",
        "import numpy as np"
      ],
      "execution_count": 37,
      "outputs": []
    },
    {
      "cell_type": "code",
      "metadata": {
        "colab": {
          "base_uri": "https://localhost:8080/"
        },
        "id": "idMhYPLHL_4W",
        "outputId": "38d40e02-780a-4f79-f95e-0dddf165d8f8"
      },
      "source": [
        "concordance_list=[]\n",
        "for i in range(len(confusion_matrix_resnet_train)):\n",
        "  reliability_data = [confusion_matrix_resnet_train[i], confusion_matrix_fno_train[i]]\n",
        "  concordance=krippendorff.alpha(reliability_data=reliability_data)\n",
        "  concordance_list.append(concordance)\n",
        "  print(concordance)"
      ],
      "execution_count": 49,
      "outputs": [
        {
          "output_type": "stream",
          "text": [
            "0.9917991033260983\n",
            "0.9880868981207777\n",
            "0.9836674780456829\n",
            "0.9729879422947731\n",
            "0.9776896155531072\n",
            "0.9840679256425527\n",
            "0.9904308800956225\n",
            "0.971082996191065\n",
            "0.986377489765394\n",
            "0.9907558290067741\n"
          ],
          "name": "stdout"
        }
      ]
    },
    {
      "cell_type": "code",
      "metadata": {
        "colab": {
          "base_uri": "https://localhost:8080/"
        },
        "id": "Ugn8NwoNMML0",
        "outputId": "2b1b8d72-5a34-42a3-c82e-6ce0b9e5693c"
      },
      "source": [
        "np.mean(concordance_list)"
      ],
      "execution_count": 51,
      "outputs": [
        {
          "output_type": "execute_result",
          "data": {
            "text/plain": [
              "0.9836946158041847"
            ]
          },
          "metadata": {
            "tags": []
          },
          "execution_count": 51
        }
      ]
    },
    {
      "cell_type": "code",
      "metadata": {
        "colab": {
          "base_uri": "https://localhost:8080/"
        },
        "id": "mXQ5RrbHLz01",
        "outputId": "0280b655-8658-4871-a426-0834edfc6531"
      },
      "source": [
        "concordance_list=[]\n",
        "for i in range(len(confusion_matrix_resnet_test)):\n",
        "  reliability_data = [confusion_matrix_resnet_test[i], confusion_matrix_fno_test[i]]\n",
        "  concordance=krippendorff.alpha(reliability_data=reliability_data)\n",
        "  concordance_list.append(concordance)\n",
        "  print(concordance)"
      ],
      "execution_count": 52,
      "outputs": [
        {
          "output_type": "stream",
          "text": [
            "0.9991741386372947\n",
            "0.9784558711425768\n",
            "0.9951499220789735\n",
            "0.9946440495341002\n",
            "0.9470550124275062\n",
            "0.9962987012987014\n",
            "0.9963070071567068\n",
            "0.9592532230327417\n",
            "0.9953478133625322\n",
            "0.9975417548812044\n"
          ],
          "name": "stdout"
        }
      ]
    },
    {
      "cell_type": "code",
      "metadata": {
        "colab": {
          "base_uri": "https://localhost:8080/"
        },
        "id": "hx_NglP2L8R0",
        "outputId": "076f3b2d-3482-4e17-bbe2-09bcbce51a10"
      },
      "source": [
        "np.mean(concordance_list)"
      ],
      "execution_count": 53,
      "outputs": [
        {
          "output_type": "execute_result",
          "data": {
            "text/plain": [
              "0.9859227493552337"
            ]
          },
          "metadata": {
            "tags": []
          },
          "execution_count": 53
        }
      ]
    },
    {
      "cell_type": "code",
      "metadata": {
        "id": "fvR1cKmvNd8H"
      },
      "source": [
        ""
      ],
      "execution_count": null,
      "outputs": []
    }
  ]
}